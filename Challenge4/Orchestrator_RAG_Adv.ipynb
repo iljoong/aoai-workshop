{
 "cells": [
  {
   "cell_type": "markdown",
   "id": "b87ca4a0-bcb9-427e-824a-373e3f4aac0f",
   "metadata": {},
   "source": [
    "# AI Orchestrator - RAG Advance"
   ]
  },
  {
   "cell_type": "code",
   "execution_count": 1,
   "id": "c49d0c83-7c09-4578-a2cc-d3299524dd09",
   "metadata": {},
   "outputs": [
    {
     "data": {
      "text/plain": [
       "True"
      ]
     },
     "execution_count": 1,
     "metadata": {},
     "output_type": "execute_result"
    }
   ],
   "source": [
    "from dotenv import load_dotenv\n",
    "load_dotenv()"
   ]
  },
  {
   "cell_type": "markdown",
   "id": "5f843749-02b3-4f89-b256-bac64968daba",
   "metadata": {},
   "source": [
    "## Prep"
   ]
  },
  {
   "cell_type": "code",
   "execution_count": 2,
   "id": "4c1b2c57-897b-4cf7-8e6e-3d74c4adbe4a",
   "metadata": {},
   "outputs": [],
   "source": [
    "import os\n",
    "from openai import AzureOpenAI\n",
    "\n",
    "#MODEL = \"gpt-4o\"\n",
    "MODEL = \"gpt-35-turbo-1106\"\n",
    "client = AzureOpenAI(\n",
    "    api_key=os.environ['AZURE_OPENAI_KEY2'],\n",
    "    #api_version=\"2024-10-01-preview\",\n",
    "    api_version=\"2023-12-01-preview\",\n",
    "    azure_endpoint = os.environ['AZURE_OPENAI_ENDPOINT2']\n",
    ")"
   ]
  },
  {
   "cell_type": "raw",
   "id": "c7742140-e892-42ad-86f5-32029c218255",
   "metadata": {
    "vscode": {
     "languageId": "raw"
    }
   },
   "source": [
    "# Entra ID authentication with Managed ID\n",
    "import os\n",
    "from openai import AzureOpenAI\n",
    "from azure.identity import DefaultAzureCredential, get_bearer_token_provider\n",
    "\n",
    "MODEL = \"gpt-4o\"\n",
    "#MODEL = \"gpt-35-turbo\"\n",
    "client = AzureOpenAI(\n",
    "    azure_endpoint=os.environ['AZURE_OPENAI_ENDPOINT'],\n",
    "    azure_ad_token_provider=get_bearer_token_provider(DefaultAzureCredential(), \"https://cognitiveservices.azure.com/.default\"),\n",
    "    api_version=\"2023-12-01-preview\",\n",
    ")"
   ]
  },
  {
   "cell_type": "code",
   "execution_count": 3,
   "id": "447d4d4c-0cd8-48ee-9618-0aaad4f67d53",
   "metadata": {},
   "outputs": [],
   "source": [
    "def _chat_gpt(messages, model=MODEL, temp=0.0, topp=0.1):\n",
    "    response = client.chat.completions.create(\n",
    "        model=model,\n",
    "        messages=messages,\n",
    "        temperature=temp,\n",
    "        max_tokens=4000,\n",
    "        top_p=topp\n",
    "    )   \n",
    "    \n",
    "    return response.choices[0].message.content"
   ]
  },
  {
   "cell_type": "code",
   "execution_count": 4,
   "id": "17cc2b52-a833-405b-80f2-8d85f2f99b85",
   "metadata": {},
   "outputs": [],
   "source": [
    "from azure.core.credentials import AzureKeyCredential\n",
    "import os\n",
    "\n",
    "endpoint = os.environ[\"AZSCH_ENDPOINT\"]\n",
    "credential = AzureKeyCredential(os.environ[\"AZSCH_KEY\"])\n",
    "\n",
    "index_name = os.environ[\"AZSCH_INDEX_NAME\"]"
   ]
  },
  {
   "cell_type": "raw",
   "id": "9788cd97-b593-4ef2-af61-19d391d7ab4e",
   "metadata": {
    "vscode": {
     "languageId": "raw"
    }
   },
   "source": [
    "# Entra ID authentication with Managed ID\n",
    "from azure.identity import DefaultAzureCredential\n",
    "from azure.core.credentials import AzureKeyCredential\n",
    "import os\n",
    "\n",
    "endpoint = os.environ[\"AZSCH_ENDPOINT\"]\n",
    "credential = DefaultAzureCredential()\n",
    "\n",
    "index_name = os.environ[\"AZSCH_INDEX_NAME\"]"
   ]
  },
  {
   "cell_type": "code",
   "execution_count": 5,
   "id": "c80d1374-1903-4cf5-ba04-c5e35ac9f231",
   "metadata": {},
   "outputs": [],
   "source": [
    "# prompt templates\n",
    "from jinja2 import Template\n",
    "from common import parse_chat\n",
    "\n",
    "with open('./determine_reply.jinja2') as file:\n",
    "    reply_template = file.read()\n",
    "\n",
    "with open('./determine_intent.jinja2') as file:\n",
    "    intent_template = file.read()"
   ]
  },
  {
   "cell_type": "markdown",
   "id": "cdcb089d-c485-484b-999a-28eae0fd8489",
   "metadata": {},
   "source": [
    "## Intent"
   ]
  },
  {
   "cell_type": "code",
   "execution_count": 6,
   "id": "016a0fd3-64b2-4984-9671-6f51438e90b4",
   "metadata": {},
   "outputs": [],
   "source": [
    "def determine_intent(query, intent_history):\n",
    "    prompt = Template(intent_template, trim_blocks=True, keep_trailing_newline=True).render(\n",
    "        intent_history=intent_history,\n",
    "        query=query\n",
    "    )\n",
    "\n",
    "    messages = parse_chat(prompt)\n",
    "    \n",
    "    return _chat_gpt(messages)\n",
    "\n",
    "def extract_intent(input: str, query: str) -> str:\n",
    "  entries = None\n",
    "  if 'Single Intents:' in input:\n",
    "    entries = input.split('Single Intents:', 2)\n",
    "  elif 'Single Intent:' in input:\n",
    "    entries = input.split('Single Intent:', 2)\n",
    "  \n",
    "  if entries and len(entries) == 2:\n",
    "    return {\n",
    "      \"current_message_intent\": entries[0].strip(),\n",
    "      \"search_intents\": entries[1].strip()\n",
    "    }\n",
    "  return {\n",
    "      \"current_message_intent\": query,\n",
    "      \"search_intents\": query\n",
    "  }"
   ]
  },
  {
   "cell_type": "code",
   "execution_count": 7,
   "id": "47a715cb-8ac9-4261-8629-563cfb54f57f",
   "metadata": {},
   "outputs": [],
   "source": [
    "import json\n",
    "\n",
    "def get_search_intent(query, intent_history):\n",
    "    raw_intent = determine_intent(query, intent_history)\n",
    "    intent = extract_intent(raw_intent, query)\n",
    "    js = json.loads(intent['search_intents'])\n",
    "    \n",
    "    return js[0] if len(js) != 0 else \"\", raw_intent"
   ]
  },
  {
   "cell_type": "code",
   "execution_count": 8,
   "id": "f61067ad-5f2b-4f86-85ac-9463b43784b5",
   "metadata": {},
   "outputs": [
    {
     "data": {
      "text/plain": [
       "'what is Assistant API?'"
      ]
     },
     "execution_count": 8,
     "metadata": {},
     "output_type": "execute_result"
    }
   ],
   "source": [
    "intent_history = []\n",
    "query = \"What is Assistant API\"\n",
    "intent, raw_intent = get_search_intent(query, intent_history)\n",
    "intent_history.append(intent)\n",
    "intent"
   ]
  },
  {
   "cell_type": "code",
   "execution_count": 9,
   "id": "330fd785-c1c0-4cc4-9766-d0e910aa5fb3",
   "metadata": {
    "scrolled": true
   },
   "outputs": [
    {
     "name": "stdout",
     "output_type": "stream",
     "text": [
      "show some sample code in python \n",
      " Show some sample code in python\n",
      "Single Intents: [\"show some sample code in python\"]\n"
     ]
    }
   ],
   "source": [
    "query = \"Show some sample code in python\"\n",
    "intent, raw_intent = get_search_intent(query, intent_history)\n",
    "intent_history.append(intent)\n",
    "print(intent, \"\\n\", raw_intent)"
   ]
  },
  {
   "cell_type": "code",
   "execution_count": 10,
   "id": "527d701f",
   "metadata": {},
   "outputs": [
    {
     "data": {
      "text/plain": [
       "['what is Assistant API?', 'show some sample code in python']"
      ]
     },
     "execution_count": 10,
     "metadata": {},
     "output_type": "execute_result"
    }
   ],
   "source": [
    "intent_history"
   ]
  },
  {
   "cell_type": "markdown",
   "id": "f41e1dfd-2a85-4522-a9c3-e39658e22769",
   "metadata": {},
   "source": [
    "### Search"
   ]
  },
  {
   "cell_type": "code",
   "execution_count": 11,
   "id": "d0ba6780-ad97-4780-b1e9-7ae9399cb62b",
   "metadata": {
    "scrolled": true
   },
   "outputs": [],
   "source": [
    "from aisearch import AISearch\n",
    "from common import format_retrieved_documents\n",
    "\n",
    "def get_context(intent):\n",
    "    search = AISearch(endpoint, index_name, credential)\n",
    "    docs = search.get_results(intent)\n",
    "    documentation, metadata = format_retrieved_documents(docs, 4000)\n",
    "\n",
    "    return documentation, metadata"
   ]
  },
  {
   "cell_type": "code",
   "execution_count": 12,
   "id": "c67a2589",
   "metadata": {},
   "outputs": [],
   "source": [
    "intent = \"show sample code for Assistant API in python\""
   ]
  },
  {
   "cell_type": "code",
   "execution_count": 13,
   "id": "ae414778-13d0-488b-8a2a-ac81bae4b5ee",
   "metadata": {},
   "outputs": [
    {
     "name": "stdout",
     "output_type": "stream",
     "text": [
      "{'retrieved_documents': [{'[doc0]': {'title': 'Quickstart: Use the OpenAI Service via the Python SDK', 'content': ':::image type=\"content\" source=\"../media/quickstarts/endpoint.png\" alt-text=\"Screenshot of the overview blade for an OpenAI Resource in the Azure portal with the endpoint & access keys location circled in red.\" lightbox=\"../media/quickstarts/endpoint.png\":::\\n\\nCreate and assign persistent environment variables for your key and endpoint.\\n\\n[!INCLUDE [environment-variables](environment-variables.md)]\\n\\n## Create an assistant\\n\\nIn our code we are going to specify the following values:\\n\\n| **Name** | **Description** |\\n|:---|:---|\\n| **Assistant name** | Your deployment name that is associated with a specific model. |\\n| **Instructions** | Instructions are similar to system messages this is where you give the model guidance about how it should behave and any context it should reference when generating a response. You can describe the assistant\\'s personality, tell it what it should and shouldn\\'t answer, and tell it how to format responses. You can also provide examples of the steps it should take when answering responses. |\\n| **Model** | This is where you set which model deployment name to use with your assistant. The retrieval tool requires `gpt-35-turbo (1106)` or `gpt-4 (1106-preview)` model. **Set this value to your deployment name, not the model name unless it is the same.** |\\n| **Code interpreter** | Code interpreter provides access to a sandboxed Python environment that can be used to allow the model to test and execute code. |\\n\\n### Tools\\n\\nAn individual assistant can access up to 128 tools including `code interpreter`, as well as any custom tools you create via [functions](../how-to/assistant-functions.md).\\n\\nCreate and run an assistant with the following:\\n\\n```python\\nimport os\\nimport time\\nimport json\\nfrom openai import AzureOpenAI\\n    \\nclient = AzureOpenAI(\\n    api_key=os.getenv(\"AZURE_OPENAI_KEY\"),  \\n    api_version=\"2024-02-15-preview\",\\n    azure_endpoint = os.getenv(\"AZURE_OPENAI_ENDPOINT\")\\n    )\\n\\n# Create an assistant\\nassistant = client.beta.assistants.create(\\n    name=\"Math Assist\",\\n    instructions=\"You are an AI assistant that can write code to help answer math questions.\",\\n    tools=[{\"type\": \"code_interpreter\"}],\\n    model=\"gpt-4-1106-preview\" #You must replace this value with the deployment name for your model.\\n)\\n\\n# Create a thread\\nthread = client.beta.threads.create()\\n\\n# Add a user question to the thread\\nmessage = client.beta.threads.messages.create(\\n    thread_id=thread.id,\\n    role=\"user\",\\n    content=\"I need to solve the equation `3x + 11 = 14`. Can you help me?\"\\n)\\n\\n# Run the thread\\nrun = client.beta.threads.runs.create(\\n  thread_id=thread.id,\\n  assistant_id=assistant.id,\\n)\\n\\n# Retrieve the status of the run\\nrun = client.beta.threads.runs.retrieve(\\n  thread_id=thread.id,\\n  run_id=run.id\\n)\\n\\nstatus = run.status\\n\\n# Wait till the assistant has responded\\nwhile status not in [\"completed\", \"cancelled\", \"expired\", \"failed\"]:\\n    time.sleep(5)\\n    run = client.beta.threads.runs.retrieve(thread_id=thread.id,run_id=run.id)\\n    status = run.status\\n\\nmessages = client.beta.threads.messages.list(\\n  thread_id=thread.id\\n)\\n\\nprint(messages.model_dump_json(indent=2))\\n```\\n\\n## Output'}}, {'[doc1]': {'title': 'Quickstart: Use the OpenAI Service via the Python SDK', 'content': '<a href=\"https://github.com/openai/openai-python\" target=\"_blank\">Library source code</a> | <a href=\"https://pypi.org/project/openai/\" target=\"_blank\">Package (PyPi)</a> |\\n\\n## Prerequisites\\n\\n- An Azure subscription - <a href=\"https://azure.microsoft.com/free/cognitive-services\" target=\"_blank\">Create one for free</a>\\n- Access granted to Azure OpenAI in the desired Azure subscription\\n\\n    Currently, access to this service is granted only by application. You can apply for access to Azure OpenAI by completing the form at <a href=\"https://aka.ms/oai/access\" target=\"_blank\">https://aka.ms/oai/access</a>. Open an issue on this repo to contact us if you have an issue.\\n- <a href=\"https://www.python.org/\" target=\"_blank\">Python 3.7.1 or later version</a>\\n- The following Python libraries: os, json, openai (Version 1.x is required)\\n- [Jupyter Notebooks](https://jupyter.org/)\\n- Azure OpenAI Assistants are currently available in Sweden Central, East US 2, and Australia East. For more information about model availability in those regions, see the [models guide](../concepts/models.md).\\n- We recommend reviewing the [Responsible AI transparency note](/legal/cognitive-services/openai/transparency-note?context=%2Fazure%2Fai-services%2Fopenai%2Fcontext%2Fcontext&tabs=text) and other [Responsible AI resources](/legal/cognitive-services/openai/overview?context=%2Fazure%2Fai-services%2Fopenai%2Fcontext%2Fcontext) to familiarize yourself with the capabilities and limitations of the Azure OpenAI Service.\\n- An Azure OpenAI resource with the `gpt-4 (1106-preview)` model deployed was used testing this example.\\n\\n## Set up\\n\\nInstall the OpenAI Python client library with:\\n\\n```console\\npip install openai\\n```\\n\\n> [!NOTE]\\n> This library is maintained by OpenAI. Refer to the [release history](https://github.com/openai/openai-python/releases) to track the latest updates to the library.\\n\\n## Retrieve key and endpoint\\n\\nTo successfully make a call against the Azure OpenAI service, you\\'ll need the following:\\n\\n|Variable name | Value |\\n|--------------------------|-------------|\\n| `ENDPOINT`               | This value can be found in the **Keys and Endpoint** section when examining your resource from the Azure portal. Alternatively, you can find the value in **Azure OpenAI Studio** > **Playground** > **View code**. An example endpoint is: `https://docs-test-001.openai.azure.com/`.|\\n| `API-KEY` | This value can be found in the **Keys and Endpoint** section when examining your resource from the Azure portal. You can use either `KEY1` or `KEY2`.|\\n| `DEPLOYMENT-NAME` | This value will correspond to the custom name you chose for your deployment when you deployed a model. This value can be found under **Resource Management** > **Model Deployments** in the Azure portal or alternatively under **Management** > **Deployments** in Azure OpenAI Studio.|\\n\\nGo to your resource in the Azure portal. The **Keys and Endpoint** can be found in the **Resource Management** section. Copy your endpoint and access key as you\\'ll need both for authenticating your API calls. You can use either `KEY1` or `KEY2`. Always having two keys allows you to securely rotate and regenerate keys without causing a service disruption.\\n\\n:::image type=\"content\" source=\"../media/quickstarts/endpoint.png\" alt-text=\"Screenshot of the overview blade for an OpenAI Resource in the Azure portal with the endpoint & access keys location circled in red.\" lightbox=\"../media/quickstarts/endpoint.png\":::\\n\\nCreate and assign persistent environment variables for your key and endpoint.\\n\\n[!INCLUDE [environment-variables](environment-variables.md)]\\n\\n## Create an assistant\\n\\nIn our code we are going to specify the following values:'}}, {'[doc2]': {'title': 'How to create Assistants with Azure OpenAI Service', 'content': '# Getting started with Azure OpenAI Assistants (Preview)\\n\\nAzure OpenAI Assistants (Preview) allows you to create AI assistants tailored to your needs through custom instructions and augmented by advanced tools like code interpreter, and custom functions. In this article we\\'ll provide an in-depth walkthrough of getting started with the Assistants API.\\n\\n## Assistants support\\n\\n### Region and model support\\n\\nThe [models page](../concepts/models.md#assistants-preview) contains the most up-to-date information on regions/models where Assistants are currently supported.\\n\\n### API Version\\n\\n- `2024-02-15-preview`\\n\\n### Supported file types\\n\\n|File format|MIME Type|Code Interpreter |\\n|---|---|---|\\n|.c| text/x-c |✅|\\n|.cpp|text/x-c++ |✅|\\n|.csv|application/csv|✅|\\n|.docx|application/vnd.openxmlformats-officedocument.wordprocessingml.document|✅|\\n|.html|text/html|✅|\\n|.java|text/x-java|✅|\\n|.json|application/json|✅|\\n|.md|text/markdown| ✅ |\\n|.pdf|application/pdf|✅|\\n|.php|text/x-php|✅|\\n|.pptx|application/vnd.openxmlformats-officedocument.presentationml.presentation|✅|\\n|.py|text/x-python|✅|\\n|.py|text/x-script.python|✅|\\n|.rb|text/x-ruby|✅|\\n|.tex|text/x-tex|✅|\\n|.txt|text/plain|✅|\\n|.css|text/css|✅|\\n|.jpeg|image/jpeg|✅|\\n|.jpg|image/jpeg|✅|\\n|.js|text/javascript|✅|\\n|.gif|image/gif|✅|\\n|.png|image/png|✅|\\n|.tar|application/x-tar|✅|\\n|.ts|application/typescript|✅|\\n|.xlsx|application/vnd.openxmlformats-officedocument.spreadsheetml.sheet|✅|\\n|.xml|application/xml or \"text/xml\"|✅|\\n|.zip|application/zip|✅|\\n\\n### Tools\\n\\nAn individual assistant can access up to 128 tools including `code interpreter`, but you can also define your own custom tools via [functions](./assistant-functions.md).\\n\\n### Files\\n\\nFiles can be uploaded via Studio, or programmatically. The `file_ids` parameter is required to give tools like `code_interpreter` access to files. When using the File upload endpoint, you must have the `purpose` set to assistants to be used with the Assistants API.\\n\\n## Assistants playground\\n\\nWe provide a walkthrough of the Assistants playground in our [quickstart guide](../assistants-quickstart.md). This provides a no-code environment to test out the capabilities of assistants.\\n\\n## Assistants components\\n\\n| **Component** | **Description** |\\n|---|---|\\n| **Assistant** | Custom AI that uses Azure OpenAI models in conjunction with tools. |\\n|**Thread** | A conversation session between an Assistant and a user. Threads store Messages and automatically handle truncation to fit content into a model’s context.|\\n| **Message** | A message created by an Assistant or a user. Messages can include text, images, and other files. Messages are stored as a list on the Thread. |\\n|**Run** | Activation of an Assistant to begin running based on the contents of the Thread. The Assistant uses its configuration and the Thread’s Messages to perform tasks by calling models and tools. As part of a Run, the Assistant appends Messages to the Thread.|\\n|**Run Step** | A detailed list of steps the Assistant took as part of a Run. An Assistant can call tools or create Messages during it’s run. Examining Run Steps allows you to understand how the Assistant is getting to its final results. |\\n\\n## Setting up your first Assistant\\n\\n### Create an assistant\\n\\nFor this example we\\'ll create an assistant that writes code to generate visualizations using the capabilities of the `code_interpreter` tool. The examples below are intended to be run sequentially in an environment like [Jupyter Notebooks](https://jupyter.org/).\\n\\n```Python\\nimport os\\nimport json\\nfrom openai import AzureOpenAI\\n    \\nclient = AzureOpenAI(\\n    api_key=os.getenv(\"AZURE_OPENAI_KEY\"),  \\n    api_version=\"2024-02-15-preview\",\\n    azure_endpoint = os.getenv(\"AZURE_OPENAI_ENDPOINT\")\\n    )'}}]}\n"
     ]
    }
   ],
   "source": [
    "documentation, metadata = get_context(intent)\n",
    "print(documentation)"
   ]
  },
  {
   "cell_type": "code",
   "execution_count": 14,
   "id": "b9f9ac52-d85b-4c33-bcdc-cbd22ce73ac4",
   "metadata": {},
   "outputs": [
    {
     "data": {
      "text/plain": [
       "[{'title': 'Quickstart: Use the OpenAI Service via the Python SDK',\n",
       "  'link': '<sup>[1](/static/assistants-python.md)</sup>'},\n",
       " {'title': 'Quickstart: Use the OpenAI Service via the Python SDK',\n",
       "  'link': '<sup>[2](/static/assistants-python.md)</sup>'},\n",
       " {'title': 'How to create Assistants with Azure OpenAI Service',\n",
       "  'link': '<sup>[3](/static/assistant.md)</sup>'}]"
      ]
     },
     "execution_count": 14,
     "metadata": {},
     "output_type": "execute_result"
    }
   ],
   "source": [
    "metadata"
   ]
  },
  {
   "cell_type": "markdown",
   "id": "b2124b20-f86d-4467-8bbb-aeb86c713cad",
   "metadata": {},
   "source": [
    "### generate answer"
   ]
  },
  {
   "cell_type": "code",
   "execution_count": 15,
   "id": "5ba10666-7488-4092-a893-3a5eb6df94d7",
   "metadata": {},
   "outputs": [],
   "source": [
    "def generate_response(chat_history, intent, documentation):\n",
    "    prompt = Template(reply_template, trim_blocks=True, keep_trailing_newline=True).render(\n",
    "        chat_history=chat_history,\n",
    "        documentation=documentation,\n",
    "        user_query=intent\n",
    "    )\n",
    "    \n",
    "    messages = parse_chat(prompt)\n",
    "    response = _chat_gpt(messages)\n",
    "\n",
    "    return response"
   ]
  },
  {
   "cell_type": "code",
   "execution_count": 16,
   "id": "11160c06-d67d-4cec-b825-1ca94bbbf7e2",
   "metadata": {},
   "outputs": [],
   "source": [
    "chat_history = []\n",
    "output = generate_response(chat_history, intent, documentation)"
   ]
  },
  {
   "cell_type": "code",
   "execution_count": 18,
   "id": "350946f4-3b96-4184-a5ee-88f820b840e6",
   "metadata": {},
   "outputs": [
    {
     "data": {
      "text/markdown": [
       "The following Python code demonstrates how to create an assistant using the Azure OpenAI service:\n",
       "\n",
       "```python\n",
       "import os\n",
       "import time\n",
       "import json\n",
       "from openai import AzureOpenAI\n",
       "    \n",
       "client = AzureOpenAI(\n",
       "    api_key=os.getenv(\"AZURE_OPENAI_KEY\"),  \n",
       "    api_version=\"2024-02-15-preview\",\n",
       "    azure_endpoint = os.getenv(\"AZURE_OPENAI_ENDPOINT\")\n",
       ")\n",
       "\n",
       "# Create an assistant\n",
       "assistant = client.beta.assistants.create(\n",
       "    name=\"Math Assist\",\n",
       "    instructions=\"You are an AI assistant that can write code to help answer math questions.\",\n",
       "    tools=[{\"type\": \"code_interpreter\"}],\n",
       "    model=\"gpt-4-1106-preview\" #You must replace this value with the deployment name for your model.\n",
       ")\n",
       "\n",
       "# Create a thread\n",
       "thread = client.beta.threads.create()\n",
       "\n",
       "# Add a user question to the thread\n",
       "message = client.beta.threads.messages.create(\n",
       "    thread_id=thread.id,\n",
       "    role=\"user\",\n",
       "    content=\"I need to solve the equation `3x + 11 = 14`. Can you help me?\"\n",
       ")\n",
       "\n",
       "# Run the thread\n",
       "run = client.beta.threads.runs.create(\n",
       "  thread_id=thread.id,\n",
       "  assistant_id=assistant.id,\n",
       ")\n",
       "\n",
       "# Retrieve the status of the run\n",
       "run = client.beta.threads.runs.retrieve(\n",
       "  thread_id=thread.id,\n",
       "  run_id=run.id\n",
       ")\n",
       "\n",
       "status = run.status\n",
       "\n",
       "# Wait till the assistant has responded\n",
       "while status not in [\"completed\", \"cancelled\", \"expired\", \"failed\"]:\n",
       "    time.sleep(5)\n",
       "    run = client.beta.threads.runs.retrieve(thread_id=thread.id,run_id=run.id)\n",
       "    status = run.status\n",
       "\n",
       "messages = client.beta.threads.messages.list(\n",
       "  thread_id=thread.id\n",
       ")\n",
       "\n",
       "print(messages.model_dump_json(indent=2))\n",
       "```\n",
       "This code creates an assistant, initiates a conversation thread, adds a user question to the thread, runs the thread, and retrieves the status and messages from the assistant[doc0][doc2]."
      ],
      "text/plain": [
       "<IPython.core.display.Markdown object>"
      ]
     },
     "metadata": {},
     "output_type": "display_data"
    }
   ],
   "source": [
    "from IPython.display import display, Markdown\n",
    "display(Markdown(output))"
   ]
  },
  {
   "cell_type": "code",
   "execution_count": 21,
   "id": "7337bfa8-75b8-4517-9233-baf42027dbbf",
   "metadata": {},
   "outputs": [
    {
     "name": "stdout",
     "output_type": "stream",
     "text": [
      "\n"
     ]
    }
   ],
   "source": [
    "query = \"assistant api sample code in rest api\"\n",
    "intent, raw_intent = get_search_intent(query, intent_history)\n",
    "intent_history.append(intent)\n",
    "\n",
    "print(intent)"
   ]
  },
  {
   "cell_type": "code",
   "execution_count": 22,
   "id": "338e428e",
   "metadata": {},
   "outputs": [],
   "source": [
    "intent = \"assistant api sample code in rest api\"\n",
    "documentation = get_context(intent)\n",
    "\n",
    "output = generate_response(chat_history, intent, documentation)"
   ]
  },
  {
   "cell_type": "code",
   "execution_count": 23,
   "id": "edcbdee3-93f8-4a7b-83ea-f683b375e18e",
   "metadata": {},
   "outputs": [
    {
     "name": "stdout",
     "output_type": "stream",
     "text": [
      "The sample code for creating an assistant using the Azure OpenAI Assistants REST API is as follows:\n",
      "\n",
      "```console\n",
      "curl https://YOUR_RESOURCE_NAME.openai.azure.com/openai/assistants?api-version=2024-02-15-preview \\\n",
      "  -H \"api-key: $AZURE_OPENAI_KEY\" \\\n",
      "  -H \"Content-Type: application/json\" \\\n",
      "  -d '{\n",
      "    \"instructions\": \"You are an AI assistant that can write code to help answer math questions.\",\n",
      "    \"name\": \"Math Assist\",\n",
      "    \"tools\": [{\"type\": \"code_interpreter\"}],\n",
      "    \"model\": \"gpt-4-1106-preview\"\n",
      "  }'\n",
      "```\n",
      "This code demonstrates how to create an assistant by providing instructions, a name, tools (such as code interpreter), and the model to be used [doc1][2].\n",
      "\n",
      "If you need further information, you can refer to the [Azure OpenAI Assistants API samples](https://github.com/Azure-Samples/azureai-samples/tree/main/scenarios/Assistants) [doc0][3].\n"
     ]
    }
   ],
   "source": [
    "print(output)"
   ]
  },
  {
   "cell_type": "code",
   "execution_count": null,
   "id": "9a53cedf-7370-405f-b31d-1f2c43970d79",
   "metadata": {},
   "outputs": [],
   "source": []
  }
 ],
 "metadata": {
  "kernelspec": {
   "display_name": "workshop",
   "language": "python",
   "name": "python3"
  },
  "language_info": {
   "codemirror_mode": {
    "name": "ipython",
    "version": 3
   },
   "file_extension": ".py",
   "mimetype": "text/x-python",
   "name": "python",
   "nbconvert_exporter": "python",
   "pygments_lexer": "ipython3",
   "version": "3.9.20"
  }
 },
 "nbformat": 4,
 "nbformat_minor": 5
}
