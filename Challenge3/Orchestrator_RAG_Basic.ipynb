{
 "cells": [
  {
   "cell_type": "markdown",
   "id": "cf3ce09c-2b1f-4912-af44-33b4592e67a2",
   "metadata": {},
   "source": [
    "# AI Orchestrator - RAG Basic\n",
    "\n",
    "user query -> search -> generate answer"
   ]
  },
  {
   "cell_type": "markdown",
   "id": "885ee653-e41c-4a48-85c2-9edb52161179",
   "metadata": {},
   "source": [
    "## Prep"
   ]
  },
  {
   "cell_type": "code",
   "execution_count": 1,
   "id": "59f420f0-4270-4a1d-933b-6aa974e4482b",
   "metadata": {},
   "outputs": [
    {
     "data": {
      "text/plain": [
       "True"
      ]
     },
     "execution_count": 1,
     "metadata": {},
     "output_type": "execute_result"
    }
   ],
   "source": [
    "from dotenv import load_dotenv\n",
    "load_dotenv()"
   ]
  },
  {
   "cell_type": "markdown",
   "id": "4ce2dec4-b4c0-4fee-a38b-fa5366830c81",
   "metadata": {},
   "source": [
    "> update the name of `environment variables, SC_AOAI_KEY` and the value of `index_name`"
   ]
  },
  {
   "cell_type": "code",
   "execution_count": 2,
   "id": "39fc3e81-86dc-4d1a-b9a7-f2691d706fc2",
   "metadata": {},
   "outputs": [],
   "source": [
    "import os\n",
    "from openai import AzureOpenAI\n",
    "\n",
    "MODEL_GPT4 = \"gpt-4-turbo\"\n",
    "MODEL_GPT35 = \"gpt-35-turbo-1106\"\n",
    "client = AzureOpenAI(\n",
    "    api_key=os.environ['SC_AOAI_KEY'],\n",
    "    api_version=\"2023-12-01-preview\",\n",
    "    azure_endpoint = os.environ['SC_AOAI_ENDPOINT']\n",
    ")"
   ]
  },
  {
   "cell_type": "code",
   "execution_count": 3,
   "id": "abbe964c-729d-4dd4-b3b3-de2fcc312e91",
   "metadata": {},
   "outputs": [],
   "source": [
    "def _chat_gpt(messages, model=MODEL_GPT35, temp=0, topp=0.1):\n",
    "    response = client.chat.completions.create(\n",
    "        model=model,\n",
    "        messages=messages,\n",
    "        temperature=temp,\n",
    "        max_tokens=4000,\n",
    "        top_p=topp\n",
    "    )   \n",
    "    \n",
    "    return response.choices[0].message.content"
   ]
  },
  {
   "cell_type": "code",
   "execution_count": 4,
   "id": "da6a4f87-683b-4dcb-88da-622599dd6866",
   "metadata": {},
   "outputs": [],
   "source": [
    "from azure.identity import DefaultAzureCredential\n",
    "from azure.core.credentials import AzureKeyCredential\n",
    "import os\n",
    "\n",
    "# Variables not used here do not need to be updated in your .env file\n",
    "endpoint = os.environ[\"AZSCH_ENDPOINT\"]\n",
    "credential = AzureKeyCredential(os.environ[\"AZSCH_KEY\"])\n",
    "\n",
    "index_name = 'aoai-docs-idx'"
   ]
  },
  {
   "cell_type": "markdown",
   "id": "cb0f4503-d440-45c3-9be0-b1804ca810a3",
   "metadata": {},
   "source": [
    "## Search query"
   ]
  },
  {
   "cell_type": "code",
   "execution_count": 5,
   "id": "a253351b-e463-4d6a-83a6-4e40a2ce2fd4",
   "metadata": {},
   "outputs": [],
   "source": [
    "query = \"What is OpenAI assistant api?\"  \n",
    "chat_history = []"
   ]
  },
  {
   "cell_type": "markdown",
   "id": "093138f8-4a3e-47e3-b3e8-a550b94feade",
   "metadata": {},
   "source": [
    "## Search\n",
    "\n",
    "Vector Search\n",
    "- vectorquery = \"query\"\n",
    "- search_text = None"
   ]
  },
  {
   "cell_type": "code",
   "execution_count": 8,
   "id": "22ddafb0-1c74-4c9b-8450-317576bda94c",
   "metadata": {},
   "outputs": [
    {
     "name": "stdout",
     "output_type": "stream",
     "text": [
      "parent_id: aHR0cHM6Ly9pa2Jsb2JhY2N0LmJsb2IuY29yZS53aW5kb3dzLm5ldC9kb2NzL2Fzc2lzdGFudHMubWQ1\n",
      "  chunk_id: 08a98f1ccdb1_aHR0cHM6Ly9pa2Jsb2JhY2N0LmJsb2IuY29yZS53aW5kb3dzLm5ldC9kb2NzL2Fzc2lzdGFudHMubWQ1_pages_0\n",
      "  Score: 0.8802705\n",
      "parent_id: aHR0cHM6Ly9pa2Jsb2JhY2N0LmJsb2IuY29yZS53aW5kb3dzLm5ldC9kb2NzL2NoYXRncHQtc3R1ZGlvLm1k0\n",
      "  chunk_id: b1abae7a10d7_aHR0cHM6Ly9pa2Jsb2JhY2N0LmJsb2IuY29yZS53aW5kb3dzLm5ldC9kb2NzL2NoYXRncHQtc3R1ZGlvLm1k0_pages_1\n",
      "  Score: 0.86489004\n",
      "parent_id: aHR0cHM6Ly9pa2Jsb2JhY2N0LmJsb2IuY29yZS53aW5kb3dzLm5ldC9kb2NzL2NoYXQtbWFya3VwLWxhbmd1YWdlLm1k0\n",
      "  chunk_id: e993073ba3fe_aHR0cHM6Ly9pa2Jsb2JhY2N0LmJsb2IuY29yZS53aW5kb3dzLm5ldC9kb2NzL2NoYXQtbWFya3VwLWxhbmd1YWdlLm1k0_pages_5\n",
      "  Score: 0.86298484\n"
     ]
    }
   ],
   "source": [
    "from azure.search.documents import SearchClient\n",
    "from azure.search.documents.models import VectorizableTextQuery\n",
    "\n",
    "topK = 3\n",
    "\n",
    "# Pure Vector Search\n",
    "search_client = SearchClient(endpoint, index_name, credential=credential)\n",
    "vector_query = VectorizableTextQuery(text=query, k_nearest_neighbors=topK, fields=\"vector\", exhaustive=True)\n",
    "  \n",
    "results = search_client.search(  \n",
    "    search_text=None,  \n",
    "    vector_queries= [vector_query],\n",
    "    select=[\"parent_id\", \"chunk_id\", \"chunk\"],\n",
    "    top=topK\n",
    ")  \n",
    "  \n",
    "for result in results:  \n",
    "    print(f\"parent_id: {result['parent_id']}\")  \n",
    "    print(f\"  chunk_id: {result['chunk_id']}\")  \n",
    "    print(f\"  Score: {result['@search.score']}\")  \n",
    "    #print(f\"Content: {result['chunk']}\")"
   ]
  },
  {
   "cell_type": "code",
   "execution_count": 9,
   "id": "3151cca2-1e1a-4e84-a6cc-8ce7b3ef26fa",
   "metadata": {},
   "outputs": [],
   "source": [
    "def get_context(text):\n",
    "    vector_query = VectorizableTextQuery(text=text, k_nearest_neighbors=topK, fields=\"vector\", exhaustive=True)\n",
    "    results = search_client.search(  \n",
    "        search_text=None,  \n",
    "        vector_queries= [vector_query],\n",
    "        select=[\"parent_id\", \"chunk_id\", \"chunk\", \"title\"],\n",
    "        top=topK\n",
    "    )  \n",
    "\n",
    "    context = \"\"\n",
    "    metadata = []\n",
    "    for result in results:  \n",
    "        context = context + result['chunk'] + \"\\n\\n\"\n",
    "        metadata.append({\"score\": result['@search.score'], \"chunk_id\": result['chunk_id'], \"parent_id\": result['parent_id'], \"title\": result[\"title\"]})\n",
    "\n",
    "    return context, metadata"
   ]
  },
  {
   "cell_type": "code",
   "execution_count": 10,
   "id": "c5b1d98a-8e36-4958-be7a-505cd2ffb093",
   "metadata": {},
   "outputs": [],
   "source": [
    "context, metadata = get_context(query)"
   ]
  },
  {
   "cell_type": "markdown",
   "id": "36a65f8f-c28e-4af3-8940-08f7d34c6343",
   "metadata": {},
   "source": [
    "## Response"
   ]
  },
  {
   "cell_type": "code",
   "execution_count": 11,
   "id": "2dc02f5b-a1da-44c8-b445-9937ff6daff7",
   "metadata": {},
   "outputs": [],
   "source": [
    "# prompt templates\n",
    "from jinja2 import Template\n",
    "from common import parse_chat\n",
    "\n",
    "with open('./reply_simple.jinja2') as file:\n",
    "    simple_response_template = file.read()\n",
    "\n",
    "with open('./reply_simple_ground.jinja2') as file:\n",
    "    ground_response_template = file.read()"
   ]
  },
  {
   "cell_type": "code",
   "execution_count": 12,
   "id": "184bfbda-8339-4e83-9406-f0ac043ce1f2",
   "metadata": {},
   "outputs": [
    {
     "name": "stdout",
     "output_type": "stream",
     "text": [
      "system:\n",
      "You are a helpful and friendly assistant. Generate answer based on the context provided below. \n",
      "If you user asked in Korean then answer back in Korean otherwise answer in English only.\n",
      "\n",
      "## Context\n",
      "---\n",
      "title: Azure OpenAI Service Assistant API concepts\n",
      "titleSuffix: Azure OpenAI Service\n",
      "description: Learn about the concepts behind the Azure OpenAI Assistants API.\n",
      "ms.topic: conceptual\n",
      "ms.date: 02/05/2023\n",
      "manager: nitinme\n",
      "author: mrbullwinkle\n",
      "ms.author: mbullwin\n",
      "recommendations: false\n",
      "---\n",
      "\n",
      "# Azure OpenAI Assistants API (Preview)\n",
      "\n",
      "Assistants, a new feature of Azure OpenAI Service, is now available in public preview. Assistants API makes it easier for developers to create applications with sophisticated copilot-like experiences that can sift through data, suggest solutions, and automate tasks.\n",
      "\n",
      "## Overview\n",
      "\n",
      "Previously, building custom AI assistants needed heavy lifting even for experienced developers. While the chat completions API is lightweight and powerful, it's inherently stateless, which means that developers had to manage conversation state and chat threads, tool integrations, retrieval documents and indexes, and execute code manually.\n",
      "\n",
      "The Assistants API, as the stateful evolution of the chat completion API, provides a solution for these challenges.\n",
      "Assistants API supports persistent automatically managed threads. This means that as a developer you no longer need to develop conversation state management systems and work around a model’s context window constraints. The Assistants API will automatically handle the optimizations to keep the thread below the max context window of your chosen model. Once you create a Thread, you can simply append new messages to it as users respond. Assistants can also access multiple tools in parallel, if needed. These tools include:\n",
      "\n",
      "- [Code Interpreter](../how-to/code-interpreter.md)\n",
      "- [Function calling](../how-to/assistant-functions.md)\n",
      "\n",
      "Assistant API is built on the same capabilities that power OpenAI’s GPT product. Some possible use cases range from AI-powered product recommender, sales analyst app, coding assistant, employee Q&A chatbot, and more.\n",
      "\n",
      "which brings together capabilities from across multiple Azure AI services.\n",
      "\n",
      "## Go to Azure OpenAI Studio\n",
      "\n",
      "Navigate to Azure OpenAI Studio at [https://oai.azure.com/](https://oai.azure.com/) and sign-in with credentials that have access to your OpenAI resource. During or after the sign-in workflow, select the appropriate directory, Azure subscription, and Azure OpenAI resource.\n",
      "\n",
      "From the Azure OpenAI Studio landing page, select **Chat playground**.\n",
      "\n",
      ":::image type=\"content\" source=\"../media/quickstarts/chatgpt-playground.png\" alt-text=\"Screenshot of the Azure OpenAI Studio landing page with Chat playground highlighted.\" lightbox=\"../media/quickstarts/chatgpt-playground.png\":::\n",
      "\n",
      "## Playground\n",
      "\n",
      "Start exploring OpenAI capabilities with a no-code approach through the Azure OpenAI Studio Chat playground. From this page, you can quickly iterate and experiment with the capabilities.\n",
      "\n",
      ":::image type=\"content\" source=\"../media/quickstarts/chatgpt-playground-load.png\" alt-text=\"Screenshot of the Chat playground page.\" lightbox=\"../media/quickstarts/chatgpt-playground-load.png\":::\n",
      "\n",
      "### Assistant setup\n",
      "\n",
      "You can use the **Assistant setup** dropdown to select a few pre-loaded **System message** examples to get started.\n",
      "\n",
      "**System messages** give the model instructions about how it should behave and any context it should reference when generating a response. You can describe the assistant's personality, tell it what it should and shouldn't answer, and tell it how to format responses.\n",
      "\n",
      "**Add few-shot examples** allows you to provide conversational examples that are used by the model for [in-context learning](../concepts/prompt-engineering.md#basics).\n",
      "\n",
      "At any time while using the Chat playground you can select **View code** to see Python, curl, and json code samples pre-populated based on your current chat session and settings selections. You can then take this code and write an application to complete the same task you're currently performing with the playground.\n",
      "\n",
      "and enterprise promise of Azure. Azure OpenAI co-develops the APIs with OpenAI, ensuring compatibility and a smooth transition from one to the other.\n",
      "- At Microsoft, we're committed to the advancement of AI driven by principles that put people first. Microsoft has made significant investments to help guard against abuse and unintended harm, which includes requiring applicants to show well-defined use cases, incorporating Microsoft’s principles for responsible AI use\n",
      "<|im_end|>\n",
      "<|im_start|>user\n",
      "What is Azure OpenAI Service?\n",
      "<|im_end|>\n",
      "<|im_start|>assistant\n",
      "```\n",
      "\n",
      "#### Few shot learning with ChatML\n",
      "\n",
      "You can also give few shot examples to the model. The approach for few shot learning has changed slightly because of the new prompt format. You can now include a series of messages between the user and the assistant in the prompt as few shot examples. These examples can be used to seed answers to common questions to prime the model or teach particular behaviors to the model.\n",
      "\n",
      "This is only one example of how you can use few shot learning with GPT-35-Turbo. You can experiment with different approaches to see what works best for your use case.\n",
      "\n",
      "```\n",
      "<|im_start|>system\n",
      "Assistant is an intelligent chatbot designed to help users answer their tax related questions. \n",
      "<|im_end|>\n",
      "<|im_start|>user\n",
      "When do I need to file my taxes by?\n",
      "<|im_end|>\n",
      "<|im_start|>assistant\n",
      "In 2023, you will need to file your taxes by April 18th. The date falls after the usual April 15th deadline because April 15th falls on a Saturday in 2023. For more details, see https://www.irs.gov/filing/individuals/when-to-file\n",
      "<|im_end|>\n",
      "<|im_start|>user\n",
      "How can I check the status of my tax refund?\n",
      "<|im_end|>\n",
      "<|im_start|>assistant\n",
      "You can check the status of your tax refund by visiting https://www.irs.gov/refunds\n",
      "<|im_end|>\n",
      "```\n",
      "\n",
      "#### Using Chat Markup Language for non-chat scenarios\n",
      "\n",
      "ChatML is designed to make multi-turn conversations easier to manage, but it also works well for non-chat scenarios.\n",
      "\n",
      "\n",
      "\n",
      "user:\n",
      "## User Question\n",
      "What is OpenAI assistant api?\n",
      "\n"
     ]
    }
   ],
   "source": [
    "prompt = Template(simple_response_template, trim_blocks=True, keep_trailing_newline=True).render(\n",
    "    context=context,\n",
    "    chat_history=chat_history,\n",
    "    user_query=query\n",
    ")\n",
    "\n",
    "print(prompt)"
   ]
  },
  {
   "cell_type": "code",
   "execution_count": 13,
   "id": "6581b43a-aae5-43cf-a434-8486126f5f2e",
   "metadata": {},
   "outputs": [],
   "source": [
    "def get_response(query, chat_history, template, model=MODEL_GPT35):\n",
    "\n",
    "    context, metadata = get_context(query)\n",
    "    \n",
    "    prompt = Template(template, trim_blocks=True, keep_trailing_newline=True).render(\n",
    "        context=context,\n",
    "        chat_history=chat_history,\n",
    "        user_query=query\n",
    "    )\n",
    "    \n",
    "    messages = parse_chat(prompt)\n",
    "    \n",
    "    return _chat_gpt(messages, model), metadata"
   ]
  },
  {
   "cell_type": "markdown",
   "id": "6434319c-38ec-4a3c-a783-07347d7eed80",
   "metadata": {},
   "source": [
    "## Very Simple Prompt"
   ]
  },
  {
   "cell_type": "code",
   "execution_count": 14,
   "id": "74ac00c9-4d1c-48ce-9057-3dbadda44248",
   "metadata": {},
   "outputs": [
    {
     "name": "stdout",
     "output_type": "stream",
     "text": [
      "What is OpenAI assistant api? \n",
      ">  The OpenAI Assistants API is a feature of the Azure OpenAI Service that allows developers to create applications with sophisticated copilot-like experiences. It enables developers to build custom AI assistants with capabilities such as sifting through data, suggesting solutions, and automating tasks. The API supports persistent automatically managed threads, allowing developers to focus on building conversational experiences without having to manage conversation state and chat threads manually. It also provides access to multiple tools, such as code interpreter and function calling, and is built on the same capabilities that power OpenAI’s GPT product.\n"
     ]
    }
   ],
   "source": [
    "chat_history = []\n",
    "query = \"What is OpenAI assistant api?\"  \n",
    "response, metadata = get_response(query, chat_history, simple_response_template)\n",
    "chat_history.append([query, response])\n",
    "print(query, \"\\n> \", response)"
   ]
  },
  {
   "cell_type": "code",
   "execution_count": 15,
   "id": "f8a3e221-6acf-4333-be5f-cf4e80dd945c",
   "metadata": {},
   "outputs": [
    {
     "data": {
      "text/plain": [
       "[{'score': 0.8802705,\n",
       "  'chunk_id': '08a98f1ccdb1_aHR0cHM6Ly9pa2Jsb2JhY2N0LmJsb2IuY29yZS53aW5kb3dzLm5ldC9kb2NzL2Fzc2lzdGFudHMubWQ1_pages_0',\n",
       "  'parent_id': 'aHR0cHM6Ly9pa2Jsb2JhY2N0LmJsb2IuY29yZS53aW5kb3dzLm5ldC9kb2NzL2Fzc2lzdGFudHMubWQ1',\n",
       "  'title': 'assistants.md'},\n",
       " {'score': 0.86489004,\n",
       "  'chunk_id': 'b1abae7a10d7_aHR0cHM6Ly9pa2Jsb2JhY2N0LmJsb2IuY29yZS53aW5kb3dzLm5ldC9kb2NzL2NoYXRncHQtc3R1ZGlvLm1k0_pages_1',\n",
       "  'parent_id': 'aHR0cHM6Ly9pa2Jsb2JhY2N0LmJsb2IuY29yZS53aW5kb3dzLm5ldC9kb2NzL2NoYXRncHQtc3R1ZGlvLm1k0',\n",
       "  'title': 'chatgpt-studio.md'},\n",
       " {'score': 0.86298484,\n",
       "  'chunk_id': 'e993073ba3fe_aHR0cHM6Ly9pa2Jsb2JhY2N0LmJsb2IuY29yZS53aW5kb3dzLm5ldC9kb2NzL2NoYXQtbWFya3VwLWxhbmd1YWdlLm1k0_pages_5',\n",
       "  'parent_id': 'aHR0cHM6Ly9pa2Jsb2JhY2N0LmJsb2IuY29yZS53aW5kb3dzLm5ldC9kb2NzL2NoYXQtbWFya3VwLWxhbmd1YWdlLm1k0',\n",
       "  'title': 'chat-markup-language.md'}]"
      ]
     },
     "execution_count": 15,
     "metadata": {},
     "output_type": "execute_result"
    }
   ],
   "source": [
    "metadata"
   ]
  },
  {
   "cell_type": "code",
   "execution_count": 17,
   "id": "f6967d62-2377-4442-9dcc-2ebfc4e4227b",
   "metadata": {},
   "outputs": [
    {
     "name": "stdout",
     "output_type": "stream",
     "text": [
      "What is Google \n",
      ">  Google is a multinational technology company that specializes in Internet-related services and products. It was founded in 1998 by Larry Page and Sergey Brin while they were Ph.D. students at Stanford University. Google's services include online advertising technologies, a search engine, cloud computing, software, and hardware. The company is known for its search engine, also called Google, which is the most widely used search engine on the World Wide Web.\n"
     ]
    }
   ],
   "source": [
    "query = \"What is Google\"\n",
    "response, metadata = get_response(query, chat_history, simple_response_template)\n",
    "chat_history.append([query, response])\n",
    "print(query, \"\\n> \", response)"
   ]
  },
  {
   "cell_type": "code",
   "execution_count": 18,
   "id": "bf8b0757-8622-4442-a081-992938c0cdd5",
   "metadata": {},
   "outputs": [
    {
     "data": {
      "text/plain": [
       "[{'score': 0.79577667,\n",
       "  'chunk_id': 'c617f41e61bc_aHR0cHM6Ly9pa2Jsb2JhY2N0LmJsb2IuY29yZS53aW5kb3dzLm5ldC9kb2NzL2NvbXBsZXRpb25zLm1k0_pages_15',\n",
       "  'parent_id': 'aHR0cHM6Ly9pa2Jsb2JhY2N0LmJsb2IuY29yZS53aW5kb3dzLm5ldC9kb2NzL2NvbXBsZXRpb25zLm1k0',\n",
       "  'title': 'completions.md'},\n",
       " {'score': 0.78871673,\n",
       "  'chunk_id': '8f8b94abc7cf_aHR0cHM6Ly9pa2Jsb2JhY2N0LmJsb2IuY29yZS53aW5kb3dzLm5ldC9kb2NzL3Byb21wdC1jaGF0LWNvbXBsZXRpb24ubWQ1_pages_18',\n",
       "  'parent_id': 'aHR0cHM6Ly9pa2Jsb2JhY2N0LmJsb2IuY29yZS53aW5kb3dzLm5ldC9kb2NzL3Byb21wdC1jaGF0LWNvbXBsZXRpb24ubWQ1',\n",
       "  'title': 'prompt-chat-completion.md'},\n",
       " {'score': 0.7847235,\n",
       "  'chunk_id': '63407be9297e_aHR0cHM6Ly9pa2Jsb2JhY2N0LmJsb2IuY29yZS53aW5kb3dzLm5ldC9kb2NzL3VzZS15b3VyLWltYWdlLWRhdGEubWQ1_pages_7',\n",
       "  'parent_id': 'aHR0cHM6Ly9pa2Jsb2JhY2N0LmJsb2IuY29yZS53aW5kb3dzLm5ldC9kb2NzL3VzZS15b3VyLWltYWdlLWRhdGEubWQ1',\n",
       "  'title': 'use-your-image-data.md'}]"
      ]
     },
     "execution_count": 18,
     "metadata": {},
     "output_type": "execute_result"
    }
   ],
   "source": [
    "metadata"
   ]
  },
  {
   "cell_type": "markdown",
   "id": "f19eeae3-c7ad-4fc1-8c57-4eb786dcb680",
   "metadata": {},
   "source": [
    "## Grounded Prompt\n",
    "\n",
    "ground response using `ground_response_template`"
   ]
  },
  {
   "cell_type": "code",
   "execution_count": 21,
   "id": "929761c5-ab7f-4bb2-a488-5fa5e96dc2e7",
   "metadata": {},
   "outputs": [
    {
     "name": "stdout",
     "output_type": "stream",
     "text": [
      "What is OpenAI assistant api? \n",
      ">  The Assistants API, as the stateful evolution of the chat completion API, provides a solution for challenges faced by developers. It supports persistent automatically managed threads, which means that developers no longer need to develop conversation state management systems and work around a model’s context window constraints. Once you create a Thread, you can simply append new messages to it as users respond. Assistants can also access multiple tools in parallel, if needed.\n"
     ]
    }
   ],
   "source": [
    "chat_history = []\n",
    "query = \"What is OpenAI assistant api?\"  \n",
    "response, metadata = get_response(query, chat_history, ground_response_template)\n",
    "chat_history.append([query, response])\n",
    "print(query, \"\\n> \", response)"
   ]
  },
  {
   "cell_type": "code",
   "execution_count": 20,
   "id": "cdf93208-6823-4425-95e3-41641f13017f",
   "metadata": {},
   "outputs": [
    {
     "name": "stdout",
     "output_type": "stream",
     "text": [
      "What is Google \n",
      ">  Sorry, I don't know.\n"
     ]
    }
   ],
   "source": [
    "query = \"What is Google\"\n",
    "response, metadata = get_response(query, chat_history, ground_response_template)\n",
    "chat_history.append([query, response])\n",
    "print(query, \"\\n> \", response)"
   ]
  },
  {
   "cell_type": "markdown",
   "id": "f6c6ceac-31b8-4be4-aa5b-f5799e384586",
   "metadata": {},
   "source": [
    "## Condensed Question\n",
    "\n",
    "example of condense question:\n",
    "\n",
    "- first question \"what is assistant api?\"\n",
    "- second question \"show sample code in python\"\n",
    "\n",
    "intent of second question is \"show sample code for assistant api in python\""
   ]
  },
  {
   "cell_type": "code",
   "execution_count": 24,
   "id": "f7b46424-bdff-47fc-85a4-4562df5b3147",
   "metadata": {},
   "outputs": [
    {
     "name": "stdout",
     "output_type": "stream",
     "text": [
      "What is OpenAI assistant api? \n",
      ">  The Assistants API, as the stateful evolution of the chat completion API, provides a solution for challenges faced by developers. It supports persistent automatically managed threads, which means that developers no longer need to develop conversation state management systems and work around a model’s context window constraints. Once you create a Thread, you can simply append new messages to it as users respond. Assistants can also access multiple tools in parallel, if needed.\n"
     ]
    }
   ],
   "source": [
    "chat_history = []\n",
    "query = \"What is OpenAI assistant api?\"  \n",
    "response, metadata = get_response(query, chat_history, ground_response_template)\n",
    "chat_history.append([query, response])\n",
    "print(query, \"\\n> \", response)"
   ]
  },
  {
   "cell_type": "markdown",
   "id": "54028a9d-9a71-4dca-a597-abd07646f0fc",
   "metadata": {},
   "source": [
    "> unrelated response by retrieving wrong documents"
   ]
  },
  {
   "cell_type": "code",
   "execution_count": 25,
   "id": "76763ff9-9c63-447d-acd9-f667f64459b0",
   "metadata": {},
   "outputs": [
    {
     "name": "stdout",
     "output_type": "stream",
     "text": [
      "show sample code in python \n",
      ">  ```python\n",
      "# Python 3\n",
      "# Calculate the mean distance between an array of points\n",
      "```\n"
     ]
    }
   ],
   "source": [
    "query = \"show sample code in python\"\n",
    "response, metadata = get_response(query, chat_history, ground_response_template)\n",
    "chat_history.append([query, response])\n",
    "print(query, \"\\n> \", response)"
   ]
  },
  {
   "cell_type": "code",
   "execution_count": 26,
   "id": "0a343f37-fa0a-46e9-8591-8acf21af23ec",
   "metadata": {},
   "outputs": [
    {
     "name": "stdout",
     "output_type": "stream",
     "text": [
      "show OpenAI assistant api sample code in python \n",
      ">  To use the OpenAI Service via the Python SDK, you can create an assistant with the following code:\n",
      "\n",
      "```python\n",
      "from openai import AzureOpenAI\n",
      "    \n",
      "client = AzureOpenAI(\n",
      "    api_key=os.getenv(\"AZURE_OPENAI_KEY\"),  \n",
      "    api_version=\"2024-02-15-preview\",\n",
      "    azure_endpoint = os.getenv(\"AZURE_OPENAI_ENDPOINT\")\n",
      "    )\n",
      "\n",
      "assistant = client.beta.assistants.create(\n",
      "  instructions=\"You are an AI assistant that can write code to help answer math questions\",\n",
      "  model=\"<REPLACE WITH MODEL DEPLOYMENT NAME>\", # replace with model deployment name. \n",
      "  tools=[{\"type\": \"code_interpreter\"}]\n",
      ")\n",
      "```\n"
     ]
    }
   ],
   "source": [
    "query = \"show OpenAI assistant api sample code in python\"\n",
    "response, metadata = get_response(query, chat_history, ground_response_template)\n",
    "chat_history.append([query, response])\n",
    "print(query, \"\\n> \", response)"
   ]
  },
  {
   "cell_type": "code",
   "execution_count": null,
   "id": "36b542bf-05e7-4869-a150-5430c81b0be8",
   "metadata": {},
   "outputs": [],
   "source": []
  }
 ],
 "metadata": {
  "kernelspec": {
   "display_name": "Python 3 (ipykernel)",
   "language": "python",
   "name": "python3"
  },
  "language_info": {
   "codemirror_mode": {
    "name": "ipython",
    "version": 3
   },
   "file_extension": ".py",
   "mimetype": "text/x-python",
   "name": "python",
   "nbconvert_exporter": "python",
   "pygments_lexer": "ipython3",
   "version": "3.9.18"
  }
 },
 "nbformat": 4,
 "nbformat_minor": 5
}
