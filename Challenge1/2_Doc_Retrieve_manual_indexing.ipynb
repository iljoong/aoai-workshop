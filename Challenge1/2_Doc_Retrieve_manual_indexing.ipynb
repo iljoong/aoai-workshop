{
 "cells": [
  {
   "cell_type": "markdown",
   "id": "e5bd5b5b-5e07-4cf0-8a85-bfa328fa6ef1",
   "metadata": {},
   "source": [
    "# Document Retrieve - Index (Manual)\n",
    "\n",
    "Quick reference for Azure AI Search 11.06 Document:\n",
    "\n",
    "- [SearchClient](https://learn.microsoft.com/en-us/python/api/azure-search-documents/azure.search.documents.searchclient?view=azure-python#azure-search-documents-searchclient-search)\n",
    "- [Models](https://learn.microsoft.com/en-us/python/api/azure-search-documents/azure.search.documents.models?view=azure-python)\n",
    "- [Index](https://learn.microsoft.com/en-us/python/api/azure-search-documents/azure.search.documents.indexes?view=azure-python)\n",
    "\n",
    "\n",
    "> Warning this sample is not latest and it needs to modify some parameters!\n",
    "\n",
    "Azure AI Search integrated vectorization Sample [link](https://github.com/Azure/azure-search-vector-samples/blob/main/demo-python/code/integrated-vectorization/azure-search-integrated-vectorization-sample.ipynb)"
   ]
  },
  {
   "cell_type": "code",
   "execution_count": null,
   "id": "b24787e8-2788-466f-8e25-b9a763cdabc6",
   "metadata": {},
   "outputs": [],
   "source": [
    "from dotenv import load_dotenv\n",
    "load_dotenv()"
   ]
  },
  {
   "cell_type": "code",
   "execution_count": null,
   "id": "71a954b9",
   "metadata": {},
   "outputs": [],
   "source": [
    "import os\n",
    "\n",
    "api_key = os.environ[\"AZURE_OPENAI_KEY\"]\n",
    "azure_endpoint = os.environ['AZURE_OPENAI_ENDPOINT']"
   ]
  },
  {
   "cell_type": "code",
   "execution_count": null,
   "id": "7d1955e6-7e7b-4d58-ab4b-2c257f315707",
   "metadata": {},
   "outputs": [],
   "source": [
    "from azure.core.credentials import AzureKeyCredential  \n",
    "from azure.search.documents import SearchClient  \n",
    "from azure.search.documents.indexes import SearchIndexClient  \n",
    "from azure.search.documents.indexes.models import (  \n",
    "    SearchIndex,  \n",
    "    SearchField,  \n",
    "    SearchFieldDataType,  \n",
    "    SimpleField,  \n",
    "    SearchableField,  \n",
    "    SearchIndex,  \n",
    "    SemanticConfiguration,  \n",
    "    SearchField,  \n",
    "    VectorSearch,\n",
    "    SemanticSearch,\n",
    "    SemanticPrioritizedFields,\n",
    "    SemanticField,\n",
    "    HnswAlgorithmConfiguration,\n",
    "    HnswParameters,\n",
    "    VectorSearchAlgorithmMetric,\n",
    "    VectorSearchProfile,\n",
    "    AzureOpenAIVectorizer,\n",
    "    AzureOpenAIVectorizerParameters\n",
    ")"
   ]
  },
  {
   "cell_type": "code",
   "execution_count": null,
   "id": "bbc2384c-0930-4036-a96c-fd67b294a698",
   "metadata": {},
   "outputs": [],
   "source": [
    "import os\n",
    "service_endpoint = os.getenv(\"AZSCH_ENDPOINT\")  \n",
    "credential = AzureKeyCredential(os.environ[\"AZSCH_KEY\"])\n",
    "\n",
    "# update index name `aoai-md-index`\n",
    "index_name = os.environ[\"AZSCH_INDEX_NAME\"]"
   ]
  },
  {
   "cell_type": "code",
   "execution_count": null,
   "id": "b5fb9733-bb29-47e8-abc7-a175ce1dc92a",
   "metadata": {},
   "outputs": [],
   "source": [
    "# Create a search index\n",
    "index_client = SearchIndexClient(\n",
    "    endpoint=service_endpoint, credential=credential)\n",
    "fields = [\n",
    "    SimpleField(name=\"id\", type=SearchFieldDataType.String, key=True),\n",
    "    SearchableField(name=\"title\", type=SearchFieldDataType.String,\n",
    "                    searchable=True, retrievable=True),\n",
    "    SearchableField(name=\"chunk\", type=SearchFieldDataType.String,\n",
    "                    searchable=True, retrievable=True),\n",
    "    SearchableField(name=\"parent_id\", type=SearchFieldDataType.String,\n",
    "                    searchable=True, retrievable=True),\n",
    "    SearchableField(name=\"chunk_id\", type=SearchFieldDataType.String,\n",
    "                    searchable=True, retrievable=True),\n",
    "    SearchField(name=\"vector\", type=SearchFieldDataType.Collection(SearchFieldDataType.Single),\n",
    "                searchable=True, vector_search_dimensions=1536, vector_search_profile_name=\"myHnswProfile\")  \n",
    "]\n",
    "\n",
    "vector_search = VectorSearch(  \n",
    "    algorithms=[  \n",
    "        HnswAlgorithmConfiguration(  \n",
    "            name=\"myHnsw\",  \n",
    "            parameters=HnswParameters(  \n",
    "                m=4,  \n",
    "                ef_construction=400,  \n",
    "                ef_search=500,  \n",
    "                metric=VectorSearchAlgorithmMetric.COSINE,  \n",
    "            ),  \n",
    "        )\n",
    "    ],  \n",
    "    profiles=[  \n",
    "        VectorSearchProfile(  \n",
    "            name=\"myHnswProfile\",  \n",
    "            algorithm_configuration_name=\"myHnsw\",\n",
    "            vectorizer_name=\"vectorizer\"\n",
    "        )\n",
    "    ],\n",
    "    vectorizers=[\n",
    "      AzureOpenAIVectorizer(\n",
    "        vectorizer_name=\"vectorizer\",\n",
    "        kind=\"azureOpenAI\",\n",
    "        parameters = AzureOpenAIVectorizerParameters(\n",
    "            resource_url=azure_endpoint,\n",
    "            api_key=api_key,\n",
    "            deployment_name=\"text-embedding-ada-002\",\n",
    "            model_name=\"text-embedding-ada-002\",\n",
    "        ),\n",
    "      )\n",
    "    ]\n",
    ")  \n",
    "\n",
    "semantic_config = SemanticConfiguration(  \n",
    "    name=\"semantic-config\",  \n",
    "    prioritized_fields=SemanticPrioritizedFields(  \n",
    "        title_field=SemanticField(field_name=\"title\"),\n",
    "        content_fields=[SemanticField(field_name=\"chunk\")]  \n",
    "    ),  \n",
    ")\n",
    "\n",
    "# Create the semantic search with the configuration  \n",
    "semantic_search = SemanticSearch(configurations=[semantic_config]) \n",
    "\n",
    "# Create the search index\n",
    "index = SearchIndex(name=index_name, fields=fields,\n",
    "                    vector_search=vector_search, semantic_search=semantic_search)\n",
    "result = index_client.create_or_update_index(index)\n",
    "print(f' {result.name} created')"
   ]
  },
  {
   "cell_type": "markdown",
   "id": "7d58407d-adc8-467f-85a2-b82aecc83d2c",
   "metadata": {},
   "source": [
    "## Ingest"
   ]
  },
  {
   "cell_type": "code",
   "execution_count": null,
   "id": "57df7f57-481a-465c-b431-e552a95d5dd7",
   "metadata": {},
   "outputs": [],
   "source": [
    "import os\n",
    "from openai import AzureOpenAI\n",
    "\n",
    "client = AzureOpenAI(\n",
    "  api_key = os.environ['AZURE_OPENAI_KEY'],\n",
    "  api_version = \"2024-10-01-preview\",\n",
    "  azure_endpoint = os.environ['AZURE_OPENAI_ENDPOINT']\n",
    ")\n",
    "\n",
    "def generate_embeddings(text):\n",
    "    response = client.embeddings.create(\n",
    "        input = text,\n",
    "        model= \"text-embedding-ada-002\"\n",
    "    )\n",
    "    return response.data[0].embedding"
   ]
  },
  {
   "cell_type": "code",
   "execution_count": null,
   "id": "58555f0c-deed-4fc9-85b7-d8f2cab5b26c",
   "metadata": {},
   "outputs": [],
   "source": [
    "import pandas as pd\n",
    "df = pd.read_pickle('./aoai-docs.pkl')\n",
    "df"
   ]
  },
  {
   "cell_type": "raw",
   "id": "9c1cfb53-6e1c-4276-901e-6a33147c645a",
   "metadata": {
    "vscode": {
     "languageId": "raw"
    }
   },
   "source": [
    "import json\n",
    "import time, math\n",
    "from tqdm.auto import tqdm\n",
    "\n",
    "count = 0\n",
    "batch_size = 100 # 100 RPS\n",
    "for i in tqdm(range(0, len(df), batch_size)):\n",
    "    t_s = time.time()\n",
    "    # set end position of batch\n",
    "    i_end = min(i+batch_size, len(df))\n",
    "    df.loc[i:i_end, ('vector')] = df.loc[i:i_end, ('chunk')].apply(lambda row: generate_embeddings(row))\n",
    "\n",
    "    t_f = time.time()\n",
    "    sleep_s = 60 - math.floor(t_f - t_s)\n",
    "\n",
    "    time.sleep(sleep_s if (sleep_s > 0) else 0)\n"
   ]
  },
  {
   "cell_type": "code",
   "execution_count": null,
   "id": "dd415190",
   "metadata": {},
   "outputs": [],
   "source": [
    "from tqdm import tqdm\n",
    "\n",
    "# Parameters\n",
    "batch_size = 20  # Number of rows to process in a batch, adjust as needed\n",
    "\n",
    "# Function to get embeddings in batches\n",
    "def get_embeddings_in_batches(df, batch_size, model_name=\"text-embedding-ada-002\"):\n",
    "    embeddings = []\n",
    "    for i in tqdm(range(0, len(df), batch_size)):\n",
    "        # Prepare the batch\n",
    "        batch_content = df['chunk'].iloc[i:i + batch_size].tolist()\n",
    "\n",
    "        # Request embeddings from OpenAI in batch\n",
    "        response = client.embeddings.create(\n",
    "            input=batch_content,\n",
    "            model=model_name\n",
    "        )\n",
    "        \n",
    "        # Extract embeddings\n",
    "        batch_embeddings = [item.embedding for item in response.data]\n",
    "        embeddings.extend(batch_embeddings)\n",
    "    \n",
    "    return embeddings"
   ]
  },
  {
   "cell_type": "code",
   "execution_count": null,
   "id": "147a787e-6e48-4576-8527-5e42ac6d2fe0",
   "metadata": {},
   "outputs": [],
   "source": [
    "df['vector'] = get_embeddings_in_batches(df, batch_size)\n",
    "df"
   ]
  },
  {
   "cell_type": "code",
   "execution_count": null,
   "id": "c477d307-a2c7-4a18-a0bb-51d88deb324a",
   "metadata": {},
   "outputs": [],
   "source": [
    "df.to_pickle('aoai-docs-vector.pkl')"
   ]
  },
  {
   "cell_type": "raw",
   "id": "5d5d582f-255c-447c-acdd-53acc61ac2e0",
   "metadata": {
    "vscode": {
     "languageId": "raw"
    }
   },
   "source": [
    "df = pd.read_pickle('aoai-docs-vector.pkl')\n",
    "df"
   ]
  },
  {
   "cell_type": "code",
   "execution_count": null,
   "id": "b433ac77-87e8-4826-8dc5-88998a9e98fa",
   "metadata": {},
   "outputs": [],
   "source": [
    "import numpy as np\n",
    "from numpy.linalg import norm\n",
    "\n",
    "def cosine_similarity(A, B):\n",
    "    return np.dot(A, B) / (norm(A) * norm(B))"
   ]
  },
  {
   "cell_type": "code",
   "execution_count": null,
   "id": "d236a8bb-5224-4d5f-ba73-57e18977c15f",
   "metadata": {},
   "outputs": [],
   "source": [
    "query = \"what is Assistant API?\"\n",
    "vector = generate_embeddings(query)\n",
    "\n",
    "df[\"cosine_sim\"] = df['vector'].apply(lambda x: cosine_similarity(x, vector))\n",
    "result = df.sort_values(\"cosine_sim\", ascending=False).head(3)\n",
    "\n",
    "result"
   ]
  },
  {
   "cell_type": "code",
   "execution_count": null,
   "id": "0320a53f-ab42-4dd4-bd30-263bed16fa75",
   "metadata": {},
   "outputs": [],
   "source": [
    "search_client = SearchClient(endpoint=service_endpoint, index_name=index_name, credential=credential)"
   ]
  },
  {
   "cell_type": "code",
   "execution_count": null,
   "id": "c23fc7d1-7686-4a45-a966-c82a494d3840",
   "metadata": {},
   "outputs": [],
   "source": [
    "count = 0\n",
    "batch_size = 20\n",
    "for i in tqdm(range(0, len(df), batch_size)):\n",
    "    # set end position of batch\n",
    "    i_end = min(i+batch_size, len(df))\n",
    "    \n",
    "    documents = df[i:i_end].apply(\n",
    "        lambda row: {'id': str(row.name), \n",
    "                     'title': row['title'], \n",
    "                     'chunk': row['chunk'],\n",
    "                     'parent_id': row['parent_id'],\n",
    "                     'chunk_id': str(row['chunk_id']),\n",
    "                     #'vector': generate_embeddings(row['chunk'])\n",
    "                     'vector': row['vector']\n",
    "                    }, axis=1).to_list()\n",
    "    \n",
    "    result = search_client.upload_documents(documents)  "
   ]
  },
  {
   "cell_type": "code",
   "execution_count": null,
   "id": "12a117b1-b60d-4b9a-96af-0b20a73f255b",
   "metadata": {},
   "outputs": [],
   "source": [
    "from azure.search.documents.models import VectorizableTextQuery, VectorQuery, VectorizedQuery"
   ]
  },
  {
   "cell_type": "code",
   "execution_count": null,
   "id": "e80fe031-c6d7-463a-87d4-e9f0ebced292",
   "metadata": {},
   "outputs": [],
   "source": [
    "from colorama import Fore, Back, Style\n",
    "\n",
    "def azsch_embed_query(query):\n",
    "    vector_query = VectorizedQuery(vector=generate_embeddings(query), k_nearest_neighbors=3, fields=\"vector\")\n",
    "    #vector_query = VectorizableTextQuery(text=query, k_nearest_neighbors=3, fields=\"vector\", exhaustive=True)\n",
    "\n",
    "    results = search_client.search(  \n",
    "        search_text=None,  \n",
    "        vector_queries=[vector_query],\n",
    "        select=[\"title\", \"chunk\", \"parent_id\", \"chunk_id\"],\n",
    "        top=10 # for limiting text search\n",
    "    ) \n",
    "\n",
    "    for result in results:  \n",
    "        print((Fore.RED if (result['@search.score'] < 0.8) else Fore.GREEN) + f\"{result['@search.score']:.10f}\" \n",
    "              + Style.RESET_ALL + f\": {result['title']} - {result['parent_id']}, {result['chunk_id']}\")  "
   ]
  },
  {
   "cell_type": "code",
   "execution_count": null,
   "id": "41e353d0-65b9-4721-8823-759e429c6430",
   "metadata": {},
   "outputs": [],
   "source": [
    "%%time\n",
    "azsch_embed_query(\"what is Assistant API?\")"
   ]
  },
  {
   "cell_type": "code",
   "execution_count": null,
   "id": "d58428f3",
   "metadata": {},
   "outputs": [],
   "source": []
  }
 ],
 "metadata": {
  "kernelspec": {
   "display_name": "workshop",
   "language": "python",
   "name": "python3"
  },
  "language_info": {
   "codemirror_mode": {
    "name": "ipython",
    "version": 3
   },
   "file_extension": ".py",
   "mimetype": "text/x-python",
   "name": "python",
   "nbconvert_exporter": "python",
   "pygments_lexer": "ipython3",
   "version": "3.9.20"
  }
 },
 "nbformat": 4,
 "nbformat_minor": 5
}
