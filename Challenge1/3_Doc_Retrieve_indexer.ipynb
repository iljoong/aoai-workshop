{
 "cells": [
  {
   "cell_type": "markdown",
   "id": "e5bd5b5b-5e07-4cf0-8a85-bfa328fa6ef1",
   "metadata": {},
   "source": [
    "# Document Retrieve - Indexer (Built-in)\n",
    "\n",
    "Prep: create a blob folder `docs` before running the indexer."
   ]
  },
  {
   "cell_type": "code",
   "execution_count": 1,
   "id": "b24787e8-2788-466f-8e25-b9a763cdabc6",
   "metadata": {},
   "outputs": [
    {
     "data": {
      "text/plain": [
       "True"
      ]
     },
     "execution_count": 1,
     "metadata": {},
     "output_type": "execute_result"
    }
   ],
   "source": [
    "from dotenv import load_dotenv\n",
    "load_dotenv()"
   ]
  },
  {
   "cell_type": "code",
   "execution_count": 2,
   "id": "7d1955e6-7e7b-4d58-ab4b-2c257f315707",
   "metadata": {},
   "outputs": [],
   "source": [
    "from azure.core.credentials import AzureKeyCredential  \n",
    "from azure.search.documents import SearchClient  \n",
    "from azure.search.documents.indexes import SearchIndexClient, SearchIndexerClient\n",
    "from azure.search.documents.indexes.models import (  \n",
    "    SearchIndex,  \n",
    "    SearchField,  \n",
    "    SearchFieldDataType,  \n",
    "    SimpleField,  \n",
    "    SearchableField,  \n",
    "    SearchIndex,  \n",
    "    SemanticConfiguration,  \n",
    "    SearchField,  \n",
    "    VectorSearch,\n",
    "    SemanticSearch,\n",
    "    SemanticPrioritizedFields,\n",
    "    SemanticField,\n",
    "    HnswAlgorithmConfiguration,\n",
    "    HnswParameters,\n",
    "    VectorSearchAlgorithmMetric,\n",
    "    VectorSearchProfile,\n",
    "    AzureOpenAIVectorizer,\n",
    "    AzureOpenAIVectorizerParameters,\n",
    "    AzureOpenAIEmbeddingSkill,\n",
    "    FieldMapping,\n",
    "    IndexProjectionMode,\n",
    "    InputFieldMappingEntry,\n",
    "    OutputFieldMappingEntry,\n",
    "    SearchIndexer,\n",
    "    SearchIndexerDataContainer,\n",
    "    SearchIndexerDataSourceConnection,\n",
    "    SearchIndexerDataSourceType,\n",
    "    SearchIndexerIndexProjection,\n",
    "    SearchIndexerIndexProjectionSelector,\n",
    "    SearchIndexerIndexProjectionsParameters,\n",
    "    SearchIndexerSkillset,\n",
    "    SplitSkill,\n",
    ")"
   ]
  },
  {
   "cell_type": "code",
   "execution_count": null,
   "id": "bbc2384c-0930-4036-a96c-fd67b294a698",
   "metadata": {},
   "outputs": [],
   "source": [
    "import os\n",
    "\n",
    "search_endpoint = os.getenv(\"AZSCH_ENDPOINT\")  \n",
    "credential = AzureKeyCredential(os.environ[\"AZSCH_KEY\"])\n",
    "index_name = os.environ[\"AZSCH_INDEX_NAME\"]\n",
    "\n",
    "api_key = os.environ[\"AZURE_OPENAI_KEY\"]\n",
    "azure_endpoint = os.environ['AZURE_OPENAI_ENDPOINT']\n",
    "\n",
    "storage_connection_string = os.environ[\"AZURE_STORAGE_CONNECTION_STRING\"]\n",
    "# docs\n",
    "storage_container = os.environ[\"AZURE_STORAGE_CONTAINER\"]\n",
    "\n",
    "local_folder = \"docs\""
   ]
  },
  {
   "cell_type": "code",
   "execution_count": 4,
   "id": "b5fb9733-bb29-47e8-abc7-a175ce1dc92a",
   "metadata": {},
   "outputs": [
    {
     "name": "stdout",
     "output_type": "stream",
     "text": [
      " sample-aoai-docs created\n"
     ]
    }
   ],
   "source": [
    "# Create a search index\n",
    "index_client = SearchIndexClient(\n",
    "    endpoint=search_endpoint, credential=credential)\n",
    "fields = [\n",
    "    SearchableField(name=\"chunk_id\", key=True, analyzer_name=\"keyword\", sortable=True),\n",
    "    SimpleField(name=\"parent_id\", type=SearchFieldDataType.String, filterable=True),\n",
    "    SearchableField(name=\"title\"),\n",
    "    SearchableField(name=\"chunk\", type=SearchFieldDataType.String,\n",
    "                    searchable=True, retrievable=True),\n",
    "    SearchField(name=\"vector\", type=SearchFieldDataType.Collection(SearchFieldDataType.Single),\n",
    "                searchable=True, vector_search_dimensions=1536, vector_search_profile_name=\"myHnswProfile\")  \n",
    "]\n",
    "\n",
    "# indexer\n",
    "indexer_client = SearchIndexerClient(search_endpoint, credential)\n",
    "\n",
    "data_source_connections = indexer_client.get_data_source_connections()\n",
    "indexer_client.create_data_source_connection(\n",
    "    data_source_connection=SearchIndexerDataSourceConnection(\n",
    "        name=index_name, \n",
    "        type=SearchIndexerDataSourceType.AZURE_BLOB,\n",
    "        connection_string=storage_connection_string,\n",
    "        container=SearchIndexerDataContainer(name=storage_container)))\n",
    "\n",
    "vector_search = VectorSearch(  \n",
    "    algorithms=[  \n",
    "        HnswAlgorithmConfiguration(  \n",
    "            name=\"myHnsw\",  \n",
    "            parameters=HnswParameters(  \n",
    "                m=4,  \n",
    "                ef_construction=400,  \n",
    "                ef_search=500,  \n",
    "                metric=VectorSearchAlgorithmMetric.COSINE,  \n",
    "            ),  \n",
    "        )\n",
    "    ],  \n",
    "    profiles=[  \n",
    "        VectorSearchProfile(  \n",
    "            name=\"myHnswProfile\",  \n",
    "            algorithm_configuration_name=\"myHnsw\",\n",
    "            vectorizer_name=\"vectorizer\"\n",
    "        )\n",
    "    ],\n",
    "    vectorizers=[\n",
    "      AzureOpenAIVectorizer(\n",
    "        vectorizer_name=\"vectorizer\",\n",
    "        kind=\"azureOpenAI\",\n",
    "        parameters = AzureOpenAIVectorizerParameters(\n",
    "            resource_url=azure_endpoint,\n",
    "            api_key=api_key,\n",
    "            deployment_name=\"text-embedding-ada-002\",\n",
    "            model_name=\"text-embedding-ada-002\",\n",
    "        ),\n",
    "      )\n",
    "    ]\n",
    ")  \n",
    "\n",
    "semantic_config = SemanticConfiguration(  \n",
    "    name=\"semantic-config\",  \n",
    "    prioritized_fields=SemanticPrioritizedFields(  \n",
    "        title_field=SemanticField(field_name=\"title\"),\n",
    "        content_fields=[SemanticField(field_name=\"chunk\")]  \n",
    "    ),  \n",
    ")\n",
    "\n",
    "# Create the semantic search with the configuration  \n",
    "semantic_search = SemanticSearch(configurations=[semantic_config]) \n",
    "\n",
    "# Create the search index\n",
    "index = SearchIndex(name=index_name, fields=fields,\n",
    "                    vector_search=vector_search, semantic_search=semantic_search)\n",
    "result = index_client.create_or_update_index(index)\n",
    "print(f' {result.name} created')"
   ]
  },
  {
   "cell_type": "markdown",
   "id": "1768191d",
   "metadata": {},
   "source": [
    "## Indexer"
   ]
  },
  {
   "cell_type": "code",
   "execution_count": 5,
   "id": "e5faeccd",
   "metadata": {},
   "outputs": [
    {
     "name": "stdout",
     "output_type": "stream",
     "text": [
      "Creating skillset: sample-aoai-docs\n"
     ]
    },
    {
     "data": {
      "text/plain": [
       "<azure.search.documents.indexes.models._models.SearchIndexer at 0x1084eba90>"
      ]
     },
     "execution_count": 5,
     "metadata": {},
     "output_type": "execute_result"
    }
   ],
   "source": [
    "skillsets = indexer_client.get_skillsets()\n",
    "print(f\"Creating skillset: {index_name}\")\n",
    "indexer_client.create_skillset(\n",
    "    skillset=SearchIndexerSkillset(\n",
    "        name=index_name,\n",
    "        skills=[\n",
    "            SplitSkill(\n",
    "                text_split_mode=\"pages\",\n",
    "                context=\"/document\",\n",
    "                maximum_page_length=2000,\n",
    "                page_overlap_length=500,\n",
    "                inputs=[InputFieldMappingEntry(name=\"text\", source=\"/document/content\")],\n",
    "                outputs=[OutputFieldMappingEntry(name=\"textItems\", target_name=\"pages\")]),\n",
    "            AzureOpenAIEmbeddingSkill(\n",
    "                context=\"/document/pages/*\",\n",
    "                resource_url=azure_endpoint,\n",
    "                api_key=api_key,\n",
    "                deployment_name=\"text-embedding-ada-002\",\n",
    "                model_name=\"text-embedding-ada-002\",\n",
    "                dimensions=1536,\n",
    "                inputs=[InputFieldMappingEntry(name=\"text\", source=\"/document/pages/*\")],\n",
    "                outputs=[OutputFieldMappingEntry(name=\"embedding\", target_name=\"text_vector\")])\n",
    "        ],\n",
    "        index_projection=SearchIndexerIndexProjection(\n",
    "            selectors=[\n",
    "                SearchIndexerIndexProjectionSelector(\n",
    "                    target_index_name=index_name,\n",
    "                    parent_key_field_name=\"parent_id\",\n",
    "                    source_context=\"/document/pages/*\",\n",
    "                    mappings=[\n",
    "                        InputFieldMappingEntry(name=\"chunk\", source=\"/document/pages/*\"),\n",
    "                        InputFieldMappingEntry(name=\"vector\", source=\"/document/pages/*/text_vector\"),\n",
    "                        InputFieldMappingEntry(name=\"title\", source=\"/document/metadata_storage_name\")\n",
    "                    ]\n",
    "                )\n",
    "            ],\n",
    "            parameters=SearchIndexerIndexProjectionsParameters(\n",
    "                projection_mode=IndexProjectionMode.SKIP_INDEXING_PARENT_DOCUMENTS\n",
    "            )\n",
    "        )))\n",
    "\n",
    "indexers = indexer_client.get_indexers()\n",
    "indexer_client.create_indexer(\n",
    "    indexer=SearchIndexer(\n",
    "        name=index_name,\n",
    "        data_source_name=index_name,\n",
    "        skillset_name=index_name,\n",
    "        target_index_name=index_name,        \n",
    "        field_mappings=[FieldMapping(source_field_name=\"metadata_storage_name\", target_field_name=\"title\")]\n",
    "    )\n",
    ")"
   ]
  },
  {
   "cell_type": "markdown",
   "id": "19f75566",
   "metadata": {},
   "source": [
    "## Upload data"
   ]
  },
  {
   "cell_type": "code",
   "execution_count": 6,
   "id": "240c3bf0",
   "metadata": {},
   "outputs": [
    {
     "name": "stdout",
     "output_type": "stream",
     "text": [
      "Uploading blob for file: %s assistants-studio.md\n",
      "Indexer started. Any unindexed blobs should be indexed in a few minutes, check the Azure Portal for status.\n",
      "Uploading blob for file: %s advanced-prompt-engineering.md\n",
      "Indexer started. Any unindexed blobs should be indexed in a few minutes, check the Azure Portal for status.\n",
      "Uploading blob for file: %s assistants-reference.md\n",
      "Indexer started. Any unindexed blobs should be indexed in a few minutes, check the Azure Portal for status.\n",
      "Uploading blob for file: %s assistants-reference-threads.md\n",
      "Indexer started. Any unindexed blobs should be indexed in a few minutes, check the Azure Portal for status.\n",
      "Uploading blob for file: %s assistants-reference-messages.md\n",
      "Indexer started. Any unindexed blobs should be indexed in a few minutes, check the Azure Portal for status.\n",
      "Uploading blob for file: %s azure-search.md\n",
      "Indexer started. Any unindexed blobs should be indexed in a few minutes, check the Azure Portal for status.\n",
      "Uploading blob for file: %s api-version-deprecation.md\n",
      "Indexer started. Any unindexed blobs should be indexed in a few minutes, check the Azure Portal for status.\n",
      "Uploading blob for file: %s azure-machine-learning.md\n",
      "Indexer started. Any unindexed blobs should be indexed in a few minutes, check the Azure Portal for status.\n",
      "Uploading blob for file: %s assistants-reference-runs.md\n",
      "Indexer started. Any unindexed blobs should be indexed in a few minutes, check the Azure Portal for status.\n",
      "Uploading blob for file: %s abuse-monitoring.md\n",
      "Indexer started. Any unindexed blobs should be indexed in a few minutes, check the Azure Portal for status.\n",
      "Uploading blob for file: %s assistants-python.md\n",
      "Indexer started. Any unindexed blobs should be indexed in a few minutes, check the Azure Portal for status.\n",
      "Uploading blob for file: %s assistants.md\n",
      "Indexer started. Any unindexed blobs should be indexed in a few minutes, check the Azure Portal for status.\n",
      "Uploading blob for file: %s assistants-rest.md\n",
      "Indexer started. Any unindexed blobs should be indexed in a few minutes, check the Azure Portal for status.\n",
      "Uploading blob for file: %s assistant-functions.md\n",
      "Indexer started. Any unindexed blobs should be indexed in a few minutes, check the Azure Portal for status.\n",
      "Uploading blob for file: %s assistants-quickstart.md\n",
      "Indexer started. Any unindexed blobs should be indexed in a few minutes, check the Azure Portal for status.\n",
      "Uploading blob for file: %s assistant.md\n",
      "Indexer started. Any unindexed blobs should be indexed in a few minutes, check the Azure Portal for status.\n"
     ]
    }
   ],
   "source": [
    "#indexer_client = SearchIndexerClient(service_endpoint, credential)\n",
    "indexer_name=index_name\n",
    "\n",
    "from azure.storage.blob import BlobServiceClient\n",
    "\n",
    "blob_client = BlobServiceClient.from_connection_string(\n",
    "    storage_connection_string,\n",
    "    max_single_put_size=4 * 1024 * 1024\n",
    ")\n",
    "\n",
    "container_client = blob_client.get_container_client(storage_container)\n",
    "if not container_client.exists():\n",
    "    container_client.create_container()\n",
    "\n",
    "existing_blobs = [blob.name for blob in container_client.list_blobs()]\n",
    "\n",
    "# Open each file in local(`/data``) folder\n",
    "for file in os.scandir(local_folder):\n",
    "    with open(file.path, \"rb\") as opened_file:\n",
    "        filename = os.path.basename(file.path)\n",
    "        print(\"Uploading blob for file: %s\", filename)\n",
    "        blob_client = container_client.upload_blob(filename, opened_file, overwrite=True)\n",
    "\n",
    "    # Start the indexer\n",
    "    indexer_client.run_indexer(indexer_name)\n",
    "    print(\"Indexer started. Any unindexed blobs should be indexed in a few minutes, check the Azure Portal for status.\")"
   ]
  },
  {
   "cell_type": "markdown",
   "id": "7d58407d-adc8-467f-85a2-b82aecc83d2c",
   "metadata": {},
   "source": [
    "## Query"
   ]
  },
  {
   "cell_type": "code",
   "execution_count": 7,
   "id": "12a117b1-b60d-4b9a-96af-0b20a73f255b",
   "metadata": {},
   "outputs": [],
   "source": [
    "from azure.search.documents.models import VectorizableTextQuery, VectorQuery, VectorizedQuery"
   ]
  },
  {
   "cell_type": "code",
   "execution_count": 8,
   "id": "e80fe031-c6d7-463a-87d4-e9f0ebced292",
   "metadata": {},
   "outputs": [],
   "source": [
    "from colorama import Fore, Back, Style\n",
    "\n",
    "search_client = SearchClient(endpoint=search_endpoint, index_name=index_name, credential=credential)\n",
    "\n",
    "def azsch_embed_query(query):\n",
    "    #vector_query = VectorizedQuery(vector=generate_embeddings(query), k_nearest_neighbors=3, fields=\"vector\")\n",
    "    vector_query = VectorizableTextQuery(text=query, k_nearest_neighbors=3, fields=\"vector\", exhaustive=True)\n",
    "\n",
    "    results = search_client.search(  \n",
    "        search_text=None,  \n",
    "        vector_queries=[vector_query],\n",
    "        select=[\"title\", \"chunk\", \"parent_id\", \"chunk_id\"],\n",
    "        top=10 # for limiting text search\n",
    "    ) \n",
    "\n",
    "    for result in results:  \n",
    "        print((Fore.RED if (result['@search.score'] < 0.8) else Fore.GREEN) + f\"{result['@search.score']:.10f}\" \n",
    "              + Style.RESET_ALL + f\": {result['title']} - {result['parent_id']}, {result['chunk_id']}\")  "
   ]
  },
  {
   "cell_type": "code",
   "execution_count": 9,
   "id": "41e353d0-65b9-4721-8823-759e429c6430",
   "metadata": {},
   "outputs": [
    {
     "name": "stdout",
     "output_type": "stream",
     "text": [
      "\u001b[32m0.8456522000\u001b[0m: assistants.md - aHR0cHM6Ly9pa2FwcHN0b3JhZ2UuYmxvYi5jb3JlLndpbmRvd3MubmV0L2RvY3MvYXNzaXN0YW50cy5tZA2, fc9946dbd1bc_aHR0cHM6Ly9pa2FwcHN0b3JhZ2UuYmxvYi5jb3JlLndpbmRvd3MubmV0L2RvY3MvYXNzaXN0YW50cy5tZA2_pages_0\n",
      "\u001b[32m0.8219723700\u001b[0m: assistant.md - aHR0cHM6Ly9pa2FwcHN0b3JhZ2UuYmxvYi5jb3JlLndpbmRvd3MubmV0L2RvY3MvYXNzaXN0YW50Lm1k0, 301bd3bea9ce_aHR0cHM6Ly9pa2FwcHN0b3JhZ2UuYmxvYi5jb3JlLndpbmRvd3MubmV0L2RvY3MvYXNzaXN0YW50Lm1k0_pages_0\n",
      "\u001b[32m0.8212635000\u001b[0m: assistants.md - aHR0cHM6Ly9pa2FwcHN0b3JhZ2UuYmxvYi5jb3JlLndpbmRvd3MubmV0L2RvY3MvYXNzaXN0YW50cy5tZA2, fc9946dbd1bc_aHR0cHM6Ly9pa2FwcHN0b3JhZ2UuYmxvYi5jb3JlLndpbmRvd3MubmV0L2RvY3MvYXNzaXN0YW50cy5tZA2_pages_1\n",
      "CPU times: user 10.5 ms, sys: 6.65 ms, total: 17.1 ms\n",
      "Wall time: 985 ms\n"
     ]
    }
   ],
   "source": [
    "%%time\n",
    "azsch_embed_query(\"what is Assistant API?\")"
   ]
  },
  {
   "cell_type": "code",
   "execution_count": null,
   "id": "d58428f3",
   "metadata": {},
   "outputs": [],
   "source": []
  }
 ],
 "metadata": {
  "kernelspec": {
   "display_name": "workshop",
   "language": "python",
   "name": "python3"
  },
  "language_info": {
   "codemirror_mode": {
    "name": "ipython",
    "version": 3
   },
   "file_extension": ".py",
   "mimetype": "text/x-python",
   "name": "python",
   "nbconvert_exporter": "python",
   "pygments_lexer": "ipython3",
   "version": "3.9.20"
  }
 },
 "nbformat": 4,
 "nbformat_minor": 5
}
