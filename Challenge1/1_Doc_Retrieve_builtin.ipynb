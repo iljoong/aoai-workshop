{
 "cells": [
  {
   "cell_type": "markdown",
   "id": "a236afd4-31fb-4f34-b938-508974d10632",
   "metadata": {},
   "source": [
    "# Document Retrieve - Prep\n",
    "\n",
    "Builtin indexing (AzurePortal)\n",
    "\n"
   ]
  },
  {
   "cell_type": "markdown",
   "id": "b49f1a68-788a-486c-be48-3505583f83ea",
   "metadata": {
    "jp-MarkdownHeadingCollapsed": true
   },
   "source": [
    "## Upload documents to blob storage\n",
    "\n",
    "- create a new container named `docs` on your blob storage\n",
    "- upload sample files in [docs](./docs) to `docs` container"
   ]
  },
  {
   "cell_type": "markdown",
   "id": "21bab015-bc7a-4d62-a740-b8d351514e82",
   "metadata": {},
   "source": [
    "## Import and vectorize\n",
    "\n",
    "Follow the instruction on below document:\n",
    "\n",
    "https://techcommunity.microsoft.com/t5/ai-azure-ai-services-blog/announcing-the-public-preview-of-integrated-vectorization-in/ba-p/3960809\n",
    "\n",
    "![built-in indexing](https://techcommunity.microsoft.com/t5/image/serverpage/image-id/525202iB01F39921E4DD998/image-size/large?v=v2&px=999)"
   ]
  }
 ],
 "metadata": {
  "kernelspec": {
   "display_name": "Python 3 (ipykernel)",
   "language": "python",
   "name": "python3"
  },
  "language_info": {
   "codemirror_mode": {
    "name": "ipython",
    "version": 3
   },
   "file_extension": ".py",
   "mimetype": "text/x-python",
   "name": "python",
   "nbconvert_exporter": "python",
   "pygments_lexer": "ipython3",
   "version": "3.9.18"
  }
 },
 "nbformat": 4,
 "nbformat_minor": 5
}
