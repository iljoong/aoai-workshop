{
 "cells": [
  {
   "cell_type": "markdown",
   "id": "a236afd4-31fb-4f34-b938-508974d10632",
   "metadata": {},
   "source": [
    "# Document Retrieve - Prep\n",
    "\n",
    "Builtin indexing (AzurePortal)\n",
    "\n"
   ]
  },
  {
   "cell_type": "markdown",
   "id": "b49f1a68-788a-486c-be48-3505583f83ea",
   "metadata": {},
   "source": [
    "## Upload documents to blob storage\n",
    "\n",
    "- create a new container named `docs` on your blob storage\n",
    "- upload sample files in [docs](./docs) to `docs` container"
   ]
  },
  {
   "cell_type": "markdown",
   "id": "1b4c1045-33fb-49cb-aabd-82e46b467361",
   "metadata": {},
   "source": [
    "### Copy files using Azure CLI\n",
    "\n",
    "```bash\n",
    "# install azure cli\n",
    "# az login\n",
    "# az account set -s <subscription>\n",
    "az storage blob upload-batch -s docs -d docs --account-name <acctname> --overwrite\n",
    "```"
   ]
  },
  {
   "cell_type": "markdown",
   "id": "21bab015-bc7a-4d62-a740-b8d351514e82",
   "metadata": {},
   "source": [
    "## Import and vectorize\n",
    "\n",
    "Follow the instruction on below document:\n",
    "\n",
    "https://techcommunity.microsoft.com/t5/ai-azure-ai-services-blog/announcing-the-public-preview-of-integrated-vectorization-in/ba-p/3960809\n",
    "\n",
    "![built-in indexing](https://techcommunity.microsoft.com/t5/s/gxcuf89792/images/bS0zOTYwODA5LTUyNTIwOWlGMkVBMjFBMzY3N0QxOUVD?revision=39)"
   ]
  },
  {
   "cell_type": "markdown",
   "id": "85137e93",
   "metadata": {},
   "source": []
  }
 ],
 "metadata": {
  "kernelspec": {
   "display_name": "workshop",
   "language": "python",
   "name": "python3"
  },
  "language_info": {
   "codemirror_mode": {
    "name": "ipython",
    "version": 3
   },
   "file_extension": ".py",
   "mimetype": "text/x-python",
   "name": "python",
   "nbconvert_exporter": "python",
   "pygments_lexer": "ipython3",
   "version": "3.9.20"
  }
 },
 "nbformat": 4,
 "nbformat_minor": 5
}
