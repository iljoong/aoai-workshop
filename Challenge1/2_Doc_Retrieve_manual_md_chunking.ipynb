{
 "cells": [
  {
   "cell_type": "markdown",
   "id": "6a200b06-1d83-4065-a6bf-b4a4cfd08b46",
   "metadata": {},
   "source": [
    "# Document Retrieve - Chunking (Manual)\n",
    "\n",
    "Chunking document manually using LangChain\n",
    "\n",
    "- Chunking\n",
    "    - md & text split of md formated texet\n",
    "- Data analysis (Token size)"
   ]
  },
  {
   "cell_type": "markdown",
   "id": "513539f2-8273-46ea-8db2-f874f637faea",
   "metadata": {},
   "source": [
    "## Doucment prep\n",
    "\n",
    "Azure OpenAI documents (MD formatted)\n",
    "- https://github.com/MicrosoftDocs/azure-docs/tree/main/articles/ai-services/openai"
   ]
  },
  {
   "cell_type": "code",
   "execution_count": 1,
   "id": "5595c1be-0c95-43bd-b530-caa6136cf7a1",
   "metadata": {},
   "outputs": [],
   "source": [
    "import tiktoken\n",
    "encoding = tiktoken.get_encoding(\"cl100k_base\")\n",
    "\n",
    "def token_size(text):\n",
    "    return len(encoding.encode(text))"
   ]
  },
  {
   "cell_type": "code",
   "execution_count": 2,
   "id": "ca47b5a6-af7b-4894-ad97-58ddc57bb16c",
   "metadata": {},
   "outputs": [],
   "source": [
    "import os\n",
    "import pandas as pd\n",
    "import re"
   ]
  },
  {
   "cell_type": "code",
   "execution_count": 3,
   "id": "188c3e35-a678-40ab-abb1-b7d891e12928",
   "metadata": {},
   "outputs": [],
   "source": [
    "def remove_between_markers(text, start_marker, end_marker):\n",
    "    # Find the start and end positions of the markers\n",
    "    start_pos = text.find(start_marker)\n",
    "    end_pos = text.find(end_marker, start_pos + len(start_marker))\n",
    "    \n",
    "    # Remove the content between the markers\n",
    "    if start_pos != -1 and end_pos != -1:\n",
    "        return text[:start_pos] + text[end_pos + len(end_marker):]\n",
    "    else:\n",
    "        return text"
   ]
  },
  {
   "cell_type": "code",
   "execution_count": 4,
   "id": "124ff536-c4d0-4139-a3d7-bb3db209198b",
   "metadata": {},
   "outputs": [
    {
     "data": {
      "text/html": [
       "<div>\n",
       "<style scoped>\n",
       "    .dataframe tbody tr th:only-of-type {\n",
       "        vertical-align: middle;\n",
       "    }\n",
       "\n",
       "    .dataframe tbody tr th {\n",
       "        vertical-align: top;\n",
       "    }\n",
       "\n",
       "    .dataframe thead th {\n",
       "        text-align: right;\n",
       "    }\n",
       "</style>\n",
       "<table border=\"1\" class=\"dataframe\">\n",
       "  <thead>\n",
       "    <tr style=\"text-align: right;\">\n",
       "      <th></th>\n",
       "      <th>file_name</th>\n",
       "      <th>size</th>\n",
       "      <th>token_size</th>\n",
       "      <th>title</th>\n",
       "      <th>content</th>\n",
       "    </tr>\n",
       "  </thead>\n",
       "  <tbody>\n",
       "    <tr>\n",
       "      <th>0</th>\n",
       "      <td>content-filters.md</td>\n",
       "      <td>13289</td>\n",
       "      <td>2691</td>\n",
       "      <td>How to use content filters (preview) with Azur...</td>\n",
       "      <td># How to configure content filters with Azure ...</td>\n",
       "    </tr>\n",
       "    <tr>\n",
       "      <th>1</th>\n",
       "      <td>dotnet-new-application.md</td>\n",
       "      <td>709</td>\n",
       "      <td>177</td>\n",
       "      <td>dotnet-new-application.md</td>\n",
       "      <td>### Create a new .NET Core application\\n\\nIn a...</td>\n",
       "    </tr>\n",
       "    <tr>\n",
       "      <th>2</th>\n",
       "      <td>fine-tuning-python.md</td>\n",
       "      <td>33086</td>\n",
       "      <td>7734</td>\n",
       "      <td>Customize a model with Azure OpenAI Service an...</td>\n",
       "      <td>## Prerequisites\\n\\n- Read the [When to use Az...</td>\n",
       "    </tr>\n",
       "    <tr>\n",
       "      <th>3</th>\n",
       "      <td>use-your-data-dotnet.md</td>\n",
       "      <td>5775</td>\n",
       "      <td>1210</td>\n",
       "      <td>use-your-data-dotnet.md</td>\n",
       "      <td>[!INCLUDE [Set up required variables](./use-yo...</td>\n",
       "    </tr>\n",
       "    <tr>\n",
       "      <th>4</th>\n",
       "      <td>text-to-speech-rest.md</td>\n",
       "      <td>1202</td>\n",
       "      <td>293</td>\n",
       "      <td>text-to-speech-rest.md</td>\n",
       "      <td>## REST API\\n\\nIn a bash shell, run the follow...</td>\n",
       "    </tr>\n",
       "    <tr>\n",
       "      <th>...</th>\n",
       "      <td>...</td>\n",
       "      <td>...</td>\n",
       "      <td>...</td>\n",
       "      <td>...</td>\n",
       "      <td>...</td>\n",
       "    </tr>\n",
       "    <tr>\n",
       "      <th>133</th>\n",
       "      <td>gpt-v-quickstart.md</td>\n",
       "      <td>654</td>\n",
       "      <td>182</td>\n",
       "      <td>Quickstart: Use GPT-4 Turbo with Vision on you...</td>\n",
       "      <td># Quickstart: Use images in your AI chats\\n\\n:...</td>\n",
       "    </tr>\n",
       "    <tr>\n",
       "      <th>134</th>\n",
       "      <td>use-your-data-powershell.md</td>\n",
       "      <td>4169</td>\n",
       "      <td>971</td>\n",
       "      <td>use-your-data-powershell.md</td>\n",
       "      <td>[!INCLUDE [Set up required variables](./use-yo...</td>\n",
       "    </tr>\n",
       "    <tr>\n",
       "      <th>135</th>\n",
       "      <td>use-your-data-python.md</td>\n",
       "      <td>4593</td>\n",
       "      <td>1084</td>\n",
       "      <td>use-your-data-python.md</td>\n",
       "      <td>[!INCLUDE [Set up required variables](./use-yo...</td>\n",
       "    </tr>\n",
       "    <tr>\n",
       "      <th>136</th>\n",
       "      <td>use-your-image-data.md</td>\n",
       "      <td>13966</td>\n",
       "      <td>3096</td>\n",
       "      <td>Use your image data with Azure OpenAI Service ...</td>\n",
       "      <td># Azure OpenAI on your data with images using ...</td>\n",
       "    </tr>\n",
       "    <tr>\n",
       "      <th>137</th>\n",
       "      <td>use-your-data-go.md</td>\n",
       "      <td>4892</td>\n",
       "      <td>1228</td>\n",
       "      <td>use-your-data-go.md</td>\n",
       "      <td>[!INCLUDE [Set up required variables](./use-yo...</td>\n",
       "    </tr>\n",
       "  </tbody>\n",
       "</table>\n",
       "<p>138 rows × 5 columns</p>\n",
       "</div>"
      ],
      "text/plain": [
       "                       file_name   size token_size  \\\n",
       "0             content-filters.md  13289       2691   \n",
       "1      dotnet-new-application.md    709        177   \n",
       "2          fine-tuning-python.md  33086       7734   \n",
       "3        use-your-data-dotnet.md   5775       1210   \n",
       "4         text-to-speech-rest.md   1202        293   \n",
       "..                           ...    ...        ...   \n",
       "133          gpt-v-quickstart.md    654        182   \n",
       "134  use-your-data-powershell.md   4169        971   \n",
       "135      use-your-data-python.md   4593       1084   \n",
       "136       use-your-image-data.md  13966       3096   \n",
       "137          use-your-data-go.md   4892       1228   \n",
       "\n",
       "                                                 title  \\\n",
       "0    How to use content filters (preview) with Azur...   \n",
       "1                            dotnet-new-application.md   \n",
       "2    Customize a model with Azure OpenAI Service an...   \n",
       "3                              use-your-data-dotnet.md   \n",
       "4                               text-to-speech-rest.md   \n",
       "..                                                 ...   \n",
       "133  Quickstart: Use GPT-4 Turbo with Vision on you...   \n",
       "134                        use-your-data-powershell.md   \n",
       "135                            use-your-data-python.md   \n",
       "136  Use your image data with Azure OpenAI Service ...   \n",
       "137                                use-your-data-go.md   \n",
       "\n",
       "                                               content  \n",
       "0    # How to configure content filters with Azure ...  \n",
       "1    ### Create a new .NET Core application\\n\\nIn a...  \n",
       "2    ## Prerequisites\\n\\n- Read the [When to use Az...  \n",
       "3    [!INCLUDE [Set up required variables](./use-yo...  \n",
       "4    ## REST API\\n\\nIn a bash shell, run the follow...  \n",
       "..                                                 ...  \n",
       "133  # Quickstart: Use images in your AI chats\\n\\n:...  \n",
       "134  [!INCLUDE [Set up required variables](./use-yo...  \n",
       "135  [!INCLUDE [Set up required variables](./use-yo...  \n",
       "136  # Azure OpenAI on your data with images using ...  \n",
       "137  [!INCLUDE [Set up required variables](./use-yo...  \n",
       "\n",
       "[138 rows x 5 columns]"
      ]
     },
     "execution_count": 4,
     "metadata": {},
     "output_type": "execute_result"
    }
   ],
   "source": [
    "# Create an empty DataFrame with specific column names\n",
    "df = pd.DataFrame(columns=['file_name', 'size', 'token_size', 'title', 'content'])\n",
    "\n",
    "for md in os.listdir(\"./docs\"):\n",
    "    if not os.path.isdir(md):\n",
    "        with open(f'./docs/{md}', \"r\") as f:\n",
    "            text = f.read()\n",
    "\n",
    "    pattern = r\"title:\\s*(.*)\"\n",
    "    matches = re.search(pattern, text)\n",
    "\n",
    "    # get title from header\n",
    "    title = \"\"\n",
    "    if matches:\n",
    "        title = matches.group(1)\n",
    "        title = title.replace(\"'\", \"\")\n",
    "    else:\n",
    "        title = md\n",
    "\n",
    "    # clean header\n",
    "    text = remove_between_markers(text, \"---\", \"---\\n\\n\")\n",
    "    \n",
    "    new_row = {'file_name': md, 'size': len(text), 'token_size': token_size(text), 'title':  title, 'content': text}\n",
    "    df = pd.concat([df, pd.DataFrame([new_row])], ignore_index=True)\n",
    "\n",
    "df"
   ]
  },
  {
   "cell_type": "raw",
   "id": "b1df8a97-6c30-4750-bd0d-5531e539519b",
   "metadata": {},
   "source": [
    "df[df['title'] == \"\"]"
   ]
  },
  {
   "cell_type": "markdown",
   "id": "843b5749-9bf7-48ad-9ba7-3f1a6d0e8dfb",
   "metadata": {},
   "source": [
    "## Chunking Comparison\n",
    "\n",
    "- https://github.com/Azure/azure-search-vector-samples/blob/main/demo-python/code/data-chunking/langchain-data-chunking-example.ipynb\n",
    "- https://python.langchain.com/docs/modules/data_connection/document_loaders/file_directory#auto-detect-file-encodings-with-textloader"
   ]
  },
  {
   "cell_type": "code",
   "execution_count": 5,
   "id": "3f8e999e-b751-4d7d-b6d7-8895bc28c80d",
   "metadata": {},
   "outputs": [],
   "source": [
    "from langchain.text_splitter import RecursiveCharacterTextSplitter, MarkdownHeaderTextSplitter\n",
    "\n",
    "def get_encoding_name(model=\"gpt-4o\"):\n",
    "    return tiktoken.encoding_for_model(model).name"
   ]
  },
  {
   "cell_type": "code",
   "execution_count": 6,
   "id": "b703f51a-5fe7-4bf1-a821-0276f0146e90",
   "metadata": {
    "scrolled": true
   },
   "outputs": [
    {
     "data": {
      "text/plain": [
       "'# Getting started with Azure OpenAI Assistants (Preview)\\n\\nAzure OpenAI Assistants (Preview) allows you to create AI assistants tailored to your needs through custom instructions and augmented by advanced tools like code interpreter, and custom functions. In this article we\\'ll provide an in-depth walkthrough of getting started with the Assistants API.\\n\\n## Assistants support\\n\\n### Region and model support\\n\\nThe [models page](../concepts/models.md#assistants-preview) contains the most up-to-date information on regions/models where Assistants are currently supported.\\n\\n### API Version\\n\\n- `2024-02-15-preview`\\n\\n### Supported file types\\n\\n|File format|MIME Type|Code Interpreter |\\n|---|---|---|\\n|.c| text/x-c |✅|\\n|.cpp|text/x-c++ |✅|\\n|.csv|application/csv|✅|\\n|.docx|application/vnd.openxmlformats-officedocument.wordprocessingml.document|✅|\\n|.html|text/html|✅|\\n|.java|text/x-java|✅|\\n|.json|application/json|✅|\\n|.md|text/markdown| ✅ |\\n|.pdf|application/pdf|✅|\\n|.php|text/x-php|✅|\\n|.pptx|application/vnd.openxmlformats-officedocument.presentationml.presentation|✅|\\n|.py|text/x-python|✅|\\n|.py|text/x-script.python|✅|\\n|.rb|text/x-ruby|✅|\\n|.tex|text/x-tex|✅|\\n|.txt|text/plain|✅|\\n|.css|text/css|✅|\\n|.jpeg|image/jpeg|✅|\\n|.jpg|image/jpeg|✅|\\n|.js|text/javascript|✅|\\n|.gif|image/gif|✅|\\n|.png|image/png|✅|\\n|.tar|application/x-tar|✅|\\n|.ts|application/typescript|✅|\\n|.xlsx|application/vnd.openxmlformats-officedocument.spreadsheetml.sheet|✅|\\n|.xml|application/xml or \"text/xml\"|✅|\\n|.zip|application/zip|✅|\\n\\n### Tools\\n\\nAn individual assistant can access up to 128 tools including `code interpreter`, but you can also define your own custom tools via [functions](./assistant-functions.md).\\n\\n### Files\\n\\nFiles can be uploaded via Studio, or programmatically. The `file_ids` parameter is required to give tools like `code_interpreter` access to files. When using the File upload endpoint, you must have the `purpose` set to assistants to be used with the Assistants API.\\n\\n## Assistants playground\\n\\nWe provide a walkthrough of the Assistants playground in our [quickstart guide](../assistants-quickstart.md). This provides a no-code environment to test out the capabilities of assistants.\\n\\n## Assistants components\\n\\n| **Component** | **Description** |\\n|---|---|\\n| **Assistant** | Custom AI that uses Azure OpenAI models in conjunction with tools. |\\n|**Thread** | A conversation session between an Assistant and a user. Threads store Messages and automatically handle truncation to fit content into a model’s context.|\\n| **Message** | A message created by an Assistant or a user. Messages can include text, images, and other files. Messages are stored as a list on the Thread. |\\n|**Run** | Activation of an Assistant to begin running based on the contents of the Thread. The Assistant uses its configuration and the Thread’s Messages to perform tasks by calling models and tools. As part of a Run, the Assistant appends Messages to the Thread.|\\n|**Run Step** | A detailed list of steps the Assistant took as part of a Run. An Assistant can call tools or create Messages during it’s run. Examining Run Steps allows you to understand how the Assistant is getting to its final results. |\\n\\n## Setting up your first Assistant\\n\\n### Create an assistant\\n\\nFor this example we\\'ll create an assistant that writes code to generate visualizations using the capabilities of the `code_interpreter` tool. The examples below are intended to be run sequentially in an environment like [Jupyter Notebooks](https://jupyter.org/).\\n\\n```Python\\nimport os\\nimport json\\nfrom openai import AzureOpenAI\\n    \\nclient = AzureOpenAI(\\n    api_key=os.getenv(\"AZURE_OPENAI_KEY\"),  \\n    api_version=\"2024-02-15-preview\",\\n    azure_endpoint = os.getenv(\"AZURE_OPENAI_ENDPOINT\")\\n    )\\n\\n# Create an assistant\\nassistant = client.beta.assistants.create(\\n    name=\"Data Visualization\",\\n    instructions=f\"You are a helpful AI assistant who makes interesting visualizations based on data.\" \\n    f\"You have access to a sandboxed environment for writing and testing code.\"\\n    f\"When you are asked to create a visualization you should follow these steps:\"\\n    f\"1. Write the code.\"\\n    f\"2. Anytime you write new code display a preview of the code to show your work.\"\\n    f\"3. Run the code to confirm that it runs.\"\\n    f\"4. If the code is successful display the visualization.\"\\n    f\"5. If the code is unsuccessful display the error message and try to revise the code and rerun going through the steps from above again.\",\\n    tools=[{\"type\": \"code_interpreter\"}],\\n    model=\"gpt-4-1106-preview\" #You must replace this value with the deployment name for your model.\\n)\\n\\n```\\n\\nThere are a few details you should note from the configuration above:\\n\\n- We enable this assistant to access code interpreter with the line ` tools=[{\"type\": \"code_interpreter\"}],`. This gives the model access to a sand-boxed python environment to run and execute code to help formulating responses to a user\\'s question.\\n- In the instructions we remind the model that it can execute code. Sometimes the model needs help guiding it towards the right tool to solve a given query. If you know, you want to use a particular library to generate a certain response that you know is part of code interpreter it can help to provide guidance by saying something like \"Use Matplotlib to do x.\"\\n- Since this is Azure OpenAI the value you enter for `model=` **must match the deployment name**. By convention our docs will often use a deployment name that happens to match the model name to indicate which model was used when testing a given example, but in your environment the deployment names can be different and that is the name that you should enter in the code.\\n\\nNext we\\'re going to print the contents of assistant that we just created to confirm that creation was successful:\\n\\n```python\\nprint(assistant.model_dump_json(indent=2))\\n```\\n\\n```json\\n{\\n  \"id\": \"asst_7AZSrv5I3XzjUqWS40X5UgRr\",\\n  \"created_at\": 1705972454,\\n  \"description\": null,\\n  \"file_ids\": [],\\n  \"instructions\": \"You are a helpful AI assistant who makes interesting visualizations based on data.You have access to a sandboxed environment for writing and testing code.When you are asked to create a visualization you should follow these steps:1. Write the code.2. Anytime you write new code display a preview of the code to show your work.3. Run the code to confirm that it runs.4. If the code is successful display the visualization.5. If the code is unsuccessful display the error message and try to revise the code and rerun going through the steps from above again.\",\\n  \"metadata\": {},\\n  \"model\": \"gpt-4-1106-preview\",\\n  \"name\": \"Data Visualization\",\\n  \"object\": \"assistant\",\\n  \"tools\": [\\n    {\\n      \"type\": \"code_interpreter\"\\n    }\\n  ]\\n}\\n```\\n\\n### Create a thread\\n\\nNow let\\'s create a thread\\n\\n```python\\n# Create a thread\\nthread = client.beta.threads.create()\\nprint(thread)\\n```\\n\\n```output\\nThread(id=\\'thread_6bunpoBRZwNhovwzYo7fhNVd\\', created_at=1705972465, metadata={}, object=\\'thread\\')\\n```\\n\\nA thread is essentially the record of the conversation session between the assistant and the user. It\\'s similar to the messages array/list in a typical chat completions API call. One of the key differences, is unlike a chat completions messages array, you don\\'t need to track tokens with each call to make sure that you\\'re remaining below the context length of the model. Threads abstract away this management detail and will compress the thread history as needed in order to allow the conversation to continue. The ability for threads to accomplish this with larger conversations is enhanced when using the latest models, which have larger context lengths as well as support for the latest features.\\n\\nNext create the first user question to add to the thread\\n\\n```python\\n# Add a user question to the thread\\nmessage = client.beta.threads.messages.create(\\n    thread_id=thread.id,\\n    role=\"user\",\\n    content=\"Create a visualization of a sinewave\"\\n)\\n```\\n\\n### List thread messages\\n\\n```python\\nthread_messages = client.beta.threads.messages.list(thread.id)\\nprint(thread_messages.model_dump_json(indent=2))\\n```\\n\\n```json\\n{\\n  \"data\": [\\n    {\\n      \"id\": \"msg_JnkmWPo805Ft8NQ0gZF6vA2W\",\\n      \"assistant_id\": null,\\n      \"content\": [\\n        {\\n          \"text\": {\\n            \"annotations\": [],\\n            \"value\": \"Create a visualization of a sinewave\"\\n          },\\n          \"type\": \"text\"\\n        }\\n      ],\\n      \"created_at\": 1705972476,\\n      \"file_ids\": [],\\n      \"metadata\": {},\\n      \"object\": \"thread.message\",\\n      \"role\": \"user\",\\n      \"run_id\": null,\\n      \"thread_id\": \"thread_6bunpoBRZwNhovwzYo7fhNVd\"\\n    }\\n  ],\\n  \"object\": \"list\",\\n  \"first_id\": \"msg_JnkmWPo805Ft8NQ0gZF6vA2W\",\\n  \"last_id\": \"msg_JnkmWPo805Ft8NQ0gZF6vA2W\",\\n  \"has_more\": false\\n}\\n```\\n\\n### Run thread\\n\\n```python\\nrun = client.beta.threads.runs.create(\\n  thread_id=thread.id,\\n  assistant_id=assistant.id,\\n  #instructions=\"New instructions\" #You can optionally provide new instructions but these will override the default instructions\\n)\\n```\\n\\nWe could also pass an `instructions` parameter here, but this would override the existing instructions that we have already provided for the assistant.\\n\\n### Retrieve thread status\\n\\n```python\\n# Retrieve the status of the run\\nrun = client.beta.threads.runs.retrieve(\\n  thread_id=thread.id,\\n  run_id=run.id\\n)\\n\\nstatus = run.status\\nprint(status)\\n```\\n\\n```output\\ncompleted\\n```\\n\\nDepending on the complexity of the query you run, the thread could take longer to execute. In that case you can create a loop to monitor the [run status](#run-status-definitions) of the thread with code like the example below:\\n\\n```python\\nimport time\\nfrom IPython.display import clear_output\\n\\nstart_time = time.time()\\n\\nstatus = run.status\\n\\nwhile status not in [\"completed\", \"cancelled\", \"expired\", \"failed\"]:\\n    time.sleep(5)\\n    run = client.beta.threads.runs.retrieve(thread_id=thread.id,run_id=run.id)\\n    print(\"Elapsed time: {} minutes {} seconds\".format(int((time.time() - start_time) // 60), int((time.time() - start_time) % 60)))\\n    status = run.status\\n    print(f\\'Status: {status}\\')\\n    clear_output(wait=True)\\n\\nmessages = client.beta.threads.messages.list(\\n  thread_id=thread.id\\n) \\n\\nprint(f\\'Status: {status}\\')\\nprint(\"Elapsed time: {} minutes {} seconds\".format(int((time.time() - start_time) // 60), int((time.time() - start_time) % 60)))\\nprint(messages.model_dump_json(indent=2))\\n```\\n\\nWhen a Run is `in_progress` or in other nonterminal states the thread is locked. When a thread is locked new messages can\\'t be added, and new runs can\\'t be created.\\n\\n### List thread messages post run\\n\\nOnce the run status indicates successful completion, you can list the contents of the thread again to retrieve the model\\'s and any tools response:\\n\\n```python\\nmessages = client.beta.threads.messages.list(\\n  thread_id=thread.id\\n)\\n\\nprint(messages.model_dump_json(indent=2))\\n```\\n\\n```json\\n{\\n  \"data\": [\\n    {\\n      \"id\": \"msg_M5pz73YFsJPNBbWvtVs5ZY3U\",\\n      \"assistant_id\": \"asst_eHwhP4Xnad0bZdJrjHO2hfB4\",\\n      \"content\": [\\n        {\\n          \"text\": {\\n            \"annotations\": [],\\n            \"value\": \"Is there anything else you would like to visualize or any additional features you\\'d like to add to the sine wave plot?\"\\n          },\\n          \"type\": \"text\"\\n        }\\n      ],\\n      \"created_at\": 1705967782,\\n      \"file_ids\": [],\\n      \"metadata\": {},\\n      \"object\": \"thread.message\",\\n      \"role\": \"assistant\",\\n      \"run_id\": \"run_AGQHJrrfV3eM0eI9T3arKgYY\",\\n      \"thread_id\": \"thread_ow1Yv29ptyVtv7ixbiKZRrHd\"\\n    },\\n    {\\n      \"id\": \"msg_oJbUanImBRpRran5HSa4Duy4\",\\n      \"assistant_id\": \"asst_eHwhP4Xnad0bZdJrjHO2hfB4\",\\n      \"content\": [\\n        {\\n          \"image_file\": {\\n            \"file_id\": \"assistant-1YGVTvNzc2JXajI5JU9F0HMD\"\\n          },\\n          \"type\": \"image_file\"\\n        },\\n        {\\n          \"text\": {\\n            \"annotations\": [],\\n            \"value\": \"Here is the visualization of a sine wave: \\\\n\\\\nThe wave is plotted using values from 0 to \\\\\\\\( 4\\\\\\\\pi \\\\\\\\) on the x-axis, and the corresponding sine values on the y-axis. I\\'ve also added grid lines for easier reading of the plot.\"\\n          },\\n          \"type\": \"text\"\\n        }\\n      ],\\n      \"created_at\": 1705967044,\\n      \"file_ids\": [],\\n      \"metadata\": {},\\n      \"object\": \"thread.message\",\\n      \"role\": \"assistant\",\\n      \"run_id\": \"run_8PsweDFn6gftUd91H87K0Yts\",\\n      \"thread_id\": \"thread_ow1Yv29ptyVtv7ixbiKZRrHd\"\\n    },\\n    {\\n      \"id\": \"msg_Pu3eHjM10XIBkwqh7IhnKKdG\",\\n      \"assistant_id\": null,\\n      \"content\": [\\n        {\\n          \"text\": {\\n            \"annotations\": [],\\n            \"value\": \"Create a visualization of a sinewave\"\\n          },\\n          \"type\": \"text\"\\n        }\\n      ],\\n      \"created_at\": 1705966634,\\n      \"file_ids\": [],\\n      \"metadata\": {},\\n      \"object\": \"thread.message\",\\n      \"role\": \"user\",\\n      \"run_id\": null,\\n      \"thread_id\": \"thread_ow1Yv29ptyVtv7ixbiKZRrHd\"\\n    }\\n  ],\\n  \"object\": \"list\",\\n  \"first_id\": \"msg_M5pz73YFsJPNBbWvtVs5ZY3U\",\\n  \"last_id\": \"msg_Pu3eHjM10XIBkwqh7IhnKKdG\",\\n  \"has_more\": false\\n}\\n```\\n\\n### Retrieve file ID\\n\\nWe had requested that the model generate an image of a sine wave. In order to download the image, we first need to retrieve the images file ID.\\n\\n```python\\ndata = json.loads(messages.model_dump_json(indent=2))  # Load JSON data into a Python object\\nimage_file_id = data[\\'data\\'][1][\\'content\\'][0][\\'image_file\\'][\\'file_id\\']\\n\\nprint(image_file_id)  # Outputs: assistant-1YGVTvNzc2JXajI5JU9F0HMD\\n```\\n\\n### Download image\\n\\n```python\\ncontent = client.files.content(image_file_id)\\n\\nimage= content.write_to_file(\"sinewave.png\")\\n```\\n\\nOpen the image locally once it\\'s downloaded:\\n\\n```python\\nfrom PIL import Image\\n\\n# Display the image in the default image viewer\\nimage = Image.open(\"sinewave.png\")\\nimage.show()\\n```\\n\\n:::image type=\"content\" source=\"../media/how-to/assistants/sine-wave.png\" alt-text=\"Screenshot of code interpreter generated sinewave.\" lightbox=\"../media/how-to/assistants/sine-wave.png\":::\\n\\n### Ask a follow-up question on the thread\\n\\nSince the assistant didn\\'t quite follow our instructions and include the code that was run in the text portion of its response lets explicitly ask for that information.\\n\\n```python\\n# Add a new user question to the thread\\nmessage = client.beta.threads.messages.create(\\n    thread_id=thread.id,\\n    role=\"user\",\\n    content=\"Show me the code you used to generate the sinewave\"\\n)\\n```\\n\\nAgain we\\'ll need to run and retrieve the status of the thread:\\n\\n```python\\nrun = client.beta.threads.runs.create(\\n  thread_id=thread.id,\\n  assistant_id=assistant.id,\\n  #instructions=\"New instructions\" #You can optionally provide new instructions  but these will override the default instructions\\n)\\n\\n# Retrieve the status of the run\\nrun = client.beta.threads.runs.retrieve(\\n  thread_id=thread.id,\\n  run_id=run.id\\n)\\n\\nstatus = run.status\\nprint(status)\\n\\n```\\n\\n```output\\ncompleted\\n```\\n\\nOnce the run status reaches completed, we\\'ll list the messages in the thread again which should now include the response to our latest question.\\n\\n```python\\nmessages = client.beta.threads.messages.list(\\n  thread_id=thread.id\\n)\\n\\nprint(messages.model_dump_json(indent=2))\\n```\\n\\n```json\\n{\\n  \"data\": [\\n    {\\n      \"id\": \"msg_oaF1PUeozAvj3KrNnbKSy4LQ\",\\n      \"assistant_id\": \"asst_eHwhP4Xnad0bZdJrjHO2hfB4\",\\n      \"content\": [\\n        {\\n          \"text\": {\\n            \"annotations\": [],\\n            \"value\": \"Certainly, here is the code I used to generate the sine wave visualization:\\\\n\\\\n```python\\\\nimport numpy as np\\\\nimport matplotlib.pyplot as plt\\\\n\\\\n# Generating data for the sinewave\\\\nx = np.linspace(0, 4 * np.pi, 1000)  # Generate values from 0 to 4*pi\\\\ny = np.sin(x)  # Compute the sine of these values\\\\n\\\\n# Plotting the sine wave\\\\nplt.plot(x, y)\\\\nplt.title(\\'Sine Wave\\')\\\\nplt.xlabel(\\'x\\')\\\\nplt.ylabel(\\'sin(x)\\')\\\\nplt.grid(True)\\\\nplt.show()\\\\n```\\\\n\\\\nThis code snippet uses `numpy` to generate an array of x values and then computes the sine for each x value. It then uses `matplotlib` to plot these values and display the resulting graph.\"\\n          },\\n          \"type\": \"text\"\\n        }\\n      ],\\n      \"created_at\": 1705969710,\\n      \"file_ids\": [],\\n      \"metadata\": {},\\n      \"object\": \"thread.message\",\\n      \"role\": \"assistant\",\\n      \"run_id\": \"run_oDS3fH7NorCUVwROTZejKcZN\",\\n      \"thread_id\": \"thread_ow1Yv29ptyVtv7ixbiKZRrHd\"\\n    },\\n    {\\n      \"id\": \"msg_moYE3aNwFYuRq2aXpxpt2Wb0\",\\n      \"assistant_id\": null,\\n      \"content\": [\\n        {\\n          \"text\": {\\n            \"annotations\": [],\\n            \"value\": \"Show me the code you used to generate the sinewave\"\\n          },\\n          \"type\": \"text\"\\n        }\\n      ],\\n      \"created_at\": 1705969678,\\n      \"file_ids\": [],\\n      \"metadata\": {},\\n      \"object\": \"thread.message\",\\n      \"role\": \"user\",\\n      \"run_id\": null,\\n      \"thread_id\": \"thread_ow1Yv29ptyVtv7ixbiKZRrHd\"\\n    },\\n    {\\n      \"id\": \"msg_M5pz73YFsJPNBbWvtVs5ZY3U\",\\n      \"assistant_id\": \"asst_eHwhP4Xnad0bZdJrjHO2hfB4\",\\n      \"content\": [\\n        {\\n          \"text\": {\\n            \"annotations\": [],\\n            \"value\": \"Is there anything else you would like to visualize or any additional features you\\'d like to add to the sine wave plot?\"\\n          },\\n          \"type\": \"text\"\\n        }\\n      ],\\n      \"created_at\": 1705967782,\\n      \"file_ids\": [],\\n      \"metadata\": {},\\n      \"object\": \"thread.message\",\\n      \"role\": \"assistant\",\\n      \"run_id\": \"run_AGQHJrrfV3eM0eI9T3arKgYY\",\\n      \"thread_id\": \"thread_ow1Yv29ptyVtv7ixbiKZRrHd\"\\n    },\\n    {\\n      \"id\": \"msg_oJbUanImBRpRran5HSa4Duy4\",\\n      \"assistant_id\": \"asst_eHwhP4Xnad0bZdJrjHO2hfB4\",\\n      \"content\": [\\n        {\\n          \"image_file\": {\\n            \"file_id\": \"assistant-1YGVTvNzc2JXajI5JU9F0HMD\"\\n          },\\n          \"type\": \"image_file\"\\n        },\\n        {\\n          \"text\": {\\n            \"annotations\": [],\\n            \"value\": \"Here is the visualization of a sine wave: \\\\n\\\\nThe wave is plotted using values from 0 to \\\\\\\\( 4\\\\\\\\pi \\\\\\\\) on the x-axis, and the corresponding sine values on the y-axis. I\\'ve also added grid lines for easier reading of the plot.\"\\n          },\\n          \"type\": \"text\"\\n        }\\n      ],\\n      \"created_at\": 1705967044,\\n      \"file_ids\": [],\\n      \"metadata\": {},\\n      \"object\": \"thread.message\",\\n      \"role\": \"assistant\",\\n      \"run_id\": \"run_8PsweDFn6gftUd91H87K0Yts\",\\n      \"thread_id\": \"thread_ow1Yv29ptyVtv7ixbiKZRrHd\"\\n    },\\n    {\\n      \"id\": \"msg_Pu3eHjM10XIBkwqh7IhnKKdG\",\\n      \"assistant_id\": null,\\n      \"content\": [\\n        {\\n          \"text\": {\\n            \"annotations\": [],\\n            \"value\": \"Create a visualization of a sinewave\"\\n          },\\n          \"type\": \"text\"\\n        }\\n      ],\\n      \"created_at\": 1705966634,\\n      \"file_ids\": [],\\n      \"metadata\": {},\\n      \"object\": \"thread.message\",\\n      \"role\": \"user\",\\n      \"run_id\": null,\\n      \"thread_id\": \"thread_ow1Yv29ptyVtv7ixbiKZRrHd\"\\n    }\\n  ],\\n  \"object\": \"list\",\\n  \"first_id\": \"msg_oaF1PUeozAvj3KrNnbKSy4LQ\",\\n  \"last_id\": \"msg_Pu3eHjM10XIBkwqh7IhnKKdG\",\\n  \"has_more\": false\\n}\\n```\\n\\nTo extract only the response to our latest question:\\n\\n```python\\ndata = json.loads(messages.model_dump_json(indent=2))\\ncode = data[\\'data\\'][0][\\'content\\'][0][\\'text\\'][\\'value\\']\\nprint(code)\\n```\\n\\n*Certainly, here is the code I used to generate the sine wave visualization:*\\n\\n```python\\nimport numpy as np\\nimport matplotlib.pyplot as plt\\n\\n# Generating data for the sinewave\\nx = np.linspace(0, 4 * np.pi, 1000)  # Generate values from 0 to 4*pi\\ny = np.sin(x)  # Compute the sine of these values\\n\\n# Plotting the sine wave\\nplt.plot(x, y)\\nplt.title(\\'Sine Wave\\')\\nplt.xlabel(\\'x\\')\\nplt.ylabel(\\'sin(x)\\')\\nplt.grid(True)\\nplt.show()\\n```\\n\\n### Dark mode\\n\\nLet\\'s add one last question to the thread to see if code interpreter can swap the chart to dark mode for us.\\n\\n```python\\n# Add a user question to the thread\\nmessage = client.beta.threads.messages.create(\\n    thread_id=thread.id,\\n    role=\"user\",\\n    content=\"I prefer visualizations in darkmode can you change the colors to make a darkmode version of this visualization.\"\\n)\\n\\n# Run the thread\\nrun = client.beta.threads.runs.create(\\n  thread_id=thread.id,\\n  assistant_id=assistant.id,\\n)\\n\\n# Retrieve the status of the run\\nrun = client.beta.threads.runs.retrieve(\\n  thread_id=thread.id,\\n  run_id=run.id\\n)\\n\\nstatus = run.status\\nprint(status)\\n```\\n\\n```output\\ncompleted\\n```\\n\\n```python\\nmessages = client.beta.threads.messages.list(\\n  thread_id=thread.id\\n)\\n\\nprint(messages.model_dump_json(indent=2))\\n```\\n\\n```json\\n{\\n  \"data\": [\\n    {\\n      \"id\": \"msg_KKzOHCArWGvGpuPo0pVZTHgV\",\\n      \"assistant_id\": \"asst_eHwhP4Xnad0bZdJrjHO2hfB4\",\\n      \"content\": [\\n        {\\n          \"text\": {\\n            \"annotations\": [],\\n            \"value\": \"You\\'re viewing the dark mode version of the sine wave visualization in the image above. The plot is set against a dark background with a cyan colored sine wave for better contrast and visibility. If there\\'s anything else you\\'d like to adjust or any other assistance you need, feel free to let me know!\"\\n          },\\n          \"type\": \"text\"\\n        }\\n      ],\\n      \"created_at\": 1705971199,\\n      \"file_ids\": [],\\n      \"metadata\": {},\\n      \"object\": \"thread.message\",\\n      \"role\": \"assistant\",\\n      \"run_id\": \"run_izZFyTVB1AlFM1VVMItggRn4\",\\n      \"thread_id\": \"thread_ow1Yv29ptyVtv7ixbiKZRrHd\"\\n    },\\n    {\\n      \"id\": \"msg_30pXFVYNgP38qNEMS4Zbozfk\",\\n      \"assistant_id\": null,\\n      \"content\": [\\n        {\\n          \"text\": {\\n            \"annotations\": [],\\n            \"value\": \"I prefer visualizations in darkmode can you change the colors to make a darkmode version of this visualization.\"\\n          },\\n          \"type\": \"text\"\\n        }\\n      ],\\n      \"created_at\": 1705971194,\\n      \"file_ids\": [],\\n      \"metadata\": {},\\n      \"object\": \"thread.message\",\\n      \"role\": \"user\",\\n      \"run_id\": null,\\n      \"thread_id\": \"thread_ow1Yv29ptyVtv7ixbiKZRrHd\"\\n    },\\n    {\\n      \"id\": \"msg_3j31M0PaJLqO612HLKVsRhlw\",\\n      \"assistant_id\": \"asst_eHwhP4Xnad0bZdJrjHO2hfB4\",\\n      \"content\": [\\n        {\\n          \"image_file\": {\\n            \"file_id\": \"assistant-kfqzMAKN1KivQXaEJuU0u9YS\"\\n          },\\n          \"type\": \"image_file\"\\n        },\\n        {\\n          \"text\": {\\n            \"annotations\": [],\\n            \"value\": \"Here is the dark mode version of the sine wave visualization. I\\'ve used the \\'dark_background\\' style in Matplotlib and chosen a cyan color for the plot line to ensure it stands out against the dark background.\"\\n          },\\n          \"type\": \"text\"\\n        }\\n      ],\\n      \"created_at\": 1705971123,\\n      \"file_ids\": [],\\n      \"metadata\": {},\\n      \"object\": \"thread.message\",\\n      \"role\": \"assistant\",\\n      \"run_id\": \"run_B91erEPWro4bZIfryQeIDDlx\",\\n      \"thread_id\": \"thread_ow1Yv29ptyVtv7ixbiKZRrHd\"\\n    },\\n    {\\n      \"id\": \"msg_FgDZhBvvM1CLTTFXwgeJLdua\",\\n      \"assistant_id\": null,\\n      \"content\": [\\n        {\\n          \"text\": {\\n            \"annotations\": [],\\n            \"value\": \"I prefer visualizations in darkmode can you change the colors to make a darkmode version of this visualization.\"\\n          },\\n          \"type\": \"text\"\\n        }\\n      ],\\n      \"created_at\": 1705971052,\\n      \"file_ids\": [],\\n      \"metadata\": {},\\n      \"object\": \"thread.message\",\\n      \"role\": \"user\",\\n      \"run_id\": null,\\n      \"thread_id\": \"thread_ow1Yv29ptyVtv7ixbiKZRrHd\"\\n    },\\n    {\\n      \"id\": \"msg_oaF1PUeozAvj3KrNnbKSy4LQ\",\\n      \"assistant_id\": \"asst_eHwhP4Xnad0bZdJrjHO2hfB4\",\\n      \"content\": [\\n        {\\n          \"text\": {\\n            \"annotations\": [],\\n            \"value\": \"Certainly, here is the code I used to generate the sine wave visualization:\\\\n\\\\n```python\\\\nimport numpy as np\\\\nimport matplotlib.pyplot as plt\\\\n\\\\n# Generating data for the sinewave\\\\nx = np.linspace(0, 4 * np.pi, 1000)  # Generate values from 0 to 4*pi\\\\ny = np.sin(x)  # Compute the sine of these values\\\\n\\\\n# Plotting the sine wave\\\\nplt.plot(x, y)\\\\nplt.title(\\'Sine Wave\\')\\\\nplt.xlabel(\\'x\\')\\\\nplt.ylabel(\\'sin(x)\\')\\\\nplt.grid(True)\\\\nplt.show()\\\\n```\\\\n\\\\nThis code snippet uses `numpy` to generate an array of x values and then computes the sine for each x value. It then uses `matplotlib` to plot these values and display the resulting graph.\"\\n          },\\n          \"type\": \"text\"\\n        }\\n      ],\\n      \"created_at\": 1705969710,\\n      \"file_ids\": [],\\n      \"metadata\": {},\\n      \"object\": \"thread.message\",\\n      \"role\": \"assistant\",\\n      \"run_id\": \"run_oDS3fH7NorCUVwROTZejKcZN\",\\n      \"thread_id\": \"thread_ow1Yv29ptyVtv7ixbiKZRrHd\"\\n    },\\n    {\\n      \"id\": \"msg_moYE3aNwFYuRq2aXpxpt2Wb0\",\\n      \"assistant_id\": null,\\n      \"content\": [\\n        {\\n          \"text\": {\\n            \"annotations\": [],\\n            \"value\": \"Show me the code you used to generate the sinewave\"\\n          },\\n          \"type\": \"text\"\\n        }\\n      ],\\n      \"created_at\": 1705969678,\\n      \"file_ids\": [],\\n      \"metadata\": {},\\n      \"object\": \"thread.message\",\\n      \"role\": \"user\",\\n      \"run_id\": null,\\n      \"thread_id\": \"thread_ow1Yv29ptyVtv7ixbiKZRrHd\"\\n    },\\n    {\\n      \"id\": \"msg_M5pz73YFsJPNBbWvtVs5ZY3U\",\\n      \"assistant_id\": \"asst_eHwhP4Xnad0bZdJrjHO2hfB4\",\\n      \"content\": [\\n        {\\n          \"text\": {\\n            \"annotations\": [],\\n            \"value\": \"Is there anything else you would like to visualize or any additional features you\\'d like to add to the sine wave plot?\"\\n          },\\n          \"type\": \"text\"\\n        }\\n      ],\\n      \"created_at\": 1705967782,\\n      \"file_ids\": [],\\n      \"metadata\": {},\\n      \"object\": \"thread.message\",\\n      \"role\": \"assistant\",\\n      \"run_id\": \"run_AGQHJrrfV3eM0eI9T3arKgYY\",\\n      \"thread_id\": \"thread_ow1Yv29ptyVtv7ixbiKZRrHd\"\\n    },\\n    {\\n      \"id\": \"msg_oJbUanImBRpRran5HSa4Duy4\",\\n      \"assistant_id\": \"asst_eHwhP4Xnad0bZdJrjHO2hfB4\",\\n      \"content\": [\\n        {\\n          \"image_file\": {\\n            \"file_id\": \"assistant-1YGVTvNzc2JXajI5JU9F0HMD\"\\n          },\\n          \"type\": \"image_file\"\\n        },\\n        {\\n          \"text\": {\\n            \"annotations\": [],\\n            \"value\": \"Here is the visualization of a sine wave: \\\\n\\\\nThe wave is plotted using values from 0 to \\\\\\\\( 4\\\\\\\\pi \\\\\\\\) on the x-axis, and the corresponding sine values on the y-axis. I\\'ve also added grid lines for easier reading of the plot.\"\\n          },\\n          \"type\": \"text\"\\n        }\\n      ],\\n      \"created_at\": 1705967044,\\n      \"file_ids\": [],\\n      \"metadata\": {},\\n      \"object\": \"thread.message\",\\n      \"role\": \"assistant\",\\n      \"run_id\": \"run_8PsweDFn6gftUd91H87K0Yts\",\\n      \"thread_id\": \"thread_ow1Yv29ptyVtv7ixbiKZRrHd\"\\n    },\\n    {\\n      \"id\": \"msg_Pu3eHjM10XIBkwqh7IhnKKdG\",\\n      \"assistant_id\": null,\\n      \"content\": [\\n        {\\n          \"text\": {\\n            \"annotations\": [],\\n            \"value\": \"Create a visualization of a sinewave\"\\n          },\\n          \"type\": \"text\"\\n        }\\n      ],\\n      \"created_at\": 1705966634,\\n      \"file_ids\": [],\\n      \"metadata\": {},\\n      \"object\": \"thread.message\",\\n      \"role\": \"user\",\\n      \"run_id\": null,\\n      \"thread_id\": \"thread_ow1Yv29ptyVtv7ixbiKZRrHd\"\\n    }\\n  ],\\n  \"object\": \"list\",\\n  \"first_id\": \"msg_KKzOHCArWGvGpuPo0pVZTHgV\",\\n  \"last_id\": \"msg_Pu3eHjM10XIBkwqh7IhnKKdG\",\\n  \"has_more\": false\\n}\\n```\\n\\nExtract the new image file ID and download and display the image:\\n\\n```python\\ndata = json.loads(messages.model_dump_json(indent=2))  # Load JSON data into a Python object\\nimage_file_id = data[\\'data\\'][0][\\'content\\'][0][\\'image_file\\'][\\'file_id\\'] # index numbers can vary if you have had a different conversation over the course of the thread.\\n\\nprint(image_file_id)\\n\\ncontent = client.files.content(image_file_id)\\nimage= content.write_to_file(\"dark_sine.png\")\\n\\n# Display the image in the default image viewer\\nimage = Image.open(\"dark_sine.png\")\\nimage.show()\\n```\\n\\n:::image type=\"content\" source=\"../media/how-to/assistants/dark-mode.png\" alt-text=\"Screenshot of code interpreter generated sinewave in darkmode.\" lightbox=\"../media/how-to/assistants/dark-mode.png\":::\\n\\n## Additional reference\\n\\n### Run status definitions\\n\\n|**Status**| **Definition**|\\n|------|--------------|\\n|`queued`| When Runs are first created or when you complete the required_action, they are moved to a queued status. They should almost immediately move to in_progress.|\\n|`in_progress` | While in_progress, the Assistant uses the model and tools to perform steps. You can view progress being made by the Run by examining the Run Steps.|\\n|`completed` | The Run successfully completed! You can now view all Messages the Assistant added to the Thread, and all the steps the Run took. You can also continue the conversation by adding more user Messages to the Thread and creating another Run.|\\n|`requires_action` | When using the Function calling tool, the Run will move to a required_action state once the model determines the names and arguments of the functions to be called. You must then run those functions and submit the outputs before the run proceeds. If the outputs are not provided before the expires_at timestamp passes (roughly 10-mins past creation), the run will move to an expired status.|\\n|`expired` | This happens when the function calling outputs weren\\'t submitted before expires_at and the run expires. Additionally, if the runs take too long to execute and go beyond the time stated in expires_at, our systems will expire the run.|\\n|`cancelling`| You can attempt to cancel an in_progress run using the Cancel Run endpoint. Once the attempt to cancel succeeds, status of the Run moves to canceled. Cancelation is attempted but not guaranteed.|\\n|`cancelled` |Run was successfully canceled.|\\n|`failed` |You can view the reason for the failure by looking at the `last_error` object in the Run. The timestamp for the failure will be recorded under failed_at.|\\n\\n## Message annotations\\n\\nAssistant message annotations are different from the [content filtering annotations](../concepts/content-filter.md) that are present in completion and chat completion API responses. Assistant annotations can occur within the content array of the object. Annotations provide information around how you should annotate the text in the responses to the user.\\n\\nWhen annotations are present in the Message content array, you\\'ll see illegible model-generated substrings in the text that you need to replace with the correct annotations. These strings might look something like `【13†source】` or `sandbox:/mnt/data/file.csv`. Here’s a Python code snippet from OpenAI that replaces these strings with the information present in the annotations.\\n\\n```Python\\n\\nfrom openai import AzureOpenAI\\n    \\nclient = AzureOpenAI(\\n    api_key=os.getenv(\"AZURE_OPENAI_KEY\"),  \\n    api_version=\"2024-02-15-preview\",\\n    azure_endpoint = os.getenv(\"AZURE_OPENAI_ENDPOINT\")\\n    )\\n\\n# Retrieve the message object\\nmessage = client.beta.threads.messages.retrieve(\\n  thread_id=\"...\",\\n  message_id=\"...\"\\n)\\n\\n# Extract the message content\\nmessage_content = message.content[0].text\\nannotations = message_content.annotations\\ncitations = []\\n\\n# Iterate over the annotations and add footnotes\\nfor index, annotation in enumerate(annotations):\\n    # Replace the text with a footnote\\n    message_content.value = message_content.value.replace(annotation.text, f\\' [{index}]\\')\\n\\n    # Gather citations based on annotation attributes\\n    if (file_citation := getattr(annotation, \\'file_citation\\', None)):\\n        cited_file = client.files.retrieve(file_citation.file_id)\\n        citations.append(f\\'[{index}] {file_citation.quote} from {cited_file.filename}\\')\\n    elif (file_path := getattr(annotation, \\'file_path\\', None)):\\n        cited_file = client.files.retrieve(file_path.file_id)\\n        citations.append(f\\'[{index}] Click <here> to download {cited_file.filename}\\')\\n        # Note: File download functionality not implemented above for brevity\\n\\n# Add footnotes to the end of the message before displaying to user\\nmessage_content.value += \\'\\\\n\\' + \\'\\\\n\\'.join(citations)\\n\\n```\\n\\n|Message annotation | Description |\\n|---|---|\\n| `file_citation` | File citations are created by the retrieval tool and define references to a specific quote in a specific file that was uploaded and used by the Assistant to generate the response. |\\n|`file_path` | File path annotations are created by the code_interpreter tool and contain references to the files generated by the tool. |\\n\\n## See also\\n\\n* Learn more about Assistants and [Code Interpreter](./code-interpreter.md)\\n* Learn more about Assistants and [function calling](./assistant-functions.md)\\n* [Azure OpenAI Assistants API samples](https://github.com/Azure-Samples/azureai-samples/tree/main/scenarios/Assistants)\\n'"
      ]
     },
     "execution_count": 6,
     "metadata": {},
     "output_type": "execute_result"
    }
   ],
   "source": [
    "# test chunking\n",
    "#row = df[df['file_name'] == 'use-your-data.md']\n",
    "row = df[df['file_name'] == 'assistant.md']\n",
    "# use list function to show all text in the cell\n",
    "md_content = list(row['content'])[0]\n",
    "md_content"
   ]
  },
  {
   "cell_type": "code",
   "execution_count": 7,
   "id": "24cbbbf2",
   "metadata": {},
   "outputs": [
    {
     "data": {
      "text/plain": [
       "8"
      ]
     },
     "execution_count": 7,
     "metadata": {},
     "output_type": "execute_result"
    }
   ],
   "source": [
    "headers_to_split_on = [\n",
    "    (\"#\", \"H1\"),\n",
    "    (\"##\", \"H2\"),\n",
    "]\n",
    "\n",
    "markdown_splitter = MarkdownHeaderTextSplitter(headers_to_split_on=headers_to_split_on)\n",
    "md_header_splits = markdown_splitter.split_text(md_content)\n",
    "len(md_header_splits)"
   ]
  },
  {
   "cell_type": "code",
   "execution_count": 8,
   "id": "8e8a3087",
   "metadata": {},
   "outputs": [
    {
     "name": "stdout",
     "output_type": "stream",
     "text": [
      "0 65\n",
      "1 476\n",
      "2 43\n",
      "3 215\n",
      "4 6348\n",
      "5 377\n",
      "6 516\n",
      "7 69\n"
     ]
    }
   ],
   "source": [
    "for j, md_split in enumerate(md_header_splits):\n",
    "    if 'H1' in md_split.metadata:\n",
    "        if 'H2' in md_split.metadata:\n",
    "            chunk = f\"## {md_split.metadata['H2']}\\n{md_split.page_content}\"\n",
    "        else:\n",
    "            chunk = f\"# {md_split.metadata['H1']}\\n{md_split.page_content}\"\n",
    "    else:\n",
    "        chunk = md_split.page_content\n",
    "    print(j, token_size(chunk))"
   ]
  },
  {
   "cell_type": "code",
   "execution_count": 9,
   "id": "5deaeac6",
   "metadata": {},
   "outputs": [
    {
     "data": {
      "text/plain": [
       "16"
      ]
     },
     "execution_count": 9,
     "metadata": {},
     "output_type": "execute_result"
    }
   ],
   "source": [
    "# Char-level splits\n",
    "text_splitter = RecursiveCharacterTextSplitter.from_tiktoken_encoder(\n",
    "    encoding_name=get_encoding_name(),\n",
    "    chunk_size=1200, \n",
    "    chunk_overlap=125\n",
    ")\n",
    "\n",
    "# Split\n",
    "splits = text_splitter.split_documents(md_header_splits)\n",
    "len(splits)"
   ]
  },
  {
   "cell_type": "code",
   "execution_count": 10,
   "id": "ea81b417",
   "metadata": {},
   "outputs": [
    {
     "name": "stdout",
     "output_type": "stream",
     "text": [
      "0 65\n",
      "1 476\n",
      "2 43\n",
      "3 215\n",
      "4 312\n",
      "5 1183\n",
      "6 1167\n",
      "7 411\n",
      "8 1189\n",
      "9 280\n",
      "10 1107\n",
      "11 927\n",
      "12 109\n",
      "13 377\n",
      "14 516\n",
      "15 69\n"
     ]
    }
   ],
   "source": [
    "for j, md_split in enumerate(splits):\n",
    "    if 'H1' in md_split.metadata:\n",
    "        if 'H2' in md_split.metadata:\n",
    "            chunk = f\"## {md_split.metadata['H2']}\\n{md_split.page_content}\"\n",
    "        else:\n",
    "            chunk = f\"# {md_split.metadata['H1']}\\n{md_split.page_content}\"\n",
    "    else:\n",
    "        chunk = md_split.page_content\n",
    "    print(j, token_size(chunk))"
   ]
  },
  {
   "cell_type": "markdown",
   "id": "ccd99903-5ce0-4ef3-aa1d-526b455ef37a",
   "metadata": {},
   "source": [
    "## MD Chunking"
   ]
  },
  {
   "cell_type": "code",
   "execution_count": 11,
   "id": "40309d8c-2b55-4007-b5c6-65fe12f87f16",
   "metadata": {},
   "outputs": [
    {
     "data": {
      "text/html": [
       "<div>\n",
       "<style scoped>\n",
       "    .dataframe tbody tr th:only-of-type {\n",
       "        vertical-align: middle;\n",
       "    }\n",
       "\n",
       "    .dataframe tbody tr th {\n",
       "        vertical-align: top;\n",
       "    }\n",
       "\n",
       "    .dataframe thead th {\n",
       "        text-align: right;\n",
       "    }\n",
       "</style>\n",
       "<table border=\"1\" class=\"dataframe\">\n",
       "  <thead>\n",
       "    <tr style=\"text-align: right;\">\n",
       "      <th></th>\n",
       "      <th>title</th>\n",
       "      <th>chunk</th>\n",
       "      <th>parent_id</th>\n",
       "      <th>chunk_id</th>\n",
       "      <th>token_size</th>\n",
       "    </tr>\n",
       "  </thead>\n",
       "  <tbody>\n",
       "    <tr>\n",
       "      <th>0</th>\n",
       "      <td>How to use content filters (preview) with Azur...</td>\n",
       "      <td># How to configure content filters with Azure ...</td>\n",
       "      <td>content-filters.md</td>\n",
       "      <td>0</td>\n",
       "      <td>952</td>\n",
       "    </tr>\n",
       "    <tr>\n",
       "      <th>1</th>\n",
       "      <td>How to use content filters (preview) with Azur...</td>\n",
       "      <td># How to configure content filters with Azure ...</td>\n",
       "      <td>content-filters.md</td>\n",
       "      <td>1</td>\n",
       "      <td>276</td>\n",
       "    </tr>\n",
       "    <tr>\n",
       "      <th>2</th>\n",
       "      <td>How to use content filters (preview) with Azur...</td>\n",
       "      <td>## Configuring content filters via Azure OpenA...</td>\n",
       "      <td>content-filters.md</td>\n",
       "      <td>2</td>\n",
       "      <td>958</td>\n",
       "    </tr>\n",
       "    <tr>\n",
       "      <th>3</th>\n",
       "      <td>How to use content filters (preview) with Azur...</td>\n",
       "      <td>## Configuring content filters via Azure OpenA...</td>\n",
       "      <td>content-filters.md</td>\n",
       "      <td>3</td>\n",
       "      <td>506</td>\n",
       "    </tr>\n",
       "    <tr>\n",
       "      <th>4</th>\n",
       "      <td>How to use content filters (preview) with Azur...</td>\n",
       "      <td>## Best practices\\nWe recommend informing your...</td>\n",
       "      <td>content-filters.md</td>\n",
       "      <td>4</td>\n",
       "      <td>132</td>\n",
       "    </tr>\n",
       "    <tr>\n",
       "      <th>...</th>\n",
       "      <td>...</td>\n",
       "      <td>...</td>\n",
       "      <td>...</td>\n",
       "      <td>...</td>\n",
       "      <td>...</td>\n",
       "    </tr>\n",
       "    <tr>\n",
       "      <th>1113</th>\n",
       "      <td>Use your image data with Azure OpenAI Service ...</td>\n",
       "      <td>## Additional Tips\\n### Adding and Removing Da...</td>\n",
       "      <td>use-your-image-data.md</td>\n",
       "      <td>8</td>\n",
       "      <td>201</td>\n",
       "    </tr>\n",
       "    <tr>\n",
       "      <th>1114</th>\n",
       "      <td>Use your image data with Azure OpenAI Service ...</td>\n",
       "      <td>## Next steps\\n- You can also chat on Azure Op...</td>\n",
       "      <td>use-your-image-data.md</td>\n",
       "      <td>9</td>\n",
       "      <td>113</td>\n",
       "    </tr>\n",
       "    <tr>\n",
       "      <th>1115</th>\n",
       "      <td>use-your-data-go.md</td>\n",
       "      <td>[!INCLUDE [Set up required variables](./use-yo...</td>\n",
       "      <td>use-your-data-go.md</td>\n",
       "      <td>0</td>\n",
       "      <td>18</td>\n",
       "    </tr>\n",
       "    <tr>\n",
       "      <th>1116</th>\n",
       "      <td>use-your-data-go.md</td>\n",
       "      <td>1. Create a new folder named *openai-go* for y...</td>\n",
       "      <td>use-your-data-go.md</td>\n",
       "      <td>1</td>\n",
       "      <td>102</td>\n",
       "    </tr>\n",
       "    <tr>\n",
       "      <th>1117</th>\n",
       "      <td>use-your-data-go.md</td>\n",
       "      <td>1. From the project directory, open the *sampl...</td>\n",
       "      <td>use-your-data-go.md</td>\n",
       "      <td>2</td>\n",
       "      <td>943</td>\n",
       "    </tr>\n",
       "  </tbody>\n",
       "</table>\n",
       "<p>1118 rows × 5 columns</p>\n",
       "</div>"
      ],
      "text/plain": [
       "                                                  title  \\\n",
       "0     How to use content filters (preview) with Azur...   \n",
       "1     How to use content filters (preview) with Azur...   \n",
       "2     How to use content filters (preview) with Azur...   \n",
       "3     How to use content filters (preview) with Azur...   \n",
       "4     How to use content filters (preview) with Azur...   \n",
       "...                                                 ...   \n",
       "1113  Use your image data with Azure OpenAI Service ...   \n",
       "1114  Use your image data with Azure OpenAI Service ...   \n",
       "1115                                use-your-data-go.md   \n",
       "1116                                use-your-data-go.md   \n",
       "1117                                use-your-data-go.md   \n",
       "\n",
       "                                                  chunk  \\\n",
       "0     # How to configure content filters with Azure ...   \n",
       "1     # How to configure content filters with Azure ...   \n",
       "2     ## Configuring content filters via Azure OpenA...   \n",
       "3     ## Configuring content filters via Azure OpenA...   \n",
       "4     ## Best practices\\nWe recommend informing your...   \n",
       "...                                                 ...   \n",
       "1113  ## Additional Tips\\n### Adding and Removing Da...   \n",
       "1114  ## Next steps\\n- You can also chat on Azure Op...   \n",
       "1115  [!INCLUDE [Set up required variables](./use-yo...   \n",
       "1116  1. Create a new folder named *openai-go* for y...   \n",
       "1117  1. From the project directory, open the *sampl...   \n",
       "\n",
       "                   parent_id chunk_id token_size  \n",
       "0         content-filters.md        0        952  \n",
       "1         content-filters.md        1        276  \n",
       "2         content-filters.md        2        958  \n",
       "3         content-filters.md        3        506  \n",
       "4         content-filters.md        4        132  \n",
       "...                      ...      ...        ...  \n",
       "1113  use-your-image-data.md        8        201  \n",
       "1114  use-your-image-data.md        9        113  \n",
       "1115     use-your-data-go.md        0         18  \n",
       "1116     use-your-data-go.md        1        102  \n",
       "1117     use-your-data-go.md        2        943  \n",
       "\n",
       "[1118 rows x 5 columns]"
      ]
     },
     "execution_count": 11,
     "metadata": {},
     "output_type": "execute_result"
    }
   ],
   "source": [
    "markdown_splitter = MarkdownHeaderTextSplitter(headers_to_split_on=headers_to_split_on)\n",
    "md_header_splits = markdown_splitter.split_text(md_content)\n",
    "len(md_header_splits)\n",
    "\n",
    "chunked_data = pd.DataFrame(columns=['title', 'chunk', 'parent_id', 'chunk_id', 'token_size'])\n",
    "\n",
    "for i in range(len(df)):\n",
    "    row = df.iloc[i]\n",
    "\n",
    "    md_content = row['content']\n",
    "    markdown_splitter = MarkdownHeaderTextSplitter(headers_to_split_on=headers_to_split_on)\n",
    "    md_header_splits = markdown_splitter.split_text(md_content)\n",
    "\n",
    "    text_splitter = RecursiveCharacterTextSplitter.from_tiktoken_encoder(\n",
    "        encoding_name=get_encoding_name(),\n",
    "        chunk_size=1000, \n",
    "        chunk_overlap=125\n",
    "    )\n",
    "\n",
    "    # Split\n",
    "    splits = text_splitter.split_documents(md_header_splits)\n",
    "\n",
    "    for j, md_split in enumerate(splits):\n",
    "        try:\n",
    "            if 'H1' in md_split.metadata:\n",
    "                if 'H2' in md_split.metadata:\n",
    "                    chunk = f\"## {md_split.metadata['H2']}\\n{md_split.page_content}\"\n",
    "                else:\n",
    "                    chunk = f\"# {md_split.metadata['H1']}\\n{md_split.page_content}\"\n",
    "            else:\n",
    "                chunk = md_split.page_content\n",
    "            new_row = {'title':  row['title'], 'chunk': chunk, 'parent_id': row['file_name'], 'chunk_id': j, 'token_size': token_size(chunk)}\n",
    "            chunked_data = pd.concat([chunked_data, pd.DataFrame([new_row])], ignore_index=True)\n",
    "        \n",
    "        except Exception as e:\n",
    "            print(f\"Error: {i}, {j}, {e}\\n{md_split.metadata}\")\n",
    "\n",
    "\n",
    "chunked_data"
   ]
  },
  {
   "cell_type": "code",
   "execution_count": 12,
   "id": "4c6d4e67-c635-4e62-bf82-ece30c5e5336",
   "metadata": {},
   "outputs": [],
   "source": [
    "import matplotlib.pyplot as plt\n",
    "import numpy as np # linear algebra"
   ]
  },
  {
   "cell_type": "code",
   "execution_count": 13,
   "id": "371d32b7",
   "metadata": {},
   "outputs": [
    {
     "data": {
      "image/png": "[encoded data removed]",
      "text/plain": [
       "<Figure size 640x480 with 1 Axes>"
      ]
     },
     "metadata": {},
     "output_type": "display_data"
    }
   ],
   "source": [
    "# chatgpt promt: \"python code to plot a graph group by count of bin size from data\"\n",
    "data = chunked_data['token_size']\n",
    "\n",
    "bin_size = 100\n",
    "\n",
    "# Calculate the number of bins based on the bin size\n",
    "num_bins = int(np.ceil((data.max() - data.min()) / bin_size))\n",
    "\n",
    "# Create the histogram\n",
    "plt.hist(data, bins=num_bins)\n",
    "\n",
    "# Set the axis labels and title\n",
    "plt.xlabel('Value')\n",
    "plt.ylabel('Count')\n",
    "plt.title('Histogram of Data')\n",
    "\n",
    "# Show the plot\n",
    "plt.show()"
   ]
  },
  {
   "cell_type": "code",
   "execution_count": 14,
   "id": "bc8cd4d2",
   "metadata": {},
   "outputs": [
    {
     "data": {
      "text/plain": [
       "0"
      ]
     },
     "execution_count": 14,
     "metadata": {},
     "output_type": "execute_result"
    }
   ],
   "source": [
    "# file with token size > 2K\n",
    "len(chunked_data[chunked_data['token_size'] > 2000])"
   ]
  },
  {
   "cell_type": "code",
   "execution_count": null,
   "id": "219ee66b-a9ea-4a32-9ee3-51e72cc8b2b4",
   "metadata": {},
   "outputs": [],
   "source": [
    "# save to file\n",
    "#chunked_data.to_pickle('./aoai-docs_md.pkl')"
   ]
  }
 ],
 "metadata": {
  "kernelspec": {
   "display_name": "workshop",
   "language": "python",
   "name": "python3"
  },
  "language_info": {
   "codemirror_mode": {
    "name": "ipython",
    "version": 3
   },
   "file_extension": ".py",
   "mimetype": "text/x-python",
   "name": "python",
   "nbconvert_exporter": "python",
   "pygments_lexer": "ipython3",
   "version": "3.9.20"
  }
 },
 "nbformat": 4,
 "nbformat_minor": 5
}
