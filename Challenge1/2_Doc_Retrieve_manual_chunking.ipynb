{
 "cells": [
  {
   "cell_type": "markdown",
   "id": "6a200b06-1d83-4065-a6bf-b4a4cfd08b46",
   "metadata": {},
   "source": [
    "# Document Retrieve - Chunking (Manual)\n",
    "\n",
    "Chunking document manually using LangChain\n",
    "\n",
    "- Data analysis (Token size)\n",
    "- Chunking\n",
    "    - text split by size\n",
    "    - text split by format (MD)"
   ]
  },
  {
   "cell_type": "markdown",
   "id": "513539f2-8273-46ea-8db2-f874f637faea",
   "metadata": {},
   "source": [
    "## Doucment prep\n",
    "\n",
    "Azure OpenAI documents (MD formatted)\n",
    "- https://github.com/MicrosoftDocs/azure-docs/tree/main/articles/ai-services/openai"
   ]
  },
  {
   "cell_type": "code",
   "execution_count": 1,
   "id": "5595c1be-0c95-43bd-b530-caa6136cf7a1",
   "metadata": {},
   "outputs": [],
   "source": [
    "import tiktoken\n",
    "encoding = tiktoken.get_encoding(\"cl100k_base\")\n",
    "\n",
    "def token_size(text):\n",
    "    return len(encoding.encode(text))"
   ]
  },
  {
   "cell_type": "code",
   "execution_count": 2,
   "id": "ca47b5a6-af7b-4894-ad97-58ddc57bb16c",
   "metadata": {},
   "outputs": [],
   "source": [
    "import os\n",
    "import pandas as pd\n",
    "import re"
   ]
  },
  {
   "cell_type": "code",
   "execution_count": 3,
   "id": "188c3e35-a678-40ab-abb1-b7d891e12928",
   "metadata": {},
   "outputs": [],
   "source": [
    "def remove_between_markers(text, start_marker, end_marker):\n",
    "    # Find the start and end positions of the markers\n",
    "    start_pos = text.find(start_marker)\n",
    "    end_pos = text.find(end_marker, start_pos + len(start_marker))\n",
    "    \n",
    "    # Remove the content between the markers\n",
    "    if start_pos != -1 and end_pos != -1:\n",
    "        return text[:start_pos] + text[end_pos + len(end_marker):]\n",
    "    else:\n",
    "        return text"
   ]
  },
  {
   "cell_type": "code",
   "execution_count": 4,
   "id": "f7edea92-d4e4-4ba9-9a13-72642d9f111a",
   "metadata": {},
   "outputs": [
    {
     "data": {
      "text/plain": [
       "'# Abuse Monitoring\\n\\nAzure OpenAI Service detects and mitigates instances of recurring content and/or behaviors that suggest use of the service in a manner that may violate the [Code of Conduct](/legal/cognitive-services/openai/code-of-conduct?context=/azure/ai-services/openai/context/context) or other applicable product terms. Details on how data is handled can be found on the [Data, Privacy and Security page](/legal/cognitive-services/openai/data-privacy?context=/azure/ai-services/openai/context/context).\\n\\n## Components of abuse monitoring\\n\\nThere are several components to abuse monitoring:\\n\\n- **Content Classification**: Classifier models detect harmful language and/or images in user prompts (inputs) and completions (outputs). The system looks for categories of harms as defined in the [Content Requirements](/legal/cognitive-services/openai/code-of-conduct?context=/azure/ai-services/openai/context/context), and assigns severity levels as described in more detail on the [Content Filtering page](content-filter.md).\\n\\n- **Abuse Pattern Capture**: Azure OpenAI Service’s abuse monitoring looks at customer usage patterns and employs algorithms and heuristics to detect indicators of potential abuse. Detected patterns consider, for example, the frequency and severity at which harmful content is detected in a customer’s prompts and completions.\\n\\n- **Human Review and Decision**: When prompts and/or completions are flagged through content classification and abuse pattern capture as described above, authorized Microsoft employees may assess the flagged content, and either confirm or correct the classification or determination based on predefined guidelines and policies. Data can be accessed for human review <u>only</u> by authorized Microsoft employees via Secure Access Workstations (SAWs) with Just-In-Time (JIT) request approval granted by team managers. For Azure OpenAI Service resources deployed in the European Economic Area, the authorized Microsoft employees are located in the European Economic Area.\\n\\n- **Notification and Action**: When a threshold of abusive behavior has been confirmed based on the preceding three steps, the customer is informed of the determination by email. Except in cases of severe or recurring abuse, customers typically are given an opportunity to explain or remediate—and implement mechanisms to prevent recurrence of—the abusive behavior. Failure to address the behavior—or recurring or severe abuse—may result in suspension or termination of the customer’s access to Azure OpenAI resources and/or capabilities.\\n\\n## Next steps\\n\\n- Learn more about the [underlying models that power Azure OpenAI](../concepts/models.md).\\n- Learn more about understanding and mitigating risks associated with your application: [Overview of Responsible AI practices for Azure OpenAI models](/legal/cognitive-services/openai/overview?context=/azure/ai-services/openai/context/context).\\n- Learn more about how data is processed in connection with content filtering and abuse monitoring: [Data, privacy, and security for Azure OpenAI Service](/legal/cognitive-services/openai/data-privacy?context=/azure/ai-services/openai/context/context#preventing-abuse-and-harmful-content-generation).\\n'"
      ]
     },
     "execution_count": 4,
     "metadata": {},
     "output_type": "execute_result"
    }
   ],
   "source": [
    "with open(f'./docs/abuse-monitoring.md', \"r\") as f:\n",
    "    input_text = f.read()\n",
    "result_text = remove_between_markers(input_text, \"---\", \"---\\n\\n\")\n",
    "result_text"
   ]
  },
  {
   "cell_type": "code",
   "execution_count": 6,
   "id": "124ff536-c4d0-4139-a3d7-bb3db209198b",
   "metadata": {},
   "outputs": [
    {
     "data": {
      "text/html": [
       "<div>\n",
       "<style scoped>\n",
       "    .dataframe tbody tr th:only-of-type {\n",
       "        vertical-align: middle;\n",
       "    }\n",
       "\n",
       "    .dataframe tbody tr th {\n",
       "        vertical-align: top;\n",
       "    }\n",
       "\n",
       "    .dataframe thead th {\n",
       "        text-align: right;\n",
       "    }\n",
       "</style>\n",
       "<table border=\"1\" class=\"dataframe\">\n",
       "  <thead>\n",
       "    <tr style=\"text-align: right;\">\n",
       "      <th></th>\n",
       "      <th>file_name</th>\n",
       "      <th>size</th>\n",
       "      <th>token_size</th>\n",
       "      <th>title</th>\n",
       "      <th>content</th>\n",
       "    </tr>\n",
       "  </thead>\n",
       "  <tbody>\n",
       "    <tr>\n",
       "      <th>0</th>\n",
       "      <td>gpt-v-python.md</td>\n",
       "      <td>7731</td>\n",
       "      <td>1731</td>\n",
       "      <td>Quickstart: Use GPT-4 Turbo with Vision on you...</td>\n",
       "      <td>Use this article to get started using the Azur...</td>\n",
       "    </tr>\n",
       "    <tr>\n",
       "      <th>1</th>\n",
       "      <td>chatgpt-javascript.md</td>\n",
       "      <td>4699</td>\n",
       "      <td>1181</td>\n",
       "      <td>Quickstart: Use Azure OpenAI Service with the ...</td>\n",
       "      <td>[Source code](https://github.com/Azure/azure-s...</td>\n",
       "    </tr>\n",
       "    <tr>\n",
       "      <th>2</th>\n",
       "      <td>use-your-data-rest.md</td>\n",
       "      <td>3775</td>\n",
       "      <td>894</td>\n",
       "      <td>use-your-data-rest.md</td>\n",
       "      <td>[!INCLUDE [Set up required variables](./use-yo...</td>\n",
       "    </tr>\n",
       "    <tr>\n",
       "      <th>3</th>\n",
       "      <td>switching-endpoints.md</td>\n",
       "      <td>4866</td>\n",
       "      <td>1217</td>\n",
       "      <td>How to switch between OpenAI and Azure OpenAI ...</td>\n",
       "      <td># How to switch between OpenAI and Azure OpenA...</td>\n",
       "    </tr>\n",
       "    <tr>\n",
       "      <th>4</th>\n",
       "      <td>dall-e-dotnet.md</td>\n",
       "      <td>4745</td>\n",
       "      <td>1212</td>\n",
       "      <td>Quickstart: Use Azure OpenAI Service with the ...</td>\n",
       "      <td>Use this guide to get started generating image...</td>\n",
       "    </tr>\n",
       "    <tr>\n",
       "      <th>...</th>\n",
       "      <td>...</td>\n",
       "      <td>...</td>\n",
       "      <td>...</td>\n",
       "      <td>...</td>\n",
       "      <td>...</td>\n",
       "    </tr>\n",
       "    <tr>\n",
       "      <th>134</th>\n",
       "      <td>dall-e-go.md</td>\n",
       "      <td>4952</td>\n",
       "      <td>1371</td>\n",
       "      <td>Quickstart: Use the OpenAI Service image gener...</td>\n",
       "      <td>Use this guide to get started generating image...</td>\n",
       "    </tr>\n",
       "    <tr>\n",
       "      <th>135</th>\n",
       "      <td>reproducible-output.md</td>\n",
       "      <td>14823</td>\n",
       "      <td>3530</td>\n",
       "      <td>How to generate reproducible output with Azure...</td>\n",
       "      <td># Learn how to use reproducible output (previe...</td>\n",
       "    </tr>\n",
       "    <tr>\n",
       "      <th>136</th>\n",
       "      <td>assistants-quickstart.md</td>\n",
       "      <td>618</td>\n",
       "      <td>139</td>\n",
       "      <td>Quickstart - Getting started with Azure OpenAI...</td>\n",
       "      <td>\\n# Quickstart: Get started using Azure OpenAI...</td>\n",
       "    </tr>\n",
       "    <tr>\n",
       "      <th>137</th>\n",
       "      <td>use-blocklists.md</td>\n",
       "      <td>13872</td>\n",
       "      <td>3211</td>\n",
       "      <td>How to use blocklists with Azure OpenAI Service</td>\n",
       "      <td># Use a blocklist in Azure OpenAI\\n\\nThe confi...</td>\n",
       "    </tr>\n",
       "    <tr>\n",
       "      <th>138</th>\n",
       "      <td>function-calling.md</td>\n",
       "      <td>24292</td>\n",
       "      <td>5334</td>\n",
       "      <td>How to use function calling with Azure OpenAI ...</td>\n",
       "      <td># How to use function calling with Azure OpenA...</td>\n",
       "    </tr>\n",
       "  </tbody>\n",
       "</table>\n",
       "<p>139 rows × 5 columns</p>\n",
       "</div>"
      ],
      "text/plain": [
       "                    file_name   size token_size  \\\n",
       "0             gpt-v-python.md   7731       1731   \n",
       "1       chatgpt-javascript.md   4699       1181   \n",
       "2       use-your-data-rest.md   3775        894   \n",
       "3      switching-endpoints.md   4866       1217   \n",
       "4            dall-e-dotnet.md   4745       1212   \n",
       "..                        ...    ...        ...   \n",
       "134              dall-e-go.md   4952       1371   \n",
       "135    reproducible-output.md  14823       3530   \n",
       "136  assistants-quickstart.md    618        139   \n",
       "137         use-blocklists.md  13872       3211   \n",
       "138       function-calling.md  24292       5334   \n",
       "\n",
       "                                                 title  \\\n",
       "0    Quickstart: Use GPT-4 Turbo with Vision on you...   \n",
       "1    Quickstart: Use Azure OpenAI Service with the ...   \n",
       "2                                use-your-data-rest.md   \n",
       "3    How to switch between OpenAI and Azure OpenAI ...   \n",
       "4    Quickstart: Use Azure OpenAI Service with the ...   \n",
       "..                                                 ...   \n",
       "134  Quickstart: Use the OpenAI Service image gener...   \n",
       "135  How to generate reproducible output with Azure...   \n",
       "136  Quickstart - Getting started with Azure OpenAI...   \n",
       "137    How to use blocklists with Azure OpenAI Service   \n",
       "138  How to use function calling with Azure OpenAI ...   \n",
       "\n",
       "                                               content  \n",
       "0    Use this article to get started using the Azur...  \n",
       "1    [Source code](https://github.com/Azure/azure-s...  \n",
       "2    [!INCLUDE [Set up required variables](./use-yo...  \n",
       "3    # How to switch between OpenAI and Azure OpenA...  \n",
       "4    Use this guide to get started generating image...  \n",
       "..                                                 ...  \n",
       "134  Use this guide to get started generating image...  \n",
       "135  # Learn how to use reproducible output (previe...  \n",
       "136  \\n# Quickstart: Get started using Azure OpenAI...  \n",
       "137  # Use a blocklist in Azure OpenAI\\n\\nThe confi...  \n",
       "138  # How to use function calling with Azure OpenA...  \n",
       "\n",
       "[139 rows x 5 columns]"
      ]
     },
     "execution_count": 6,
     "metadata": {},
     "output_type": "execute_result"
    }
   ],
   "source": [
    "# Create an empty DataFrame with specific column names\n",
    "df = pd.DataFrame(columns=['file_name', 'size', 'token_size', 'title', 'content'])\n",
    "\n",
    "for md in os.listdir(\"./docs\"):\n",
    "    if not os.path.isdir(md):\n",
    "        with open(f'./docs/{md}', \"r\") as f:\n",
    "            text = f.read()\n",
    "\n",
    "    pattern = r\"title:\\s*(.*)\"\n",
    "    matches = re.search(pattern, text)\n",
    "\n",
    "    # get title from header\n",
    "    title = \"\"\n",
    "    if matches:\n",
    "        title = matches.group(1)\n",
    "        title = title.replace(\"'\", \"\")\n",
    "    else:\n",
    "        title = md\n",
    "\n",
    "    # clean header\n",
    "    text = remove_between_markers(text, \"---\", \"---\\n\\n\")\n",
    "    \n",
    "    new_row = {'file_name': md, 'size': len(text), 'token_size': token_size(text), 'title':  title, 'content': text}\n",
    "    df = pd.concat([df, pd.DataFrame([new_row])], ignore_index=True)\n",
    "\n",
    "df"
   ]
  },
  {
   "cell_type": "raw",
   "id": "b1df8a97-6c30-4750-bd0d-5531e539519b",
   "metadata": {},
   "source": [
    "df[df['title'] == \"\"]"
   ]
  },
  {
   "cell_type": "code",
   "execution_count": 7,
   "id": "4c6d4e67-c635-4e62-bf82-ece30c5e5336",
   "metadata": {},
   "outputs": [],
   "source": [
    "import matplotlib.pyplot as plt\n",
    "import numpy as np # linear algebra"
   ]
  },
  {
   "cell_type": "code",
   "execution_count": 8,
   "id": "047936e2-12a1-4b9e-9f5d-a6555b2f322c",
   "metadata": {},
   "outputs": [
    {
     "data": {
      "image/png": "[encoded data removed]",
      "text/plain": [
       "<Figure size 640x480 with 1 Axes>"
      ]
     },
     "metadata": {},
     "output_type": "display_data"
    }
   ],
   "source": [
    "# chatgpt promt: \"python code to plot a graph group by count of bin size from data\"\n",
    "data = df['token_size']\n",
    "\n",
    "bin_size = 100\n",
    "\n",
    "# Calculate the number of bins based on the bin size\n",
    "num_bins = int(np.ceil((data.max() - data.min()) / bin_size))\n",
    "\n",
    "# Create the histogram\n",
    "plt.hist(data, bins=num_bins)\n",
    "\n",
    "# Set the axis labels and title\n",
    "plt.xlabel('Value')\n",
    "plt.ylabel('Count')\n",
    "plt.title('Histogram of Data')\n",
    "\n",
    "# Show the plot\n",
    "plt.show()"
   ]
  },
  {
   "cell_type": "code",
   "execution_count": 9,
   "id": "18929f79-f319-42c3-8a9c-a135cb1318df",
   "metadata": {},
   "outputs": [
    {
     "data": {
      "text/html": [
       "<div>\n",
       "<style scoped>\n",
       "    .dataframe tbody tr th:only-of-type {\n",
       "        vertical-align: middle;\n",
       "    }\n",
       "\n",
       "    .dataframe tbody tr th {\n",
       "        vertical-align: top;\n",
       "    }\n",
       "\n",
       "    .dataframe thead th {\n",
       "        text-align: right;\n",
       "    }\n",
       "</style>\n",
       "<table border=\"1\" class=\"dataframe\">\n",
       "  <thead>\n",
       "    <tr style=\"text-align: right;\">\n",
       "      <th></th>\n",
       "      <th>file_name</th>\n",
       "      <th>size</th>\n",
       "      <th>token_size</th>\n",
       "      <th>title</th>\n",
       "      <th>content</th>\n",
       "    </tr>\n",
       "  </thead>\n",
       "  <tbody>\n",
       "    <tr>\n",
       "      <th>58</th>\n",
       "      <td>use-your-data.md</td>\n",
       "      <td>38966</td>\n",
       "      <td>8308</td>\n",
       "      <td>Using your data with Azure OpenAI Service</td>\n",
       "      <td># Azure OpenAI On Your Data \\n\\nUse this artic...</td>\n",
       "    </tr>\n",
       "    <tr>\n",
       "      <th>68</th>\n",
       "      <td>content-filter.md</td>\n",
       "      <td>39998</td>\n",
       "      <td>9240</td>\n",
       "      <td>Azure OpenAI Service content filtering</td>\n",
       "      <td># Content filtering\\n\\n&gt; [!IMPORTANT]\\n&gt; The c...</td>\n",
       "    </tr>\n",
       "    <tr>\n",
       "      <th>82</th>\n",
       "      <td>reference.md</td>\n",
       "      <td>82819</td>\n",
       "      <td>20522</td>\n",
       "      <td>Azure OpenAI Service REST API reference</td>\n",
       "      <td># Azure OpenAI Service REST API reference\\n\\nT...</td>\n",
       "    </tr>\n",
       "    <tr>\n",
       "      <th>98</th>\n",
       "      <td>assistant.md</td>\n",
       "      <td>32303</td>\n",
       "      <td>8656</td>\n",
       "      <td>How to create Assistants with Azure OpenAI Ser...</td>\n",
       "      <td># Getting started with Azure OpenAI Assistants...</td>\n",
       "    </tr>\n",
       "  </tbody>\n",
       "</table>\n",
       "</div>"
      ],
      "text/plain": [
       "            file_name   size token_size  \\\n",
       "58   use-your-data.md  38966       8308   \n",
       "68  content-filter.md  39998       9240   \n",
       "82       reference.md  82819      20522   \n",
       "98       assistant.md  32303       8656   \n",
       "\n",
       "                                                title  \\\n",
       "58          Using your data with Azure OpenAI Service   \n",
       "68             Azure OpenAI Service content filtering   \n",
       "82            Azure OpenAI Service REST API reference   \n",
       "98  How to create Assistants with Azure OpenAI Ser...   \n",
       "\n",
       "                                              content  \n",
       "58  # Azure OpenAI On Your Data \\n\\nUse this artic...  \n",
       "68  # Content filtering\\n\\n> [!IMPORTANT]\\n> The c...  \n",
       "82  # Azure OpenAI Service REST API reference\\n\\nT...  \n",
       "98  # Getting started with Azure OpenAI Assistants...  "
      ]
     },
     "execution_count": 9,
     "metadata": {},
     "output_type": "execute_result"
    }
   ],
   "source": [
    "# file with token size > 8K\n",
    "df[df['token_size'] > 8000]"
   ]
  },
  {
   "cell_type": "markdown",
   "id": "843b5749-9bf7-48ad-9ba7-3f1a6d0e8dfb",
   "metadata": {},
   "source": [
    "## Chunking Comparison\n",
    "\n",
    "- https://github.com/Azure/azure-search-vector-samples/blob/main/demo-python/code/data-chunking/langchain-data-chunking-example.ipynb\n",
    "- https://python.langchain.com/docs/modules/data_connection/document_loaders/file_directory#auto-detect-file-encodings-with-textloader"
   ]
  },
  {
   "cell_type": "code",
   "execution_count": 10,
   "id": "3f8e999e-b751-4d7d-b6d7-8895bc28c80d",
   "metadata": {},
   "outputs": [],
   "source": [
    "from langchain.text_splitter import RecursiveCharacterTextSplitter, MarkdownHeaderTextSplitter\n",
    "from langchain_community.document_loaders import TextLoader\n",
    "\n",
    "def get_encoding_name(model=\"gpt-3.5-turbo\"):\n",
    "    return tiktoken.encoding_for_model(model).name"
   ]
  },
  {
   "cell_type": "code",
   "execution_count": 11,
   "id": "b703f51a-5fe7-4bf1-a821-0276f0146e90",
   "metadata": {
    "scrolled": true
   },
   "outputs": [
    {
     "data": {
      "text/plain": [
       "'# Azure OpenAI On Your Data \\n\\nUse this article to learn about Azure OpenAI On Your Data, which makes it easier for developers to connect, ingest and ground their enterprise data to create personalized copilots (preview) rapidly. It enhances user comprehension, expedites task completion, improves operational efficiency, and aids decision-making.\\n\\n## What is Azure OpenAI On Your Data\\n\\nAzure OpenAI On Your Data enables you to run advanced AI models such as GPT-35-Turbo and GPT-4 on your own enterprise data without needing to train or fine-tune models. You can chat on top of and analyze your data with greater accuracy. You can specify sources to support the responses based on the latest information available in your designated data sources. You can access Azure OpenAI On Your Data using a REST API, via the SDK or the web-based interface in the [Azure OpenAI Studio](https://oai.azure.com/). You can also create a web app that connects to your data to enable an enhanced chat solution or deploy it directly as a copilot in the Copilot Studio (preview).\\n\\n## Get started\\n\\nTo get started, [connect your data source](../use-your-data-quickstart.md) using Azure OpenAI Studio and start asking questions and chatting on your data.\\n\\n> [!NOTE]\\n> To get started, you need to already have been approved for [Azure OpenAI access](../overview.md#how-do-i-get-access-to-azure-openai) and have an [Azure OpenAI Service resource](../how-to/create-resource.md) deployed in a [supported region](#regional-availability-and-model-support) with either the gpt-35-turbo or the gpt-4 models.\\n\\n## Azure Role-based access controls (Azure RBAC) for adding data sources\\n\\nTo use Azure OpenAI On Your Data fully, you need to set one or more Azure RBAC roles. See [Use Azure OpenAI On Your Data securely](../how-to/use-your-data-securely.md#role-assignments) for more information.\\n\\n## Data formats and file types\\n\\nAzure OpenAI On Your Data supports the following file types:\\n\\n* `.txt`\\n* `.md`\\n* `.html`\\n* `.docx`\\n* `.pptx`\\n* `.pdf`\\n\\nThere\\'s an [upload limit](../quotas-limits.md), and there are some caveats about document structure and how it might affect the quality of responses from the model: \\n\\n* If you\\'re converting data from an unsupported format into a supported format, make sure the conversion:\\n\\n    * Doesn\\'t lead to significant data loss.\\n    * Doesn\\'t add unexpected noise to your data.  \\n\\n    This affects the quality of the model response. \\n\\n* If your files have special formatting, such as tables and columns, or bullet points, prepare your data with the data preparation script available on [GitHub](https://github.com/microsoft/sample-app-aoai-chatGPT/tree/main/scripts#optional-crack-pdfs-to-text).\\n\\n* For documents and datasets with long text, you should use the available [data preparation script](https://github.com/microsoft/sample-app-aoai-chatGPT/tree/main/scripts#data-preparation). The script chunks data so that the model\\'s responses are more accurate. This script also supports scanned PDF files and images.\\n\\n## Supported data sources\\n\\nYou need to connect to a data source to upload your data. When you want to use your data to chat with an Azure OpenAI model, your data is chunked in a search index so that relevant data can be found based on user queries. For some data sources such as uploading files from your local machine (preview) or data contained in a blob storage account (preview), Azure AI Search is used. \\n\\nWhen you choose the following data sources, your data is ingested into an Azure AI Search index.\\n\\n|Data source  | Description  |\\n|---------|---------|\\n| [Azure AI Search](/azure/search/search-what-is-azure-search)  | Use an existing Azure AI Search index with Azure OpenAI On Your Data.      |\\n|Upload files (preview)      | Upload files from your local machine to be stored in an Azure Blob Storage database, and ingested into Azure AI Search.         |\\n|URL/Web address (preview)        | Web content from the URLs is stored in Azure Blob Storage.         |\\n|Azure Blob Storage (preview) | Upload files from Azure Blob Storage to be ingested into an Azure AI Search index.         |\\n\\n# [Azure AI Search](#tab/ai-search)\\n\\nYou might want to consider using an Azure AI Search index when you either want to:\\n* Customize the index creation process. \\n* Reuse an index created before by ingesting data from other data sources.\\n\\n> [!NOTE]\\n> To use an existing index, it must have at least one searchable field.\\n\\n### Search types\\n\\nAzure OpenAI On Your Data provides the following search types you can use when you add your data source.\\n\\n* [Keyword search](/azure/search/search-lucene-query-architecture)\\n\\n* [Semantic search](/azure/search/semantic-search-overview)\\n* [Vector search](/azure/search/vector-search-overview) using Ada [embedding](./understand-embeddings.md) models, available in [selected regions](models.md#embeddings-models) \\n\\n    To enable vector search, you need an existing embedding model deployed in your Azure OpenAI resource. Select your embedding deployment when connecting your data, then select one of the vector search types under **Data management**. If you\\'re using Azure AI Search as a data source, make sure you have a vector column in the index.\\n\\nIf you\\'re using your own index, you can customize the [field mapping](#index-field-mapping) when you add your data source to define the fields that will get mapped when answering questions. To customize field mapping, select **Use custom field mapping** on the **Data Source** page when adding your data source.\\n\\n\\n\\n> [!IMPORTANT]\\n> * [Semantic search](/azure/search/semantic-search-overview#availability-and-pricing) is subject to additional pricing. You need to choose **Basic or higher SKU** to enable semantic search or vector search. See [pricing tier difference](/azure/search/search-sku-tier) and [service limits](/azure/search/search-limits-quotas-capacity) for more information.\\n> * To help improve the quality of the information retrieval and model response, we recommend enabling [semantic search](/azure/search/semantic-search-overview) for the following data source languages: English, French, Spanish, Portuguese, Italian, Germany, Chinese(Zh), Japanese, Korean, Russian, and Arabic.\\n\\n| Search option       | Retrieval type | Additional pricing? |Benefits|\\n|---------------------|------------------------|---------------------| -------- |\\n| *keyword*            | Keyword search                       | No additional pricing.                    |Performs fast and flexible query parsing and matching over searchable fields, using terms or phrases in any supported language, with or without operators.|\\n| *semantic*          |  Semantic search  |  Additional pricing for [semantic search](/azure/search/semantic-search-overview#availability-and-pricing) usage.                  |Improves the precision and relevance of search results by using a reranker (with AI models) to understand the semantic meaning of query terms and documents returned by the initial search ranker|\\n| *vector*            | Vector search       | No additional pricing |Enables you to find documents that are similar to a given query input based on the vector embeddings of the content. |\\n| *hybrid (vector + keyword)*   | A hybrid of vector search and keyword search | [Additional pricing](https://azure.microsoft.com/pricing/details/cognitive-services/openai-service/) on your Azure OpenAI account from calling the embedding model.            |Performs similarity search over vector fields using vector embeddings, while also supporting flexible query parsing and full text search over alphanumeric fields using term queries.|\\n| *hybrid (vector + keyword) + semantic* | A hybrid of vector search, semantic search, and keyword search.     | [Additional pricing](https://azure.microsoft.com/pricing/details/cognitive-services/openai-service/) on your Azure OpenAI account from calling the embedding model, and additional pricing for [semantic search](/azure/search/semantic-search-overview#availability-and-pricing) usage.                    |Uses vector embeddings, language understanding, and flexible query parsing to create rich search experiences and generative AI apps that can handle complex and diverse information retrieval scenarios. |\\n\\n### Intelligent search\\n\\nAzure OpenAI On Your Data has intelligent search enabled for your data. Semantic search is enabled by default if you have both semantic search and keyword search. If you have embedding models, intelligent search will default to hybrid + semantic search.\\n\\n### Document-level access control\\n\\n> [!NOTE] \\n> Document-level access control is supported when you select Azure AI Search as your data source.\\n\\nAzure OpenAI On Your Data lets you restrict the documents that can be used in responses for different users with Azure AI Search [security filters](/azure/search/search-security-trimming-for-azure-search-with-aad). When you enable document level access, the search results returned from Azure AI Search and used to generate a response are trimmed based on user Microsoft Entra group membership. You can only enable document-level access on existing Azure AI Search indexes See [Use Azure OpenAI On Your Data securely](../how-to/use-your-data-securely.md#document-level-access-control) for more information.\\n\\n\\n### Index field mapping \\n\\nIf you\\'re using your own index, you will be prompted in the Azure OpenAI Studio to define which fields you want to map for answering questions when you add your data source. You can provide multiple fields for *Content data*, and should include all fields that have text pertaining to your use case. \\n\\n:::image type=\"content\" source=\"../media/use-your-data/index-data-mapping.png\" alt-text=\"A screenshot showing the index field mapping options in Azure OpenAI Studio.\" lightbox=\"../media/use-your-data/index-data-mapping.png\":::\\n\\nIn this example, the fields mapped to **Content data** and **Title** provide information to the model to answer questions. **Title** is also used to title citation text. The field mapped to **File name** generates the citation names in the response. \\n\\nMapping these fields correctly helps ensure the model has better response and citation quality. You can additionally configure this [in the API](../reference.md#completions-extensions) using the `fieldsMapping` parameter.   \\n\\n# [Azure Cosmos DB for MongoDB vCore](#tab/mongo-db)\\n\\n### Prerequisites\\n* [Azure Cosmos DB for MongoDB vCore](/azure/cosmos-db/mongodb/vcore/introduction) account\\n* A deployed [embedding model](../concepts/understand-embeddings.md)\\n\\n### Limitations\\n* Only Azure Cosmos DB for MongoDB vCore is supported.\\n* The search type is limited to [Azure Cosmos DB for MongoDB vCore vector search](/azure/cosmos-db/mongodb/vcore/vector-search) with an Azure OpenAI embedding model.\\n* This implementation works best on unstructured and spatial data.\\n\\n### Data preparation\\n\\nUse the script provided on [GitHub](https://github.com/microsoft/sample-app-aoai-chatGPT/blob/feature/2023-9/scripts/cosmos_mongo_vcore_data_preparation.py) to prepare your data.\\n\\n<!--### Add your data source in Azure OpenAI Studio\\n\\nTo add Azure Cosmos DB for MongoDB vCore as a data source, you will need an existing Azure Cosmos DB for MongoDB vCore index containing your data, and a deployed Azure OpenAI Ada embeddings model that will be used for vector search.\\n\\n1. In the [Azure OpenAI portal](https://oai.azure.com/portal) chat playground, select **Add your data**. In the panel that appears, select **Azure Cosmos DB for MongoDB vCore** as the data source. \\n1. Select your Azure subscription and database account, then connect to your Azure Cosmos DB account by providing your Azure Cosmos DB account username and password.\\n    \\n    :::image type=\"content\" source=\"../media/use-your-data/add-mongo-data-source.png\" alt-text=\"A screenshot showing the screen for adding Mongo DB as a data source in Azure OpenAI Studio.\" lightbox=\"../media/use-your-data/add-mongo-data-source.png\":::\\n\\n1. **Select Database**. In the dropdown menus, select the database name, database collection, and index name that you want to use as your data source. Select the embedding model deployment you would like to use for vector search on this data source, and acknowledge that you will incur charges for using vector search. Then select **Next**.\\n\\n    :::image type=\"content\" source=\"../media/use-your-data/select-mongo-database.png\" alt-text=\"A screenshot showing the screen for adding Mongo DB settings in Azure OpenAI Studio.\" lightbox=\"../media/use-your-data/select-mongo-database.png\":::\\n-->\\n\\n### Index field mapping\\n\\nWhen you add your Azure Cosmos DB for MongoDB vCore data source, you can specify  data fields to properly map your data for retrieval.\\n\\n* Content data (required): One or more provided fields that will be used to ground the model on your data. For multiple fields, separate the values with commas, with no spaces.\\n* File name/title/URL: Used to display more information when a document is referenced in the chat.\\n* Vector fields (required): Select the field in your database that contains the vectors.\\n\\n:::image type=\"content\" source=\"../media/use-your-data/mongo-index-mapping.png\" alt-text=\"A screenshot showing the index field mapping options for Mongo DB.\" lightbox=\"../media/use-your-data/mongo-index-mapping.png\":::\\n\\n# [Azure Blob Storage (preview)](#tab/blob-storage)\\n\\nYou might want to use Azure Blob Storage as a data source if you want to connect to existing Azure Blob Storage and use files stored in your containers.\\n\\n## Schedule automatic index refreshes\\n\\n> [!NOTE] \\n> * Automatic index refreshing is supported for Azure Blob Storage only.\\n> * If a document is deleted from input blob container, the corresponding chunk index records won\\'t be removed by the scheduled refresh.\\n\\nTo keep your Azure AI Search index up-to-date with your latest data, you can schedule an automatic index refresh rather than manually updating it every time your data is updated. Automatic index refresh is only available when you choose **Azure Blob Storage** as the data source. To enable an automatic index refresh:\\n\\n1. [Add a data source](../quickstart.md) using Azure OpenAI studio.\\n1. Under **Select or add data source** select **Indexer schedule** and choose the refresh cadence you would like to apply.\\n\\n    :::image type=\"content\" source=\"../media/use-your-data/indexer-schedule.png\" alt-text=\"A screenshot of the indexer schedule in Azure OpenAI Studio.\" lightbox=\"../media/use-your-data/indexer-schedule.png\":::\\n\\nAfter the data ingestion is set to a cadence other than once, Azure AI Search indexers will be created with a schedule equivalent to `0.5 * the cadence specified`. This means that at the specified cadence, the indexers will pull the documents that were added or modified from the storage container, reprocess and index them. This ensures that the updated data gets preprocessed and indexed in the final index at the desired cadence automatically. To update your data, you only need to upload the additional documents from the Azure portal. From the portal, select **Storage Account** > **Containers**. Select the name of the original container, then **Upload**. The index will pick up the files automatically after the scheduled refresh period. The intermediate assets created in the Azure AI Search resource will not be cleaned up after ingestion to allow for future runs. These assets are:\\n   - `{Index Name}-index`\\n   - `{Index Name}-indexer`\\n   - `{Index Name}-indexer-chunk`\\n   - `{Index Name}-datasource`\\n   - `{Index Name}-skillset`\\n\\nTo modify the schedule, you can use the [Azure portal](https://portal.azure.com/).\\n\\n1. Open your search resource page in the Azure portal\\n1. Select **Indexers** from the left pane \\n    \\n    :::image type=\"content\" source=\"../media/use-your-data/indexers-azure-portal.png\" alt-text=\"A screenshot of the indexers tab in the Azure portal.\" lightbox=\"../media/use-your-data/indexers-azure-portal.png\":::\\n\\n1. Perform the following steps on the two indexers that have your index name as a prefix.\\n    1. Select the indexer to open it. Then select the **settings** tab.\\n    1. Update the schedule to the desired cadence from \"Schedule\" or specify a custom cadence from \"Interval (minutes)\"\\n        \\n        :::image type=\"content\" source=\"../media/use-your-data/indexer-schedule-azure-portal.png\" alt-text=\"A screenshot of the settings page for an individual indexer.\" lightbox=\"../media/use-your-data/indexer-schedule-azure-portal.png\":::\\n\\n    1. Select **Save**.\\n\\n# [Upload files (preview)](#tab/file-upload)\\n\\nUsing Azure OpenAI Studio, you can upload files from your machine to try Azure OpenAI On Your Data, and optionally creating a new Azure Blob Storage account and Azure AI Search resource. The service then stores the files to an Azure storage container and performs ingestion from the container. You can use the [quickstart](../use-your-data-quickstart.md) article to learn how to use this data source option.\\n\\n:::image type=\"content\" source=\"../media/quickstarts/add-your-data-source.png\" alt-text=\"A screenshot showing options for selecting a data source in Azure OpenAI Studio.\" lightbox=\"../media/quickstarts/add-your-data-source.png\":::\\n\\n\\n# [URL/Web address (preview)](#tab/web-pages)\\n\\nYou can paste URLs and the service will store the webpage content, using it when generating responses from the model. The content in URLs/web addresses that you use need to have the following characteristics to be properly ingested:\\n\\n* A public website, such as [Using your data with Azure OpenAI Service - Azure OpenAI | Microsoft Learn](/azure/ai-services/openai/concepts/use-your-data?tabs=ai-search). You can\\'t add a URL/Web address with access control, such as ones with a password.\\n* An HTTPS website.\\n* The size of content in each URL is smaller than 5 MB.  \\n* The website can be downloaded as one of the [supported file types](#data-formats-and-file-types).\\n* Only one layer of nested links is supported. Only up to 20 links, on the web page will be fetched.\\n\\n<!--:::image type=\"content\" source=\"../media/use-your-data/url.png\" alt-text=\"A screenshot of the Azure OpenAI use your data url/webpage studio configuration page.\" lightbox=\"../media/use-your-data/url.png\":::-->\\n\\nOnce you have added the URL/web address for data ingestion, the web pages from your URL are fetched and saved to Azure Blob Storage with a container name: `webpage-<index name>`. Each URL will be saved into a different container within the account. Then the files are indexed into an Azure AI Search index, which is used for retrieval when you’re chatting with the model.\\n\\n---\\n\\n### How data is ingested into Azure AI search\\n\\nData is ingested into Azure AI search using the following process:\\n\\n1. Ingestion assets are created in Azure AI Search resource and Azure storage account. Currently these assets are: indexers, indexes, data sources, a [custom skill](/azure/search/cognitive-search-custom-skill-interface) in the search resource, and a container (later called the chunks container) in the Azure storage account. You can specify the input Azure storage container using the [Azure OpenAI studio](https://oai.azure.com/), or the [ingestion API (preview)](../reference.md#start-an-ingestion-job-preview).  \\n\\n2. Data is read from the input container, contents are opened and chunked into small chunks with a maximum of 1,024 tokens each. If vector search is enabled, the service calculates the vector representing the embeddings on each chunk. The output of this step (called the \"preprocessed\" or \"chunked\" data) is stored in the chunks container created in the previous step. \\n\\n3. The preprocessed data is loaded from the chunks container, and indexed in the Azure AI Search index.\\n\\n## Deploy to a copilot (preview) or web app \\n\\nAfter you connect Azure OpenAI to your data, you can deploy it using the **Deploy to** button in Azure OpenAI studio.\\n\\n:::image type=\"content\" source=\"../media/use-your-data/deploy-model.png\" alt-text=\"A screenshot showing the model deployment button in Azure OpenAI Studio.\" lightbox=\"../media/use-your-data/deploy-model.png\":::\\n\\nThis gives you the option of deploying a standalone web app for you and your users to interact with chat models using a graphical user interface. See [Use the Azure OpenAI web app](../how-to/use-web-app.md) for more information. \\n\\nYou can also deploy to a copilot in [Copilot Studio](/microsoft-copilot-studio/fundamentals-what-is-copilot-studio) (preview) directly from Azure OpenAI studio, enabling you to bring conversational experiences to various channels such as: Microsoft Teams, websites, Dynamics 365, and other [Azure Bot Service channels](/microsoft-copilot-studio/publication-connect-bot-to-azure-bot-service-channels). The tenant used in the Azure OpenAI service and Copilot Studio (preview) should be the same. For more information, see [Use a connection to Azure OpenAI On Your Data](/microsoft-copilot-studio/nlu-generative-answers-azure-openai).\\n\\n> [!NOTE]\\n> Deploying to a copilot in Copilot Studio (preview) is only available in US regions.\\n\\n## Use Azure OpenAI On Your Data securely\\n\\nYou can use Azure OpenAI On Your Data securely by protecting data and resources with Microsoft Entra ID role-based access control, virtual networks, and private endpoints. You can also restrict the documents that can be used in responses for different users with Azure AI Search security filters. See [Securely use Azure OpenAI On Your Data](../how-to/use-your-data-securely.md).\\n\\n## Best practices\\n\\nUse the following sections to learn how to improve the quality of responses given by the model.\\n\\n### Runtime parameters\\n\\nYou can modify the following additional settings in the **Data parameters** section in Azure OpenAI Studio and [the API](../reference.md#completions-extensions). You don\\'t need to reingest your data when you update these parameters. \\n\\n\\n|Parameter name  | Description  |\\n|---------|---------|\\n| **Limit responses to your data** | This flag configures the chatbot\\'s approach to handling queries unrelated to the data source or when search documents are insufficient for a complete answer. When this setting is disabled, the model supplements its responses with its own knowledge in addition to your documents. When this setting is enabled, the model attempts to only rely on your documents for responses. This is the `inScope` parameter in the API. |\\n|**Retrieved documents**     |  This parameter is an integer that can be set to 3, 5, 10, or 20, and controls the number of document chunks provided to the large language model for formulating the final response. By default, this is set to 5. The search process can be noisy and sometimes, due to chunking, relevant information might be spread across multiple chunks in the search index. Selecting a top-K number, like 5, ensures that the model can extract relevant information, despite the inherent limitations of search and chunking. However, increasing the number too high can potentially distract the model. Additionally, the maximum number of documents that can be effectively used depends on the version of the model, as each has a different context size and capacity for handling documents. If you find that responses are missing important context, try increasing this parameter. This is the `topNDocuments` parameter in the API. |\\n| **Strictness**     | Determines the system\\'s aggressiveness in filtering search documents based on their similarity scores. The system queries Azure Search or other document stores, then decides which documents to provide to large language models like ChatGPT. Filtering out irrelevant documents can significantly enhance the performance of the end-to-end chatbot. Some documents are excluded from the top-K results if they have low similarity scores before forwarding them to the model. This is controlled by an integer value ranging from 1 to 5. Setting this value to 1 means that the system will minimally filter documents based on search similarity to the user query. Conversely, a setting of 5 indicates that the system will aggressively filter out documents, applying a very high similarity threshold. If you find that the chatbot omits relevant information, lower the filter\\'s strictness (set the value closer to 1) to include more documents. Conversely, if irrelevant documents distract the responses, increase the threshold (set the value closer to 5). This is the `strictness` parameter in the API. |\\n\\n### System message\\n\\nYou can define a system message to steer the model\\'s reply when using Azure OpenAI On Your Data. This message allows you to customize your replies on top of the retrieval augmented generation (RAG) pattern that Azure OpenAI On Your Data uses. The system message is used in addition to an internal base prompt to provide the experience. To support this, we truncate the system message after a specific [number of tokens](#token-usage-estimation-for-azure-openai-on-your-data) to ensure the model can answer questions using your data. If you are defining extra behavior on top of the default experience, ensure that your system prompt is detailed and explains the exact expected customization. \\n\\nOnce you select add your dataset, you can use the **System message** section in the Azure OpenAI Studio, or the `roleInformation` [parameter in the API](../reference.md#completions-extensions).\\n\\n:::image type=\"content\" source=\"../media/use-your-data/system-message.png\" alt-text=\"A screenshot showing the system message option in Azure OpenAI Studio.\" lightbox=\"../media/use-your-data/system-message.png\":::\\n\\n#### Potential usage patterns\\n\\n**Define a role**\\n\\nYou can define a role that you want your assistant. For example, if you are building a support bot, you can add *\"You are an expert incident support assistant that helps users solve new issues.\"*.\\n\\n**Define the type of data being retrieved**\\n\\nYou can also add the nature of data you are providing to assistant.\\n* Define the topic or scope of your dataset, like \"financial report\", \"academic paper\", or \"incident report\". For example, for technical support you might add *\"You answer queries using information from similar incidents in the retrieved documents.\"*.\\n* If your data has certain characteristics, you can add these details to the system message. For example, if your documents are in Japanese, you can add *\"You retrieve Japanese documents and you should read them carefully in Japanese and answer in Japanese.\"*. \\n* If your documents include structured data like tables from a financial report, you can also add this fact into the system prompt. For example, if your data has tables, you might add *\"You are given data in form of tables pertaining to financial results and you should read the table line by line to perform calculations to answer user questions.\"*.\\n\\n**Define the output style** \\n\\nYou can also change the model\\'s output by defining a system message. For example, if you want to ensure that the assistant answers are in French, you can add a prompt like *\"You are an AI assistant that helps users who understand French find information. The user questions can be in English or French. Please read the retrieved documents carefully and answer them in French. Please translate the knowledge from documents to French to ensure all answers are in French.\"*.\\n\\n**Reaffirm critical behavior**\\n\\nAzure OpenAI On Your Data works by sending instructions to a large language model in the form of prompts to answer user queries using your data. If there is a certain behavior that is critical to the application, you can repeat the behavior in system message to increase its accuracy. For example, to guide the model to only answer from documents, you can add \"*Please answer using retrieved documents only, and without using your knowledge. Please generate citations to retrieved documents for every claim in your answer. If the user question cannot be answered using retrieved documents, please explain the reasoning behind why documents are relevant to user queries. In any case, do not answer using your own knowledge.\"*.\\n\\n**Prompt Engineering tricks**\\n\\nThere are many tricks in prompt engineering that you can try to improve the output. One example is chain-of-thought prompting where you can add *\"Let’s think step by step about information in retrieved documents to answer user queries. Extract relevant knowledge to user queries from documents step by step and form an answer bottom up from the extracted information from relevant documents.\"*.\\n\\n> [!NOTE]\\n> The system message is used to modify how GPT assistant responds to a user question based on retrieved documentation. It does not affect the retrieval process. If you\\'d like to provide instructions for the retrieval process, it is better to include them in the questions.\\n> The system message is only guidance. The model might not adhere to every instruction specified because it has been primed with certain behaviors such as objectivity, and avoiding controversial statements. Unexpected behavior might occur if the system message contradicts with these behaviors. \\n\\n\\n\\n### Maximum response \\n\\nSet a limit on the number of tokens per model response. The upper limit for Azure OpenAI On Your Data is 1500. This is equivalent to setting the `max_tokens` parameter in the API. \\n\\n### Limit responses to your data \\n\\nThis option encourages the model to respond using your data only, and is selected by default. If you unselect this option, the model might more readily apply its internal knowledge to respond. Determine the correct selection based on your use case and scenario. \\n\\n\\n\\n### Interacting with the model\\n\\nUse the following practices for best results when chatting with the model. \\n\\n**Conversation history** \\n\\n* Before starting a new conversation (or asking a question that isn\\'t related to the previous ones), clear the chat history. \\n* Getting different responses for the same question between the first conversational turn and subsequent turns can be expected because the conversation history changes the current state of the model. If you receive incorrect answers, report it as a quality bug. \\n\\n**Model response**\\n\\n* If you aren\\'t satisfied with the model response for a specific question, try either making the question more specific or more generic to see how the model responds, and reframe your question accordingly. \\n\\n* [Chain-of-thought prompting](advanced-prompt-engineering.md?pivots=programming-language-chat-completions#chain-of-thought-prompting) has been shown to be effective in getting the model to produce desired outputs for complex questions/tasks.\\n\\n**Question length**\\n\\nAvoid asking long questions and break them down into multiple questions if possible. The GPT models have limits on the number of tokens they can accept. Token limits are counted toward: the user question, the system message, the retrieved search documents (chunks), internal prompts, the conversation history (if any), and the response. If the question exceeds the token limit, it will be truncated.\\n\\n**Multi-lingual support**  \\n\\n* Currently, keyword search and semantic search in Azure OpenAI On Your Data supports queries are in the same language as the data in the index. For example, if your data is in Japanese, then input queries also need to be in Japanese. For cross-lingual document retrieval, we recommend building the index with [Vector search](/azure/search/vector-search-overview) enabled.  \\n\\n* To help improve the quality of the information retrieval and model response, we recommend enabling [semantic search](/azure/search/semantic-search-overview) for the following languages: English, French, Spanish, Portuguese, Italian, Germany, Chinese(Zh), Japanese, Korean, Russian, Arabic   \\n\\n* We recommend using a system message to inform the model that your data is in another language. For example:\\n\\n*   *\"**You are an AI assistant designed to help users extract information from retrieved Japanese documents. Please scrutinize the Japanese documents carefully before formulating a response. The user\\'s query will be in Japanese, and you must response also in Japanese.\"*\\n\\n* If you have documents in multiple languages, we recommend building a new index for each language and connecting them separately to Azure OpenAI.  \\n\\n#### Streaming data\\n\\nYou can send a streaming request using the `stream` parameter, allowing data to be sent and received incrementally, without waiting for the entire API response. This can improve performance and user experience, especially for large or dynamic data.\\n\\n```json\\n{\\n    \"stream\": true,\\n    \"dataSources\": [\\n        {\\n            \"type\": \"AzureCognitiveSearch\",\\n            \"parameters\": {\\n                \"endpoint\": \"\\'$SearchEndpoint\\'\",\\n                \"key\": \"\\'$SearchKey\\'\",\\n                \"indexName\": \"\\'$SearchIndex\\'\"\\n            }\\n        }\\n    ],\\n    \"messages\": [\\n        {\\n            \"role\": \"user\",\\n            \"content\": \"What are the differences between Azure Machine Learning and Azure AI services?\"\\n        }\\n    ]\\n}\\n```\\n\\n#### Conversation history for better results\\n\\nWhen you chat with a model, providing a history of the chat will help the model return higher quality results. \\n\\n```json\\n{\\n    \"dataSources\": [\\n        {\\n            \"type\": \"AzureCognitiveSearch\",\\n            \"parameters\": {\\n                \"endpoint\": \"\\'$SearchEndpoint\\'\",\\n                \"key\": \"\\'$SearchKey\\'\",\\n                \"indexName\": \"\\'$SearchIndex\\'\"\\n            }\\n        }\\n    ],\\n    \"messages\": [\\n        {\\n            \"role\": \"user\",\\n            \"content\": \"What are the differences between Azure Machine Learning and Azure AI services?\"\\n        },\\n        {\\n            \"role\": \"tool\",\\n            \"content\": \"{\\\\\"citations\\\\\": [{\\\\\"content\\\\\": \\\\\"title: Azure AI services and Machine Learning\\\\\\\\ntitleSuffix: Azure AI services\\\\\\\\ndescription: Learn where Azure AI services fits in with other Azure offerings for machine learning.\\\\\\\\nAzure AI services and machine learning\\\\\\\\nAzure AI services provides machine learning capabilities to solve general problems such as...\\\\\\\\n \\\\\"articles\\\\\\\\\\\\\\\\cognitive-services\\\\\\\\\\\\\\\\cognitive-services-and-machine-learning.md\\\\\", \\\\\"url\\\\\": null, \\\\\"metadata\\\\\": {\\\\\"chunking\\\\\": \\\\\"orignal document size=1018. Scores=0.32200050354003906 and 1.2880020141601562.Org Highlight count=115.\\\\\"}, \\\\\"chunk_id\\\\\": \\\\\"0\\\\\"}], \\\\\"intent\\\\\": \\\\\"[\\\\\\\\\\\\\"What are the differences between Azure Machine Learning and Azure AI services?\\\\\\\\\\\\\"]\\\\\"}\"\\n        },\\n        {\\n            \"role\": \"assistant\",\\n            \"content\": \" \\\\nAzure Machine Learning is a product and service tailored for data scientists to build, train, and deploy machine learning models [doc1]...\"\\n        },\\n        {\\n            \"role\": \"user\",\\n            \"content\": \"How do I use Azure machine learning?\"\\n        }\\n    ]\\n}\\n```\\n\\n## Token usage estimation for Azure OpenAI On Your Data\\n\\n\\n\\n| Model | Max tokens for system message | Max tokens for model response |\\n|--|--|--|\\n| GPT-35-0301 | 400 | 1500 |\\n| GPT-35-0613-16K | 1000 | 3200 |\\n| GPT-4-0613-8K | 400 | 1500 |\\n| GPT-4-0613-32K | 2000 | 6400 |\\n\\nThe table above shows the total number of tokens available for each model type. It also determines the maximum number of tokens that can be used for the [system message](#system-message) and the model response. Additionally, the following also consume tokens:\\n\\n\\n\\n* The meta prompt (MP): if you limit responses from the model to the grounding data content (`inScope=True` in the API), the maximum number of tokens is 4,036 tokens. Otherwise (for example if `inScope=False`) the maximum is 3,444 tokens. This number is variable depending on the token length of the user question and conversation history. This estimate includes the base prompt and the query rewriting prompts for retrieval.\\n* User question and history: Variable but capped at 2,000 tokens.\\n* Retrieved documents (chunks): The number of tokens used by the retrieved document chunks depends on multiple factors. The upper bound for this is the number of retrieved document chunks multiplied by the chunk size. It will, however, be truncated based on the tokens available tokens for the specific model being used after counting the rest of fields. \\n\\n    20% of the available tokens are reserved for the model response. The remaining 80% of available tokens include the meta prompt, the user question and conversation history, and the system message. The remaining token budget is used by the retrieved document chunks. \\n\\n```python \\nimport tiktoken\\n\\nclass TokenEstimator(object):\\n\\n    GPT2_TOKENIZER = tiktoken.get_encoding(\"gpt2\")\\n\\n    def estimate_tokens(self, text: str) -> int:\\n        return len(self.GPT2_TOKENIZER.encode(text))\\n      \\ntoken_output = TokenEstimator.estimate_tokens(input_text)\\n```\\n\\n## Troubleshooting \\n\\n### Failed ingestion jobs\\n\\nTo troubleshoot a failed job, always look out for errors or warnings specified either in the API response or Azure OpenAI studio. Here are some of the common errors and warnings: \\n\\n\\n**Quota Limitations Issues** \\n\\n*An index with the name X in service Y could not be created. Index quota has been exceeded for this service. You must either delete unused indexes first, add a delay between index creation requests, or upgrade the service for higher limits.*\\n\\n*Standard indexer quota of X has been exceeded for this service. You currently have X standard indexers. You must either delete unused indexers first, change the indexer \\'executionMode\\', or upgrade the service for higher limits.* \\n\\nResolution: \\n\\nUpgrade to a higher pricing tier or delete unused assets. \\n\\n**Preprocessing Timeout Issues** \\n\\n*Could not execute skill because the Web API request failed*\\n\\n*Could not execute skill because Web API skill response is invalid* \\n\\nResolution: \\n\\nBreak down the input documents into smaller documents and try again. \\n\\n**Permissions Issues** \\n\\n*This request isn\\'t authorized to perform this operation*\\n\\nResolution: \\n\\nThis means the storage account isn\\'t accessible with the given credentials. In this case, please review the storage account credentials passed to the API and ensure the storage account isn\\'t hidden behind a private endpoint (if a private endpoint isn\\'t configured for this resource). \\n\\n## Regional availability and model support\\n\\nYou can use Azure OpenAI On Your Data with an Azure OpenAI resource in the following regions:\\n* Australia East\\n* Brazil South\\n* Canada East\\n* East US\\n* East US 2\\n* France Central\\n* Japan East\\n* North Central US\\n* Norway East\\n* South Africa North\\n* South Central US\\n* South India\\n* Sweden Central\\n* Switzerland North\\n* UK South\\n* West Europe\\n* West US\\n\\n### Supported models\\n\\n* `gpt-4` (0314)\\n* `gpt-4` (0613)\\n* `gpt-4-32k` (0314)\\n* `gpt-4-32k` (0613)\\n* `gpt-4` (1106-preview)\\n* `gpt-35-turbo-16k` (0613)\\n* `gpt-35-turbo` (1106)\\n\\nIf your Azure OpenAI resource is in another region, you won\\'t be able to use Azure OpenAI On Your Data.\\n\\n## Next steps\\n* [Get started using your data with Azure OpenAI](../use-your-data-quickstart.md)\\n\\n* [Securely use Azure OpenAI On Your Data](../how-to/use-your-data-securely.md)\\n\\n* [Introduction to prompt engineering](./prompt-engineering.md)\\n'"
      ]
     },
     "execution_count": 11,
     "metadata": {},
     "output_type": "execute_result"
    }
   ],
   "source": [
    "# test chunking\n",
    "row = df[df['file_name'] == 'use-your-data.md']\n",
    "# use list function to show all text in the cell\n",
    "md_content = list(row['content'])[0]\n",
    "md_content"
   ]
  },
  {
   "cell_type": "markdown",
   "id": "b6c67591-3a70-4114-9c5d-1a2a7b5a8b8c",
   "metadata": {},
   "source": [
    "### Text Splitter"
   ]
  },
  {
   "cell_type": "code",
   "execution_count": 13,
   "id": "df3b49c8-8e4d-40bc-a1cd-b4b741f9b90e",
   "metadata": {},
   "outputs": [],
   "source": [
    "# from_tiktoken_encoder enables use to split on tokens rather than characters\n",
    "recursive_text_splitter = RecursiveCharacterTextSplitter.from_tiktoken_encoder(\n",
    "   encoding_name=get_encoding_name(),\n",
    "   chunk_size=1000, \n",
    "   chunk_overlap=125\n",
    ")\n",
    "\n",
    "#recursive_text_splitter_chunks = recursive_text_splitter.split_documents(documents)\n",
    "recursive_text_splitter_chunks = recursive_text_splitter.split_text(md_content)"
   ]
  },
  {
   "cell_type": "code",
   "execution_count": 14,
   "id": "dc6be307-df7f-4e16-90c4-1797592beb8b",
   "metadata": {
    "scrolled": true
   },
   "outputs": [
    {
     "data": {
      "text/plain": [
       "10"
      ]
     },
     "execution_count": 14,
     "metadata": {},
     "output_type": "execute_result"
    }
   ],
   "source": [
    "len(recursive_text_splitter_chunks)"
   ]
  },
  {
   "cell_type": "code",
   "execution_count": 15,
   "id": "d605ffa2-310a-4b18-9c27-d83dd6f52e1c",
   "metadata": {},
   "outputs": [
    {
     "data": {
      "text/plain": [
       "\"# Azure OpenAI On Your Data \\n\\nUse this article to learn about Azure OpenAI On Your Data, which makes it easier for developers to connect, ingest and ground their enterprise data to create personalized copilots (preview) rapidly. It enhances user comprehension, expedites task completion, improves operational efficiency, and aids decision-making.\\n\\n## What is Azure OpenAI On Your Data\\n\\nAzure OpenAI On Your Data enables you to run advanced AI models such as GPT-35-Turbo and GPT-4 on your own enterprise data without needing to train or fine-tune models. You can chat on top of and analyze your data with greater accuracy. You can specify sources to support the responses based on the latest information available in your designated data sources. You can access Azure OpenAI On Your Data using a REST API, via the SDK or the web-based interface in the [Azure OpenAI Studio](https://oai.azure.com/). You can also create a web app that connects to your data to enable an enhanced chat solution or deploy it directly as a copilot in the Copilot Studio (preview).\\n\\n## Get started\\n\\nTo get started, [connect your data source](../use-your-data-quickstart.md) using Azure OpenAI Studio and start asking questions and chatting on your data.\\n\\n> [!NOTE]\\n> To get started, you need to already have been approved for [Azure OpenAI access](../overview.md#how-do-i-get-access-to-azure-openai) and have an [Azure OpenAI Service resource](../how-to/create-resource.md) deployed in a [supported region](#regional-availability-and-model-support) with either the gpt-35-turbo or the gpt-4 models.\\n\\n## Azure Role-based access controls (Azure RBAC) for adding data sources\\n\\nTo use Azure OpenAI On Your Data fully, you need to set one or more Azure RBAC roles. See [Use Azure OpenAI On Your Data securely](../how-to/use-your-data-securely.md#role-assignments) for more information.\\n\\n## Data formats and file types\\n\\nAzure OpenAI On Your Data supports the following file types:\\n\\n* `.txt`\\n* `.md`\\n* `.html`\\n* `.docx`\\n* `.pptx`\\n* `.pdf`\\n\\nThere's an [upload limit](../quotas-limits.md), and there are some caveats about document structure and how it might affect the quality of responses from the model: \\n\\n* If you're converting data from an unsupported format into a supported format, make sure the conversion:\\n\\n    * Doesn't lead to significant data loss.\\n    * Doesn't add unexpected noise to your data.  \\n\\n    This affects the quality of the model response. \\n\\n* If your files have special formatting, such as tables and columns, or bullet points, prepare your data with the data preparation script available on [GitHub](https://github.com/microsoft/sample-app-aoai-chatGPT/tree/main/scripts#optional-crack-pdfs-to-text).\\n\\n* For documents and datasets with long text, you should use the available [data preparation script](https://github.com/microsoft/sample-app-aoai-chatGPT/tree/main/scripts#data-preparation). The script chunks data so that the model's responses are more accurate. This script also supports scanned PDF files and images.\\n\\n## Supported data sources\\n\\nYou need to connect to a data source to upload your data. When you want to use your data to chat with an Azure OpenAI model, your data is chunked in a search index so that relevant data can be found based on user queries. For some data sources such as uploading files from your local machine (preview) or data contained in a blob storage account (preview), Azure AI Search is used. \\n\\nWhen you choose the following data sources, your data is ingested into an Azure AI Search index.\\n\\n|Data source  | Description  |\\n|---------|---------|\\n| [Azure AI Search](/azure/search/search-what-is-azure-search)  | Use an existing Azure AI Search index with Azure OpenAI On Your Data.      |\\n|Upload files (preview)      | Upload files from your local machine to be stored in an Azure Blob Storage database, and ingested into Azure AI Search.         |\\n|URL/Web address (preview)        | Web content from the URLs is stored in Azure Blob Storage.         |\\n|Azure Blob Storage (preview) | Upload files from Azure Blob Storage to be ingested into an Azure AI Search index.         |\\n\\n# [Azure AI Search](#tab/ai-search)\\n\\nYou might want to consider using an Azure AI Search index when you either want to:\\n* Customize the index creation process. \\n* Reuse an index created before by ingesting data from other data sources.\""
      ]
     },
     "execution_count": 15,
     "metadata": {},
     "output_type": "execute_result"
    }
   ],
   "source": [
    "recursive_text_splitter_chunks[0]"
   ]
  },
  {
   "cell_type": "markdown",
   "id": "6a1ee9be-efe6-476a-bfbb-3b7e1c361ebf",
   "metadata": {},
   "source": [
    "### Makrdown splitter"
   ]
  },
  {
   "cell_type": "code",
   "execution_count": 16,
   "id": "cf75b249-9eb7-4e54-9c27-af69594c33b8",
   "metadata": {},
   "outputs": [
    {
     "data": {
      "text/plain": [
       "19"
      ]
     },
     "execution_count": 16,
     "metadata": {},
     "output_type": "execute_result"
    }
   ],
   "source": [
    "headers_to_split_on = [\n",
    "    (\"#\", \"H1\"),\n",
    "    (\"##\", \"H2\"),\n",
    "]\n",
    "\n",
    "markdown_splitter = MarkdownHeaderTextSplitter(headers_to_split_on=headers_to_split_on)\n",
    "md_header_splits = markdown_splitter.split_text(md_content)\n",
    "len(md_header_splits)"
   ]
  },
  {
   "cell_type": "code",
   "execution_count": 17,
   "id": "9788428d-7663-4b3d-b71b-3f5476acce96",
   "metadata": {},
   "outputs": [
    {
     "data": {
      "text/plain": [
       "Document(page_content='To get started, [connect your data source](../use-your-data-quickstart.md) using Azure OpenAI Studio and start asking questions and chatting on your data.  \\n> [!NOTE]\\n> To get started, you need to already have been approved for [Azure OpenAI access](../overview.md#how-do-i-get-access-to-azure-openai) and have an [Azure OpenAI Service resource](../how-to/create-resource.md) deployed in a [supported region](#regional-availability-and-model-support) with either the gpt-35-turbo or the gpt-4 models.', metadata={'H1': 'Azure OpenAI On Your Data', 'H2': 'Get started'})"
      ]
     },
     "execution_count": 17,
     "metadata": {},
     "output_type": "execute_result"
    }
   ],
   "source": [
    "md_header_splits[2]"
   ]
  },
  {
   "cell_type": "markdown",
   "id": "ccd99903-5ce0-4ef3-aa1d-526b455ef37a",
   "metadata": {},
   "source": [
    "## Chunking"
   ]
  },
  {
   "cell_type": "code",
   "execution_count": 18,
   "id": "40309d8c-2b55-4007-b5c6-65fe12f87f16",
   "metadata": {},
   "outputs": [
    {
     "data": {
      "text/html": [
       "<div>\n",
       "<style scoped>\n",
       "    .dataframe tbody tr th:only-of-type {\n",
       "        vertical-align: middle;\n",
       "    }\n",
       "\n",
       "    .dataframe tbody tr th {\n",
       "        vertical-align: top;\n",
       "    }\n",
       "\n",
       "    .dataframe thead th {\n",
       "        text-align: right;\n",
       "    }\n",
       "</style>\n",
       "<table border=\"1\" class=\"dataframe\">\n",
       "  <thead>\n",
       "    <tr style=\"text-align: right;\">\n",
       "      <th></th>\n",
       "      <th>title</th>\n",
       "      <th>chunk</th>\n",
       "      <th>parent_id</th>\n",
       "      <th>chunk_id</th>\n",
       "    </tr>\n",
       "  </thead>\n",
       "  <tbody>\n",
       "    <tr>\n",
       "      <th>0</th>\n",
       "      <td>Quickstart: Use GPT-4 Turbo with Vision on you...</td>\n",
       "      <td>Use this article to get started using the Azur...</td>\n",
       "      <td>gpt-v-python.md</td>\n",
       "      <td>0</td>\n",
       "    </tr>\n",
       "    <tr>\n",
       "      <th>1</th>\n",
       "      <td>Quickstart: Use GPT-4 Turbo with Vision on you...</td>\n",
       "      <td>```console\\n    python quickstart.py\\n    ```\\...</td>\n",
       "      <td>gpt-v-python.md</td>\n",
       "      <td>1</td>\n",
       "    </tr>\n",
       "    <tr>\n",
       "      <th>2</th>\n",
       "      <td>Quickstart: Use Azure OpenAI Service with the ...</td>\n",
       "      <td>[Source code](https://github.com/Azure/azure-s...</td>\n",
       "      <td>chatgpt-javascript.md</td>\n",
       "      <td>0</td>\n",
       "    </tr>\n",
       "    <tr>\n",
       "      <th>3</th>\n",
       "      <td>Quickstart: Use Azure OpenAI Service with the ...</td>\n",
       "      <td>Run the script with the following command:\\n\\n...</td>\n",
       "      <td>chatgpt-javascript.md</td>\n",
       "      <td>1</td>\n",
       "    </tr>\n",
       "    <tr>\n",
       "      <th>4</th>\n",
       "      <td>use-your-data-rest.md</td>\n",
       "      <td>[!INCLUDE [Set up required variables](./use-yo...</td>\n",
       "      <td>use-your-data-rest.md</td>\n",
       "      <td>0</td>\n",
       "    </tr>\n",
       "    <tr>\n",
       "      <th>...</th>\n",
       "      <td>...</td>\n",
       "      <td>...</td>\n",
       "      <td>...</td>\n",
       "      <td>...</td>\n",
       "    </tr>\n",
       "    <tr>\n",
       "      <th>438</th>\n",
       "      <td>How to use function calling with Azure OpenAI ...</td>\n",
       "      <td>To use function calling with the Chat Completi...</td>\n",
       "      <td>function-calling.md</td>\n",
       "      <td>2</td>\n",
       "    </tr>\n",
       "    <tr>\n",
       "      <th>439</th>\n",
       "      <td>How to use function calling with Azure OpenAI ...</td>\n",
       "      <td>print(response.choices[0].message.model_dump_j...</td>\n",
       "      <td>function-calling.md</td>\n",
       "      <td>3</td>\n",
       "    </tr>\n",
       "    <tr>\n",
       "      <th>440</th>\n",
       "      <td>How to use function calling with Azure OpenAI ...</td>\n",
       "      <td>If you want to describe a function that doesn'...</td>\n",
       "      <td>function-calling.md</td>\n",
       "      <td>4</td>\n",
       "    </tr>\n",
       "    <tr>\n",
       "      <th>441</th>\n",
       "      <td>How to use function calling with Azure OpenAI ...</td>\n",
       "      <td>In the examples, we don't do any validation or...</td>\n",
       "      <td>function-calling.md</td>\n",
       "      <td>5</td>\n",
       "    </tr>\n",
       "    <tr>\n",
       "      <th>442</th>\n",
       "      <td>How to use function calling with Azure OpenAI ...</td>\n",
       "      <td>To learn more about our recommendations on how...</td>\n",
       "      <td>function-calling.md</td>\n",
       "      <td>6</td>\n",
       "    </tr>\n",
       "  </tbody>\n",
       "</table>\n",
       "<p>443 rows × 4 columns</p>\n",
       "</div>"
      ],
      "text/plain": [
       "                                                 title  \\\n",
       "0    Quickstart: Use GPT-4 Turbo with Vision on you...   \n",
       "1    Quickstart: Use GPT-4 Turbo with Vision on you...   \n",
       "2    Quickstart: Use Azure OpenAI Service with the ...   \n",
       "3    Quickstart: Use Azure OpenAI Service with the ...   \n",
       "4                                use-your-data-rest.md   \n",
       "..                                                 ...   \n",
       "438  How to use function calling with Azure OpenAI ...   \n",
       "439  How to use function calling with Azure OpenAI ...   \n",
       "440  How to use function calling with Azure OpenAI ...   \n",
       "441  How to use function calling with Azure OpenAI ...   \n",
       "442  How to use function calling with Azure OpenAI ...   \n",
       "\n",
       "                                                 chunk              parent_id  \\\n",
       "0    Use this article to get started using the Azur...        gpt-v-python.md   \n",
       "1    ```console\\n    python quickstart.py\\n    ```\\...        gpt-v-python.md   \n",
       "2    [Source code](https://github.com/Azure/azure-s...  chatgpt-javascript.md   \n",
       "3    Run the script with the following command:\\n\\n...  chatgpt-javascript.md   \n",
       "4    [!INCLUDE [Set up required variables](./use-yo...  use-your-data-rest.md   \n",
       "..                                                 ...                    ...   \n",
       "438  To use function calling with the Chat Completi...    function-calling.md   \n",
       "439  print(response.choices[0].message.model_dump_j...    function-calling.md   \n",
       "440  If you want to describe a function that doesn'...    function-calling.md   \n",
       "441  In the examples, we don't do any validation or...    function-calling.md   \n",
       "442  To learn more about our recommendations on how...    function-calling.md   \n",
       "\n",
       "    chunk_id  \n",
       "0          0  \n",
       "1          1  \n",
       "2          0  \n",
       "3          1  \n",
       "4          0  \n",
       "..       ...  \n",
       "438        2  \n",
       "439        3  \n",
       "440        4  \n",
       "441        5  \n",
       "442        6  \n",
       "\n",
       "[443 rows x 4 columns]"
      ]
     },
     "execution_count": 18,
     "metadata": {},
     "output_type": "execute_result"
    }
   ],
   "source": [
    "recursive_text_splitter = RecursiveCharacterTextSplitter.from_tiktoken_encoder(\n",
    "   encoding_name=get_encoding_name(),\n",
    "   chunk_size=1000, \n",
    "   chunk_overlap=125\n",
    ")\n",
    "\n",
    "chunked_data = pd.DataFrame(columns=['title', 'chunk', 'parent_id', 'chunk_id'])\n",
    "\n",
    "for i in range(len(df)):\n",
    "    row = df.iloc[i]\n",
    "\n",
    "    md_content = row['content']\n",
    "    recursive_text_splitter_chunks = recursive_text_splitter.split_text(md_content)\n",
    "    for j in range(len(recursive_text_splitter_chunks)):\n",
    "        chunk = recursive_text_splitter_chunks[j]\n",
    "        new_row = {'title':  row['title'], 'chunk': chunk, 'parent_id': row['file_name'], 'chunk_id': j}\n",
    "        chunked_data = pd.concat([chunked_data, pd.DataFrame([new_row])], ignore_index=True)\n",
    "\n",
    "chunked_data"
   ]
  },
  {
   "cell_type": "code",
   "execution_count": 19,
   "id": "219ee66b-a9ea-4a32-9ee3-51e72cc8b2b4",
   "metadata": {},
   "outputs": [],
   "source": [
    "# save to file\n",
    "chunked_data.to_pickle('./aoai-docs.pkl')"
   ]
  },
  {
   "cell_type": "code",
   "execution_count": null,
   "id": "323e71f3-5c07-4d0b-82c7-31fc6747f5ba",
   "metadata": {},
   "outputs": [],
   "source": []
  }
 ],
 "metadata": {
  "kernelspec": {
   "display_name": "Python 3 (ipykernel)",
   "language": "python",
   "name": "python3"
  },
  "language_info": {
   "codemirror_mode": {
    "name": "ipython",
    "version": 3
   },
   "file_extension": ".py",
   "mimetype": "text/x-python",
   "name": "python",
   "nbconvert_exporter": "python",
   "pygments_lexer": "ipython3",
   "version": "3.9.18"
  }
 },
 "nbformat": 4,
 "nbformat_minor": 5
}
