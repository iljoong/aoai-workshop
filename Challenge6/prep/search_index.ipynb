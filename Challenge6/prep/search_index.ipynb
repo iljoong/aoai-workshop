{
 "cells": [
  {
   "cell_type": "markdown",
   "metadata": {},
   "source": [
    "# Search index\n",
    "\n",
    "document indexing for advanced search\n",
    "\n",
    "1. coverting `.docx` to `md`\n",
    "2. chunking\n",
    "3. embedding\n",
    "4. ingesting to **AI Search**"
   ]
  },
  {
   "cell_type": "code",
   "execution_count": 1,
   "metadata": {},
   "outputs": [
    {
     "data": {
      "text/plain": [
       "True"
      ]
     },
     "execution_count": 1,
     "metadata": {},
     "output_type": "execute_result"
    }
   ],
   "source": [
    "from dotenv import load_dotenv\n",
    "load_dotenv()"
   ]
  },
  {
   "cell_type": "markdown",
   "metadata": {},
   "source": [
    "## Coverting/Chunking/Embedding"
   ]
  },
  {
   "cell_type": "markdown",
   "metadata": {},
   "source": [
    "### Coverting using Azure AI Document Intelligence\n",
    "\n",
    "> You need to provision [Azure Document Intelligence](https://azure.microsoft.com/en-us/products/ai-services/ai-document-intelligence) service before running this notebook\n",
    "\n",
    "```\n",
    "pip install azure-ai-documentintelligence==1.0.0b2\n",
    "```"
   ]
  },
  {
   "cell_type": "code",
   "execution_count": 2,
   "metadata": {},
   "outputs": [],
   "source": [
    "import os\n",
    "\n",
    "AZDOCINT_ENDPOINT = os.getenv(\"AZDOCINT_ENDPOINT\")\n",
    "AZDOCINT_KEY = os.getenv(\"AZDOCINT_KEY\")"
   ]
  },
  {
   "cell_type": "code",
   "execution_count": 3,
   "metadata": {},
   "outputs": [],
   "source": [
    "import base64\n",
    "\n",
    "from azure.ai.documentintelligence import DocumentIntelligenceClient\n",
    "from azure.core.credentials import AzureKeyCredential\n",
    "from azure.ai.documentintelligence.models import AnalyzeResult\n",
    "\n",
    "document_analysis_client = DocumentIntelligenceClient(\n",
    "    endpoint=AZDOCINT_ENDPOINT, credential=AzureKeyCredential(AZDOCINT_KEY)\n",
    ")"
   ]
  },
  {
   "cell_type": "markdown",
   "metadata": {},
   "source": [
    "### Chunking using LangChain tool"
   ]
  },
  {
   "cell_type": "code",
   "execution_count": 4,
   "metadata": {},
   "outputs": [],
   "source": [
    "import tiktoken\n",
    "encoding = tiktoken.get_encoding(\"cl100k_base\")\n",
    "\n",
    "def token_size(text):\n",
    "    return len(encoding.encode(text))"
   ]
  },
  {
   "cell_type": "markdown",
   "metadata": {},
   "source": [
    "> Split MD file based on header `H1`."
   ]
  },
  {
   "cell_type": "code",
   "execution_count": 5,
   "metadata": {},
   "outputs": [],
   "source": [
    "from langchain.text_splitter import RecursiveCharacterTextSplitter, MarkdownHeaderTextSplitter\n",
    "\n",
    "def get_encoding_name(model=\"gpt-3.5-turbo\"):\n",
    "    return tiktoken.encoding_for_model(model).name\n",
    "\n",
    "headers_to_split_on = [\n",
    "    (\"#\", \"H1\"),\n",
    "]\n",
    "\n",
    "markdown_splitter = MarkdownHeaderTextSplitter(headers_to_split_on=headers_to_split_on)"
   ]
  },
  {
   "cell_type": "markdown",
   "metadata": {},
   "source": [
    "### Embedding"
   ]
  },
  {
   "cell_type": "code",
   "execution_count": 6,
   "metadata": {},
   "outputs": [],
   "source": [
    "import os\n",
    "from openai import AzureOpenAI\n",
    "\n",
    "client = AzureOpenAI(\n",
    "  api_key = os.environ['JP_AOAI_KEY'],\n",
    "  api_version = \"2024-03-01-preview\",\n",
    "  azure_endpoint = os.environ['JP_AOAI_ENDPOINT']\n",
    ")\n",
    "\n",
    "def generate_embeddings(text):\n",
    "    response = client.embeddings.create(\n",
    "        input = text,\n",
    "        model= \"text-embedding-ada-002\"\n",
    "    )\n",
    "    return response.data[0].embedding"
   ]
  },
  {
   "cell_type": "markdown",
   "metadata": {},
   "source": [
    "> Split document based on `Header` and chunk if the size is greater than 2K with overlap 125."
   ]
  },
  {
   "cell_type": "code",
   "execution_count": 7,
   "metadata": {},
   "outputs": [],
   "source": [
    "text_splitter = RecursiveCharacterTextSplitter.from_tiktoken_encoder(\n",
    "    encoding_name=get_encoding_name(),\n",
    "    chunk_size=2000, \n",
    "    chunk_overlap=125\n",
    ")"
   ]
  },
  {
   "cell_type": "code",
   "execution_count": null,
   "metadata": {},
   "outputs": [],
   "source": [
    "# sample `.docx` files\n",
    "samples = [\n",
    "    {\"file\": \"sample-khu-policy1.docx\", \"title\": \"경희대학교학칙\"},\n",
    "    {\"file\": \"sample-khu-policy2.docx\", \"title\": \"위임전결규정\"},\n",
    "]"
   ]
  },
  {
   "cell_type": "code",
   "execution_count": 22,
   "metadata": {},
   "outputs": [
    {
     "name": "stdout",
     "output_type": "stream",
     "text": [
      "converting `./sample-khu-policy1.docx`...\n",
      "saving to `sample-khu-policy1.md` ...\n",
      "chunking `./sample-khu-policy1.docx`...\n",
      "converting `./sample-khu-policy2.docx`...\n",
      "saving to `sample-khu-policy2.md` ...\n",
      "chunking `./sample-khu-policy2.docx`...\n"
     ]
    },
    {
     "data": {
      "text/html": [
       "<div>\n",
       "<style scoped>\n",
       "    .dataframe tbody tr th:only-of-type {\n",
       "        vertical-align: middle;\n",
       "    }\n",
       "\n",
       "    .dataframe tbody tr th {\n",
       "        vertical-align: top;\n",
       "    }\n",
       "\n",
       "    .dataframe thead th {\n",
       "        text-align: right;\n",
       "    }\n",
       "</style>\n",
       "<table border=\"1\" class=\"dataframe\">\n",
       "  <thead>\n",
       "    <tr style=\"text-align: right;\">\n",
       "      <th></th>\n",
       "      <th>title</th>\n",
       "      <th>header</th>\n",
       "      <th>chunk</th>\n",
       "      <th>parent_id</th>\n",
       "      <th>chunk_id</th>\n",
       "      <th>vector</th>\n",
       "      <th>token_size</th>\n",
       "    </tr>\n",
       "  </thead>\n",
       "  <tbody>\n",
       "    <tr>\n",
       "      <th>0</th>\n",
       "      <td>경희대학교학칙</td>\n",
       "      <td>제1장 총칙</td>\n",
       "      <td># 제1장 총칙\\n## 제1조(목적)  \\n경희대학교(이하 \"본 대학교\"라 한다)는...</td>\n",
       "      <td>sample-khu-policy1.docx</td>\n",
       "      <td>1</td>\n",
       "      <td>[0.004299728199839592, -0.013456246815621853, ...</td>\n",
       "      <td>1090</td>\n",
       "    </tr>\n",
       "    <tr>\n",
       "      <th>1</th>\n",
       "      <td>경희대학교학칙</td>\n",
       "      <td>제2장 대학원</td>\n",
       "      <td># 제2장 대학원\\n## 제4조(대학원 학칙)  \\n대학원, 동서의학대학원, 국제대...</td>\n",
       "      <td>sample-khu-policy1.docx</td>\n",
       "      <td>2</td>\n",
       "      <td>[0.01799730211496353, 0.007478967308998108, 0....</td>\n",
       "      <td>267</td>\n",
       "    </tr>\n",
       "    <tr>\n",
       "      <th>2</th>\n",
       "      <td>경희대학교학칙</td>\n",
       "      <td>제3장 부속기관 및 부설연구기관 등</td>\n",
       "      <td># 제3장 부속기관 및 부설연구기관 등\\n## 제5조(부속기관 및 부설연구기관)  ...</td>\n",
       "      <td>sample-khu-policy1.docx</td>\n",
       "      <td>3</td>\n",
       "      <td>[-0.0007064728997647762, 0.008238081820309162,...</td>\n",
       "      <td>725</td>\n",
       "    </tr>\n",
       "    <tr>\n",
       "      <th>3</th>\n",
       "      <td>경희대학교학칙</td>\n",
       "      <td>제4장 수업연한과 재학연한</td>\n",
       "      <td># 제4장 수업연한과 재학연한\\n## 제6조(수업연한과 재학연한)  \\n① 학사과정...</td>\n",
       "      <td>sample-khu-policy1.docx</td>\n",
       "      <td>4</td>\n",
       "      <td>[-0.009212695062160492, 0.006909521296620369, ...</td>\n",
       "      <td>392</td>\n",
       "    </tr>\n",
       "    <tr>\n",
       "      <th>4</th>\n",
       "      <td>경희대학교학칙</td>\n",
       "      <td>제5장 학년도, 학기, 수업일, 휴업일</td>\n",
       "      <td># 제5장 학년도, 학기, 수업일, 휴업일\\n## 제8조(학년도, 학기)  \\n① ...</td>\n",
       "      <td>sample-khu-policy1.docx</td>\n",
       "      <td>5</td>\n",
       "      <td>[-0.0022902791388332844, -0.009431508369743824...</td>\n",
       "      <td>1279</td>\n",
       "    </tr>\n",
       "    <tr>\n",
       "      <th>5</th>\n",
       "      <td>경희대학교학칙</td>\n",
       "      <td>제6장 입학(편입학, 재입학 포함)</td>\n",
       "      <td># 제6장 입학(편입학, 재입학 포함)\\n## 제12조(입학시기)  \\n입학을 허가...</td>\n",
       "      <td>sample-khu-policy1.docx</td>\n",
       "      <td>6</td>\n",
       "      <td>[-0.0018715335754677653, 0.007532061543315649,...</td>\n",
       "      <td>1978</td>\n",
       "    </tr>\n",
       "    <tr>\n",
       "      <th>6</th>\n",
       "      <td>경희대학교학칙</td>\n",
       "      <td>제6장 입학(편입학, 재입학 포함)</td>\n",
       "      <td># 제6장 입학(편입학, 재입학 포함)\\n## 제19조의2(입학허가의 취소)  \\n...</td>\n",
       "      <td>sample-khu-policy1.docx</td>\n",
       "      <td>7</td>\n",
       "      <td>[-0.002366789849475026, 0.01550485473126173, 0...</td>\n",
       "      <td>408</td>\n",
       "    </tr>\n",
       "    <tr>\n",
       "      <th>7</th>\n",
       "      <td>경희대학교학칙</td>\n",
       "      <td>제7장 등록과 수강신청</td>\n",
       "      <td># 제7장 등록과 수강신청\\n## 제21조(등록)  \\n학생은 매 학기 소정의 기간...</td>\n",
       "      <td>sample-khu-policy1.docx</td>\n",
       "      <td>8</td>\n",
       "      <td>[0.004599304404109716, -0.012500673532485962, ...</td>\n",
       "      <td>157</td>\n",
       "    </tr>\n",
       "    <tr>\n",
       "      <th>8</th>\n",
       "      <td>경희대학교학칙</td>\n",
       "      <td>제8장 전과(부)</td>\n",
       "      <td># 제8장 전과(부)\\n## 제23조(전과(부)  \\n) ① 전과(부)는 입학정원의...</td>\n",
       "      <td>sample-khu-policy1.docx</td>\n",
       "      <td>9</td>\n",
       "      <td>[0.0030673863366246223, 0.011401932686567307, ...</td>\n",
       "      <td>553</td>\n",
       "    </tr>\n",
       "    <tr>\n",
       "      <th>9</th>\n",
       "      <td>경희대학교학칙</td>\n",
       "      <td>제9장 휴학·복학·퇴학·제적</td>\n",
       "      <td># 제9장 휴학·복학·퇴학·제적\\n## 제1절 휴학 및 복학  \\n제28조(휴학) ...</td>\n",
       "      <td>sample-khu-policy1.docx</td>\n",
       "      <td>10</td>\n",
       "      <td>[0.006140707526355982, 0.005347490776330233, 0...</td>\n",
       "      <td>1366</td>\n",
       "    </tr>\n",
       "    <tr>\n",
       "      <th>10</th>\n",
       "      <td>경희대학교학칙</td>\n",
       "      <td>제10장 교과의 이수</td>\n",
       "      <td># 제10장 교과의 이수\\n## 제1절 교육과정  \\n제34조(교육과정)  \\n① ...</td>\n",
       "      <td>sample-khu-policy1.docx</td>\n",
       "      <td>11</td>\n",
       "      <td>[0.01260200422257185, -0.009874753654003143, -...</td>\n",
       "      <td>1970</td>\n",
       "    </tr>\n",
       "    <tr>\n",
       "      <th>11</th>\n",
       "      <td>경희대학교학칙</td>\n",
       "      <td>제10장 교과의 이수</td>\n",
       "      <td># 제10장 교과의 이수\\n전공과목 수업은 해당 대학에서 관장하고, 교양과목 수업에...</td>\n",
       "      <td>sample-khu-policy1.docx</td>\n",
       "      <td>12</td>\n",
       "      <td>[0.012281812727451324, -0.014610087499022484, ...</td>\n",
       "      <td>1953</td>\n",
       "    </tr>\n",
       "    <tr>\n",
       "      <th>12</th>\n",
       "      <td>경희대학교학칙</td>\n",
       "      <td>제10장 교과의 이수</td>\n",
       "      <td># 제10장 교과의 이수\\n의ㆍ약학계열 각 대학이 정한 소정의 학년진급 요건을 충족...</td>\n",
       "      <td>sample-khu-policy1.docx</td>\n",
       "      <td>13</td>\n",
       "      <td>[0.014499220065772533, 0.007784636691212654, 0...</td>\n",
       "      <td>1976</td>\n",
       "    </tr>\n",
       "    <tr>\n",
       "      <th>13</th>\n",
       "      <td>경희대학교학칙</td>\n",
       "      <td>제10장 교과의 이수</td>\n",
       "      <td># 제10장 교과의 이수\\n제54조(전과(부)  \\n생의 학점인정) ① 전과(부)한...</td>\n",
       "      <td>sample-khu-policy1.docx</td>\n",
       "      <td>14</td>\n",
       "      <td>[0.006527661345899105, -0.0064329104498028755,...</td>\n",
       "      <td>1924</td>\n",
       "    </tr>\n",
       "    <tr>\n",
       "      <th>14</th>\n",
       "      <td>경희대학교학칙</td>\n",
       "      <td>제10장 교과의 이수</td>\n",
       "      <td># 제10장 교과의 이수\\n⑨ 제36조 제7항의 마이크로디그리 교육과정을 이수한 경...</td>\n",
       "      <td>sample-khu-policy1.docx</td>\n",
       "      <td>15</td>\n",
       "      <td>[-0.011528228409588337, -0.016326678916811943,...</td>\n",
       "      <td>391</td>\n",
       "    </tr>\n",
       "    <tr>\n",
       "      <th>15</th>\n",
       "      <td>경희대학교학칙</td>\n",
       "      <td>제11장 학생활동</td>\n",
       "      <td># 제11장 학생활동\\n## 제61조(학생의 의무)  \\n학생은 따로 정하는 교칙을...</td>\n",
       "      <td>sample-khu-policy1.docx</td>\n",
       "      <td>16</td>\n",
       "      <td>[0.012728124856948853, -0.008683365769684315, ...</td>\n",
       "      <td>1163</td>\n",
       "    </tr>\n",
       "    <tr>\n",
       "      <th>16</th>\n",
       "      <td>경희대학교학칙</td>\n",
       "      <td>제13장 교수회</td>\n",
       "      <td># 제13장 교수회\\n## 제73조(교수회)  \\n① 교육에 관한 사항을 심의하기 ...</td>\n",
       "      <td>sample-khu-policy1.docx</td>\n",
       "      <td>17</td>\n",
       "      <td>[0.0036695280577987432, -0.003034478984773159,...</td>\n",
       "      <td>503</td>\n",
       "    </tr>\n",
       "    <tr>\n",
       "      <th>17</th>\n",
       "      <td>경희대학교학칙</td>\n",
       "      <td>제14장 교무위원회</td>\n",
       "      <td># 제14장 교무위원회\\n## 제77조(교무위원회의 설치)  \\n본 대학교에는 교무...</td>\n",
       "      <td>sample-khu-policy1.docx</td>\n",
       "      <td>18</td>\n",
       "      <td>[0.02565588243305683, 0.01072636991739273, 0.0...</td>\n",
       "      <td>933</td>\n",
       "    </tr>\n",
       "    <tr>\n",
       "      <th>18</th>\n",
       "      <td>경희대학교학칙</td>\n",
       "      <td>제15장 등록금</td>\n",
       "      <td># 제15장 등록금\\n## 제81조(등록금)  \\n학생은 매 학기 등록기간 내에 수...</td>\n",
       "      <td>sample-khu-policy1.docx</td>\n",
       "      <td>19</td>\n",
       "      <td>[0.009403563104569912, 0.0011988735059276223, ...</td>\n",
       "      <td>542</td>\n",
       "    </tr>\n",
       "    <tr>\n",
       "      <th>19</th>\n",
       "      <td>경희대학교학칙</td>\n",
       "      <td>제16장 위탁학생, 외국인 및 장애학생</td>\n",
       "      <td># 제16장 위탁학생, 외국인 및 장애학생\\n## 제88조(위탁학생)  \\n교육부령...</td>\n",
       "      <td>sample-khu-policy1.docx</td>\n",
       "      <td>20</td>\n",
       "      <td>[-0.001185805071145296, -0.00568064209073782, ...</td>\n",
       "      <td>506</td>\n",
       "    </tr>\n",
       "    <tr>\n",
       "      <th>20</th>\n",
       "      <td>경희대학교학칙</td>\n",
       "      <td>제17장 장학금</td>\n",
       "      <td># 제17장 장학금\\n## 제92조(장학금)  \\n① 품행이 바르고 학업성적이 우수...</td>\n",
       "      <td>sample-khu-policy1.docx</td>\n",
       "      <td>21</td>\n",
       "      <td>[-0.002869234886020422, 0.0023597595281898975,...</td>\n",
       "      <td>127</td>\n",
       "    </tr>\n",
       "    <tr>\n",
       "      <th>21</th>\n",
       "      <td>경희대학교학칙</td>\n",
       "      <td>제18장 공개강좌 제도</td>\n",
       "      <td># 제18장 공개강좌 제도\\n## 제93조(공개강좌 등의 개설)  \\n① 본 대학교...</td>\n",
       "      <td>sample-khu-policy1.docx</td>\n",
       "      <td>22</td>\n",
       "      <td>[0.007512554060667753, -0.01836402155458927, 0...</td>\n",
       "      <td>434</td>\n",
       "    </tr>\n",
       "    <tr>\n",
       "      <th>22</th>\n",
       "      <td>경희대학교학칙</td>\n",
       "      <td>제19장 예능교실</td>\n",
       "      <td># 제19장 예능교실\\n## 제98조(예능교실 설치)  \\n삭제 (2004.03.0...</td>\n",
       "      <td>sample-khu-policy1.docx</td>\n",
       "      <td>23</td>\n",
       "      <td>[-0.00485227769240737, -0.020697683095932007, ...</td>\n",
       "      <td>72</td>\n",
       "    </tr>\n",
       "    <tr>\n",
       "      <th>23</th>\n",
       "      <td>경희대학교학칙</td>\n",
       "      <td>제20장 학점은행제</td>\n",
       "      <td># 제20장 학점은행제\\n## 제100조(학위수여요건 및 학위의 종류)  \\n① 본...</td>\n",
       "      <td>sample-khu-policy1.docx</td>\n",
       "      <td>24</td>\n",
       "      <td>[0.003949527163058519, 0.0015602767234668136, ...</td>\n",
       "      <td>1520</td>\n",
       "    </tr>\n",
       "    <tr>\n",
       "      <th>24</th>\n",
       "      <td>경희대학교학칙</td>\n",
       "      <td>제21장 산학협력기관</td>\n",
       "      <td># 제21장 산학협력기관\\n## 제103조(산학협력단)  \\n① 산업교육을 진흥하고...</td>\n",
       "      <td>sample-khu-policy1.docx</td>\n",
       "      <td>25</td>\n",
       "      <td>[-0.0004919210914522409, -0.012615461833775043...</td>\n",
       "      <td>865</td>\n",
       "    </tr>\n",
       "    <tr>\n",
       "      <th>25</th>\n",
       "      <td>경희대학교학칙</td>\n",
       "      <td>제22장 대학평의원회</td>\n",
       "      <td># 제22장 대학평의원회\\n## 제107조(대학평의원회의 설치)  \\n① 「학교법인...</td>\n",
       "      <td>sample-khu-policy1.docx</td>\n",
       "      <td>26</td>\n",
       "      <td>[0.008978425525128841, 0.00949843693524599, 0....</td>\n",
       "      <td>906</td>\n",
       "    </tr>\n",
       "    <tr>\n",
       "      <th>26</th>\n",
       "      <td>경희대학교학칙</td>\n",
       "      <td>[별표1] 2018\\~2025학년도 모집단위별 입학정원</td>\n",
       "      <td># [별표1] 2018\\~2025학년도 모집단위별 입학정원\\n캠퍼스 서울  \\n| ...</td>\n",
       "      <td>sample-khu-policy1.docx</td>\n",
       "      <td>27</td>\n",
       "      <td>[0.000224940333282575, -0.023020371794700623, ...</td>\n",
       "      <td>1796</td>\n",
       "    </tr>\n",
       "    <tr>\n",
       "      <th>27</th>\n",
       "      <td>경희대학교학칙</td>\n",
       "      <td>[별표3] 2017\\~2024학년도 졸업필요학점</td>\n",
       "      <td># [별표3] 2017\\~2024학년도 졸업필요학점\\n단과대학(학과), 입학년도별 ...</td>\n",
       "      <td>sample-khu-policy1.docx</td>\n",
       "      <td>28</td>\n",
       "      <td>[0.006027042865753174, -0.017627766355872154, ...</td>\n",
       "      <td>1531</td>\n",
       "    </tr>\n",
       "    <tr>\n",
       "      <th>28</th>\n",
       "      <td>위임전결규정</td>\n",
       "      <td>위임전결규정</td>\n",
       "      <td># 위임전결규정\\n## 제 1 조(목적)  \\n이 규정은 경희대학교(이하 ‘본교'라...</td>\n",
       "      <td>sample-khu-policy2.docx</td>\n",
       "      <td>1</td>\n",
       "      <td>[0.00530264200642705, -0.006902171764522791, -...</td>\n",
       "      <td>1538</td>\n",
       "    </tr>\n",
       "    <tr>\n",
       "      <th>29</th>\n",
       "      <td>위임전결규정</td>\n",
       "      <td>[별표1] 위임전결사항</td>\n",
       "      <td># [별표1] 위임전결사항\\n(1) 공통사항  \\n| 업무명 | 업무내용 | 총장 ...</td>\n",
       "      <td>sample-khu-policy2.docx</td>\n",
       "      <td>2</td>\n",
       "      <td>[-0.0015912975650280714, -0.014343596994876862...</td>\n",
       "      <td>807</td>\n",
       "    </tr>\n",
       "  </tbody>\n",
       "</table>\n",
       "</div>"
      ],
      "text/plain": [
       "      title                          header  \\\n",
       "0   경희대학교학칙                          제1장 총칙   \n",
       "1   경희대학교학칙                         제2장 대학원   \n",
       "2   경희대학교학칙             제3장 부속기관 및 부설연구기관 등   \n",
       "3   경희대학교학칙                  제4장 수업연한과 재학연한   \n",
       "4   경희대학교학칙           제5장 학년도, 학기, 수업일, 휴업일   \n",
       "5   경희대학교학칙             제6장 입학(편입학, 재입학 포함)   \n",
       "6   경희대학교학칙             제6장 입학(편입학, 재입학 포함)   \n",
       "7   경희대학교학칙                    제7장 등록과 수강신청   \n",
       "8   경희대학교학칙                       제8장 전과(부)   \n",
       "9   경희대학교학칙                 제9장 휴학·복학·퇴학·제적   \n",
       "10  경희대학교학칙                     제10장 교과의 이수   \n",
       "11  경희대학교학칙                     제10장 교과의 이수   \n",
       "12  경희대학교학칙                     제10장 교과의 이수   \n",
       "13  경희대학교학칙                     제10장 교과의 이수   \n",
       "14  경희대학교학칙                     제10장 교과의 이수   \n",
       "15  경희대학교학칙                       제11장 학생활동   \n",
       "16  경희대학교학칙                        제13장 교수회   \n",
       "17  경희대학교학칙                      제14장 교무위원회   \n",
       "18  경희대학교학칙                        제15장 등록금   \n",
       "19  경희대학교학칙           제16장 위탁학생, 외국인 및 장애학생   \n",
       "20  경희대학교학칙                        제17장 장학금   \n",
       "21  경희대학교학칙                    제18장 공개강좌 제도   \n",
       "22  경희대학교학칙                       제19장 예능교실   \n",
       "23  경희대학교학칙                      제20장 학점은행제   \n",
       "24  경희대학교학칙                     제21장 산학협력기관   \n",
       "25  경희대학교학칙                     제22장 대학평의원회   \n",
       "26  경희대학교학칙  [별표1] 2018\\~2025학년도 모집단위별 입학정원   \n",
       "27  경희대학교학칙      [별표3] 2017\\~2024학년도 졸업필요학점   \n",
       "28   위임전결규정                          위임전결규정   \n",
       "29   위임전결규정                    [별표1] 위임전결사항   \n",
       "\n",
       "                                                chunk  \\\n",
       "0   # 제1장 총칙\\n## 제1조(목적)  \\n경희대학교(이하 \"본 대학교\"라 한다)는...   \n",
       "1   # 제2장 대학원\\n## 제4조(대학원 학칙)  \\n대학원, 동서의학대학원, 국제대...   \n",
       "2   # 제3장 부속기관 및 부설연구기관 등\\n## 제5조(부속기관 및 부설연구기관)  ...   \n",
       "3   # 제4장 수업연한과 재학연한\\n## 제6조(수업연한과 재학연한)  \\n① 학사과정...   \n",
       "4   # 제5장 학년도, 학기, 수업일, 휴업일\\n## 제8조(학년도, 학기)  \\n① ...   \n",
       "5   # 제6장 입학(편입학, 재입학 포함)\\n## 제12조(입학시기)  \\n입학을 허가...   \n",
       "6   # 제6장 입학(편입학, 재입학 포함)\\n## 제19조의2(입학허가의 취소)  \\n...   \n",
       "7   # 제7장 등록과 수강신청\\n## 제21조(등록)  \\n학생은 매 학기 소정의 기간...   \n",
       "8   # 제8장 전과(부)\\n## 제23조(전과(부)  \\n) ① 전과(부)는 입학정원의...   \n",
       "9   # 제9장 휴학·복학·퇴학·제적\\n## 제1절 휴학 및 복학  \\n제28조(휴학) ...   \n",
       "10  # 제10장 교과의 이수\\n## 제1절 교육과정  \\n제34조(교육과정)  \\n① ...   \n",
       "11  # 제10장 교과의 이수\\n전공과목 수업은 해당 대학에서 관장하고, 교양과목 수업에...   \n",
       "12  # 제10장 교과의 이수\\n의ㆍ약학계열 각 대학이 정한 소정의 학년진급 요건을 충족...   \n",
       "13  # 제10장 교과의 이수\\n제54조(전과(부)  \\n생의 학점인정) ① 전과(부)한...   \n",
       "14  # 제10장 교과의 이수\\n⑨ 제36조 제7항의 마이크로디그리 교육과정을 이수한 경...   \n",
       "15  # 제11장 학생활동\\n## 제61조(학생의 의무)  \\n학생은 따로 정하는 교칙을...   \n",
       "16  # 제13장 교수회\\n## 제73조(교수회)  \\n① 교육에 관한 사항을 심의하기 ...   \n",
       "17  # 제14장 교무위원회\\n## 제77조(교무위원회의 설치)  \\n본 대학교에는 교무...   \n",
       "18  # 제15장 등록금\\n## 제81조(등록금)  \\n학생은 매 학기 등록기간 내에 수...   \n",
       "19  # 제16장 위탁학생, 외국인 및 장애학생\\n## 제88조(위탁학생)  \\n교육부령...   \n",
       "20  # 제17장 장학금\\n## 제92조(장학금)  \\n① 품행이 바르고 학업성적이 우수...   \n",
       "21  # 제18장 공개강좌 제도\\n## 제93조(공개강좌 등의 개설)  \\n① 본 대학교...   \n",
       "22  # 제19장 예능교실\\n## 제98조(예능교실 설치)  \\n삭제 (2004.03.0...   \n",
       "23  # 제20장 학점은행제\\n## 제100조(학위수여요건 및 학위의 종류)  \\n① 본...   \n",
       "24  # 제21장 산학협력기관\\n## 제103조(산학협력단)  \\n① 산업교육을 진흥하고...   \n",
       "25  # 제22장 대학평의원회\\n## 제107조(대학평의원회의 설치)  \\n① 「학교법인...   \n",
       "26  # [별표1] 2018\\~2025학년도 모집단위별 입학정원\\n캠퍼스 서울  \\n| ...   \n",
       "27  # [별표3] 2017\\~2024학년도 졸업필요학점\\n단과대학(학과), 입학년도별 ...   \n",
       "28  # 위임전결규정\\n## 제 1 조(목적)  \\n이 규정은 경희대학교(이하 ‘본교'라...   \n",
       "29  # [별표1] 위임전결사항\\n(1) 공통사항  \\n| 업무명 | 업무내용 | 총장 ...   \n",
       "\n",
       "                  parent_id chunk_id  \\\n",
       "0   sample-khu-policy1.docx        1   \n",
       "1   sample-khu-policy1.docx        2   \n",
       "2   sample-khu-policy1.docx        3   \n",
       "3   sample-khu-policy1.docx        4   \n",
       "4   sample-khu-policy1.docx        5   \n",
       "5   sample-khu-policy1.docx        6   \n",
       "6   sample-khu-policy1.docx        7   \n",
       "7   sample-khu-policy1.docx        8   \n",
       "8   sample-khu-policy1.docx        9   \n",
       "9   sample-khu-policy1.docx       10   \n",
       "10  sample-khu-policy1.docx       11   \n",
       "11  sample-khu-policy1.docx       12   \n",
       "12  sample-khu-policy1.docx       13   \n",
       "13  sample-khu-policy1.docx       14   \n",
       "14  sample-khu-policy1.docx       15   \n",
       "15  sample-khu-policy1.docx       16   \n",
       "16  sample-khu-policy1.docx       17   \n",
       "17  sample-khu-policy1.docx       18   \n",
       "18  sample-khu-policy1.docx       19   \n",
       "19  sample-khu-policy1.docx       20   \n",
       "20  sample-khu-policy1.docx       21   \n",
       "21  sample-khu-policy1.docx       22   \n",
       "22  sample-khu-policy1.docx       23   \n",
       "23  sample-khu-policy1.docx       24   \n",
       "24  sample-khu-policy1.docx       25   \n",
       "25  sample-khu-policy1.docx       26   \n",
       "26  sample-khu-policy1.docx       27   \n",
       "27  sample-khu-policy1.docx       28   \n",
       "28  sample-khu-policy2.docx        1   \n",
       "29  sample-khu-policy2.docx        2   \n",
       "\n",
       "                                               vector token_size  \n",
       "0   [0.004299728199839592, -0.013456246815621853, ...       1090  \n",
       "1   [0.01799730211496353, 0.007478967308998108, 0....        267  \n",
       "2   [-0.0007064728997647762, 0.008238081820309162,...        725  \n",
       "3   [-0.009212695062160492, 0.006909521296620369, ...        392  \n",
       "4   [-0.0022902791388332844, -0.009431508369743824...       1279  \n",
       "5   [-0.0018715335754677653, 0.007532061543315649,...       1978  \n",
       "6   [-0.002366789849475026, 0.01550485473126173, 0...        408  \n",
       "7   [0.004599304404109716, -0.012500673532485962, ...        157  \n",
       "8   [0.0030673863366246223, 0.011401932686567307, ...        553  \n",
       "9   [0.006140707526355982, 0.005347490776330233, 0...       1366  \n",
       "10  [0.01260200422257185, -0.009874753654003143, -...       1970  \n",
       "11  [0.012281812727451324, -0.014610087499022484, ...       1953  \n",
       "12  [0.014499220065772533, 0.007784636691212654, 0...       1976  \n",
       "13  [0.006527661345899105, -0.0064329104498028755,...       1924  \n",
       "14  [-0.011528228409588337, -0.016326678916811943,...        391  \n",
       "15  [0.012728124856948853, -0.008683365769684315, ...       1163  \n",
       "16  [0.0036695280577987432, -0.003034478984773159,...        503  \n",
       "17  [0.02565588243305683, 0.01072636991739273, 0.0...        933  \n",
       "18  [0.009403563104569912, 0.0011988735059276223, ...        542  \n",
       "19  [-0.001185805071145296, -0.00568064209073782, ...        506  \n",
       "20  [-0.002869234886020422, 0.0023597595281898975,...        127  \n",
       "21  [0.007512554060667753, -0.01836402155458927, 0...        434  \n",
       "22  [-0.00485227769240737, -0.020697683095932007, ...         72  \n",
       "23  [0.003949527163058519, 0.0015602767234668136, ...       1520  \n",
       "24  [-0.0004919210914522409, -0.012615461833775043...        865  \n",
       "25  [0.008978425525128841, 0.00949843693524599, 0....        906  \n",
       "26  [0.000224940333282575, -0.023020371794700623, ...       1796  \n",
       "27  [0.006027042865753174, -0.017627766355872154, ...       1531  \n",
       "28  [0.00530264200642705, -0.006902171764522791, -...       1538  \n",
       "29  [-0.0015912975650280714, -0.014343596994876862...        807  "
      ]
     },
     "execution_count": 22,
     "metadata": {},
     "output_type": "execute_result"
    }
   ],
   "source": [
    "import pandas as pd\n",
    "df = pd.DataFrame(columns=['title', 'header', 'chunk', 'parent_id', 'chunk_id', 'vector', 'token_size'])\n",
    "\n",
    "for i, md in enumerate(samples):\n",
    "    sample_file = f\"./{md['file']}\"\n",
    "\n",
    "    print(f\"converting `{sample_file}`...\")\n",
    "    # document intelligence - access files locally\n",
    "    with open(sample_file, \"rb\") as f:\n",
    "        analyze_request = {\n",
    "            \"base64Source\": base64.b64encode(f.read()).decode('utf-8')\n",
    "        }\n",
    "        poller = document_analysis_client.begin_analyze_document(\"prebuilt-layout\", analyze_request, output_content_format=\"markdown\")\n",
    "\n",
    "    result = poller.result()\n",
    "    md_content = result[\"content\"]\n",
    "\n",
    "    md_file = md['file'].replace(\".docx\", \".md\")\n",
    "\n",
    "    with open(md_file, \"w\") as mf:\n",
    "        mf.write(md_content)\n",
    "\n",
    "    print(f'saving to `{md_file}` ...')\n",
    "\n",
    "    print(f\"chunking `{sample_file}`...\")\n",
    "    # markdown split\n",
    "    md_header_splits = markdown_splitter.split_text(md_content)\n",
    "\n",
    "    # additional text split\n",
    "    md_text_splits = text_splitter.split_documents(md_header_splits)\n",
    "\n",
    "    for j, md_split in enumerate(md_text_splits):\n",
    "        if 'H1' in md_split.metadata:\n",
    "            if 'H2' in md_split.metadata:\n",
    "                header = f\"{md_split.metadata['H1']}/{md_split.metadata['H2']}\"\n",
    "                chunk = f\"## {md_split.metadata['H2']}\\n{md_split.page_content}\"\n",
    "            else:\n",
    "                header = md_split.metadata['H1']\n",
    "                chunk = f\"# {md_split.metadata['H1']}\\n{md_split.page_content}\"\n",
    "\n",
    "            new_row = {'title': md['title'], 'header': header,\n",
    "                       'chunk': chunk, 'parent_id': md['file'], 'chunk_id': f\"{j}\",\n",
    "                       'vector': generate_embeddings(chunk), 'token_size': token_size(chunk)}\n",
    "            df = pd.concat([df, pd.DataFrame([new_row])], ignore_index=True)\n",
    "        else:\n",
    "            # title, ignore\n",
    "            chunk = md_split.page_content\n",
    "\n",
    "df"
   ]
  },
  {
   "cell_type": "code",
   "execution_count": 9,
   "metadata": {},
   "outputs": [],
   "source": [
    "df.to_pickle('aoai-docx-index.pkl')"
   ]
  },
  {
   "cell_type": "markdown",
   "metadata": {},
   "source": [
    "### Chunk size distribution"
   ]
  },
  {
   "cell_type": "code",
   "execution_count": 10,
   "metadata": {},
   "outputs": [],
   "source": [
    "import matplotlib.pyplot as plt\n",
    "import numpy as np # linear algebra"
   ]
  },
  {
   "cell_type": "code",
   "execution_count": 11,
   "metadata": {},
   "outputs": [
    {
     "data": {
      "text/plain": [
       "Text(0.5, 1.0, 'Histogram of Data')"
      ]
     },
     "execution_count": 11,
     "metadata": {},
     "output_type": "execute_result"
    },
    {
     "data": {
      "image/png": "[encoded data removed]",
      "text/plain": [
       "<Figure size 640x480 with 1 Axes>"
      ]
     },
     "metadata": {},
     "output_type": "display_data"
    }
   ],
   "source": [
    "# chatgpt promt: \"python code to plot a graph group by count of bin size from data\"\n",
    "data = df['token_size']\n",
    "\n",
    "bin_size = 100\n",
    "\n",
    "# Calculate the number of bins based on the bin size\n",
    "num_bins = int(np.ceil((data.max() - data.min()) / bin_size))\n",
    "\n",
    "# Create the histogram\n",
    "plt.hist(data, bins=num_bins)\n",
    "\n",
    "# Set the axis labels and title\n",
    "plt.xlabel('Value')\n",
    "plt.ylabel('Count')\n",
    "plt.title('Histogram of Data')\n",
    "\n",
    "# Show the plo"
   ]
  },
  {
   "cell_type": "markdown",
   "metadata": {},
   "source": [
    "## Ingesting"
   ]
  },
  {
   "cell_type": "markdown",
   "metadata": {},
   "source": [
    "### create a index"
   ]
  },
  {
   "cell_type": "code",
   "execution_count": 12,
   "metadata": {},
   "outputs": [],
   "source": [
    "from azure.core.credentials import AzureKeyCredential  \n",
    "from azure.search.documents import SearchClient  \n",
    "from azure.search.documents.indexes import SearchIndexClient  \n",
    "from azure.search.documents.indexes.models import (  \n",
    "    SearchIndex,  \n",
    "    SearchField,  \n",
    "    SearchFieldDataType,  \n",
    "    SimpleField,  \n",
    "    SearchableField,  \n",
    "    SearchIndex,  \n",
    "    SemanticConfiguration,  \n",
    "    SearchField,  \n",
    "    VectorSearch,\n",
    "    SemanticSearch,\n",
    "    SemanticPrioritizedFields,\n",
    "    SemanticField,\n",
    "    HnswAlgorithmConfiguration,\n",
    "    HnswParameters,\n",
    "    VectorSearchAlgorithmMetric,\n",
    "    VectorSearchProfile,\n",
    "    VectorSearchVectorizer,\n",
    "    AzureOpenAIVectorizer,\n",
    "    AzureOpenAIParameters\n",
    ")"
   ]
  },
  {
   "cell_type": "code",
   "execution_count": 13,
   "metadata": {},
   "outputs": [],
   "source": [
    "import os\n",
    "service_endpoint = os.getenv(\"AZSCH_ENDPOINT\")  \n",
    "key = os.getenv(\"AZSCH_KEY\")  \n",
    "credential = AzureKeyCredential(key)\n",
    "index_name = 'aoai-docx-index'"
   ]
  },
  {
   "cell_type": "markdown",
   "metadata": {},
   "source": [
    "> Config AI search index (fileds, vectorization and semantic rerank)"
   ]
  },
  {
   "cell_type": "code",
   "execution_count": 14,
   "metadata": {},
   "outputs": [
    {
     "name": "stdout",
     "output_type": "stream",
     "text": [
      " aoai-docx-index created\n"
     ]
    }
   ],
   "source": [
    "# Create a search index\n",
    "index_client = SearchIndexClient( endpoint=service_endpoint, credential=credential)\n",
    "\n",
    "fields = [\n",
    "    SimpleField(name=\"id\", type=SearchFieldDataType.String, key=True),\n",
    "    SearchableField(name=\"title\", type=SearchFieldDataType.String,\n",
    "                    searchable=True, retrievable=True),\n",
    "    SearchableField(name=\"header\", type=SearchFieldDataType.String,\n",
    "                    searchable=True, retrievable=True),\n",
    "    SearchableField(name=\"chunk\", type=SearchFieldDataType.String,\n",
    "                    searchable=True, retrievable=True),\n",
    "    SearchableField(name=\"parent_id\", type=SearchFieldDataType.String,\n",
    "                    searchable=True, retrievable=True),\n",
    "    SearchableField(name=\"chunk_id\", type=SearchFieldDataType.String,\n",
    "                    searchable=True, retrievable=True),\n",
    "    SearchField(name=\"vector\", type=SearchFieldDataType.Collection(SearchFieldDataType.Single),\n",
    "                searchable=True, vector_search_dimensions=1536, vector_search_profile_name=\"myHnswProfile\")  \n",
    "]\n",
    "\n",
    "vector_search = VectorSearch(  \n",
    "    algorithms=[  \n",
    "        HnswAlgorithmConfiguration(  \n",
    "            name=\"myHnsw\",  \n",
    "            parameters=HnswParameters(  \n",
    "                m=4,  \n",
    "                ef_construction=400,  \n",
    "                ef_search=500,  \n",
    "                metric=VectorSearchAlgorithmMetric.COSINE,  \n",
    "            ),  \n",
    "        )\n",
    "    ],  \n",
    "    profiles=[  \n",
    "        VectorSearchProfile(  \n",
    "            name=\"myHnswProfile\",  \n",
    "            algorithm_configuration_name=\"myHnsw\",\n",
    "            vectorizer=\"aoai-table-vectorizer\"\n",
    "        ),\n",
    "    ],\n",
    "    vectorizers=[\n",
    "        AzureOpenAIVectorizer(\n",
    "            name=\"aoai-table-vectorizer\",\n",
    "            azure_open_ai_parameters = AzureOpenAIParameters(\n",
    "                resource_uri = os.getenv('JP_AOAI_ENDPOINT'),\n",
    "                deployment_id = \"text-embedding-ada-002\",\n",
    "                api_key = os.getenv(\"JP_AOAI_KEY\")\n",
    "            )\n",
    "        )\n",
    "    ]\n",
    ")  \n",
    "\n",
    "semantic_search = SemanticSearch(\n",
    "    configurations = [SemanticConfiguration(\n",
    "        name=\"semantic-config\",\n",
    "        prioritized_fields=SemanticPrioritizedFields(\n",
    "            title_field=SemanticField(\n",
    "                field_name=\"title\"\n",
    "            ),\n",
    "            content_fields=[SemanticField(\n",
    "                field_name=\"chunk\"\n",
    "            )],\n",
    "            keywords_fields=[]\n",
    "        )\n",
    "    )]\n",
    ")\n",
    "\n",
    "# Create the search index\n",
    "index = SearchIndex(name=index_name, fields=fields,\n",
    "                    vector_search=vector_search, semantic_search=semantic_search)\n",
    "result = index_client.create_or_update_index(index)\n",
    "print(f' {result.name} created')"
   ]
  },
  {
   "cell_type": "markdown",
   "metadata": {},
   "source": [
    "### upload data"
   ]
  },
  {
   "cell_type": "code",
   "execution_count": 15,
   "metadata": {},
   "outputs": [],
   "source": [
    "search_client = SearchClient(endpoint=service_endpoint, index_name=index_name, credential=credential)"
   ]
  },
  {
   "cell_type": "code",
   "execution_count": 16,
   "metadata": {},
   "outputs": [
    {
     "name": "stderr",
     "output_type": "stream",
     "text": [
      "c:\\Users\\ilkim\\AppData\\Local\\miniconda3\\envs\\pf\\lib\\site-packages\\tqdm\\auto.py:21: TqdmWarning: IProgress not found. Please update jupyter and ipywidgets. See https://ipywidgets.readthedocs.io/en/stable/user_install.html\n",
      "  from .autonotebook import tqdm as notebook_tqdm\n",
      "  0%|          | 0/2 [00:00<?, ?it/s]"
     ]
    },
    {
     "name": "stderr",
     "output_type": "stream",
     "text": [
      "100%|██████████| 2/2 [00:01<00:00,  1.03it/s]\n"
     ]
    }
   ],
   "source": [
    "import json\n",
    "from tqdm.auto import tqdm\n",
    "\n",
    "count = 0\n",
    "batch_size = 20\n",
    "for i in tqdm(range(0, len(df), batch_size)):\n",
    "    # set end position of batch\n",
    "    i_end = min(i+batch_size, len(df))\n",
    "    \n",
    "    documents = df[i:i_end].apply(\n",
    "        lambda row: {'id': str(row.name), \n",
    "                     'title': row['title'], \n",
    "                     'header': row['header'],\n",
    "                     'chunk': row['chunk'],\n",
    "                     'parent_id': row['parent_id'],\n",
    "                     'chunk_id': str(row['chunk_id']),\n",
    "                     #'vector': generate_embeddings(row['chunk'])\n",
    "                     'vector': row['vector']\n",
    "                    }, axis=1).to_list()\n",
    "    \n",
    "    result = search_client.upload_documents(documents)  "
   ]
  },
  {
   "cell_type": "markdown",
   "metadata": {},
   "source": [
    "### Retrieve test"
   ]
  },
  {
   "cell_type": "code",
   "execution_count": 19,
   "metadata": {},
   "outputs": [],
   "source": [
    "#search_client = SearchClient(endpoint=service_endpoint, index_name=index_name, credential=credential)"
   ]
  },
  {
   "cell_type": "code",
   "execution_count": 17,
   "metadata": {},
   "outputs": [],
   "source": [
    "from azure.search.documents.models import VectorizableTextQuery, VectorQuery, VectorizedQuery\n",
    "from azure.search.documents.models import (\n",
    "    QueryType,\n",
    "    QueryCaptionType,\n",
    "    QueryAnswerType\n",
    ")"
   ]
  },
  {
   "cell_type": "code",
   "execution_count": 18,
   "metadata": {},
   "outputs": [],
   "source": [
    "def get_results(text):\n",
    "    vector_query = VectorizableTextQuery(text=text, k_nearest_neighbors=3, fields=\"vector\", exhaustive=True)\n",
    "    results = search_client.search(  \n",
    "        search_text=None,  \n",
    "        vector_queries= [vector_query],\n",
    "        select=[\"parent_id\", \"chunk_id\", \"chunk\", \"title\"],\n",
    "        top=3\n",
    "    )\n",
    "\n",
    "    return results"
   ]
  },
  {
   "cell_type": "code",
   "execution_count": 19,
   "metadata": {},
   "outputs": [],
   "source": [
    "from colorama import Fore, Back, Style\n",
    "\n",
    "def azsch_embed_query(query):\n",
    "    #vector_query = VectorizedQuery(vector=generate_embeddings(query), k_nearest_neighbors=3, fields=\"vector\")\n",
    "    vector_query = VectorizableTextQuery(text=query, k_nearest_neighbors=3, fields=\"vector\", exhaustive=True)\n",
    "\n",
    "    results = search_client.search(  \n",
    "        search_text=None,  \n",
    "        vector_queries=[vector_query],\n",
    "        select=[\"title\", \"chunk\", \"parent_id\", \"chunk_id\"],\n",
    "        top=3 # for limiting text search\n",
    "    ) \n",
    "\n",
    "    for result in results:  \n",
    "        print((Fore.RED if (result['@search.score'] < 0.8) else Fore.GREEN) + f\"{result['@search.score']:.10f}\" \n",
    "              + Style.RESET_ALL + f\": {result['title']} - {result['parent_id']}, {result['chunk_id']}\") \n",
    "        \n",
    "    return results"
   ]
  },
  {
   "cell_type": "code",
   "execution_count": 20,
   "metadata": {},
   "outputs": [
    {
     "name": "stdout",
     "output_type": "stream",
     "text": [
      "\u001b[32m0.8499734400\u001b[0m: 위임전결규정 - sample-khu-policy2.docx, 1\n",
      "\u001b[32m0.8485768400\u001b[0m: 위임전결규정 - sample-khu-policy2.docx, 2\n",
      "\u001b[32m0.8365778000\u001b[0m: 경희대학교학칙 - sample-khu-policy1.docx, 10\n"
     ]
    }
   ],
   "source": [
    "results = azsch_embed_query('업무 규정 중 자비 해외 출장의 전결권자는?')"
   ]
  },
  {
   "cell_type": "code",
   "execution_count": 21,
   "metadata": {},
   "outputs": [
    {
     "name": "stdout",
     "output_type": "stream",
     "text": [
      "\u001b[32m0.8335399600\u001b[0m: 위임전결규정 - sample-khu-policy2.docx, 2\n",
      "\u001b[32m0.8301927400\u001b[0m: 경희대학교학칙 - sample-khu-policy1.docx, 10\n",
      "\u001b[32m0.8284812600\u001b[0m: 위임전결규정 - sample-khu-policy2.docx, 1\n"
     ]
    }
   ],
   "source": [
    "results = azsch_embed_query('자비 해외 출장 전결권자')"
   ]
  },
  {
   "cell_type": "markdown",
   "metadata": {},
   "source": [
    "### Semantic Rerank"
   ]
  },
  {
   "cell_type": "code",
   "execution_count": 25,
   "metadata": {},
   "outputs": [],
   "source": [
    "def azsch_semantic_query(query):\n",
    "    #vector_query = VectorizedQuery(vector=generate_embeddings(query), k_nearest_neighbors=3, fields=\"vector\")\n",
    "    vector_query = VectorizableTextQuery(text=query, k_nearest_neighbors=3, fields=\"vector\", exhaustive=True)\n",
    "\n",
    "    results = search_client.search(  \n",
    "        search_text=query,\n",
    "        vector_queries=[vector_query],\n",
    "        select=[\"parent_id\", \"chunk_id\", \"chunk\", \"title\"],\n",
    "        query_type=QueryType.SEMANTIC,\n",
    "        semantic_configuration_name='semantic-config',\n",
    "        top=3\n",
    "    ) \n",
    "\n",
    "    for result in results:  \n",
    "        print(f\"{Fore.GREEN} {result['@search.reranker_score']:.10f}\" \n",
    "              + Style.RESET_ALL + f\": {result['title']} - {result['parent_id']}, {result['chunk_id']}\") \n",
    "    return results"
   ]
  },
  {
   "cell_type": "code",
   "execution_count": 26,
   "metadata": {},
   "outputs": [
    {
     "name": "stdout",
     "output_type": "stream",
     "text": [
      "\u001b[32m 2.2333793640\u001b[0m: 위임전결규정 - sample-khu-policy2.docx, 1\n",
      "\u001b[32m 1.2388173342\u001b[0m: 위임전결규정 - sample-khu-policy2.docx, 2\n",
      "\u001b[32m 0.9546567798\u001b[0m: 경희대학교학칙 - sample-khu-policy1.docx, 20\n"
     ]
    }
   ],
   "source": [
    "results = azsch_semantic_query('업무 규정 중 자비 해외 출장의 전결권자는?')"
   ]
  },
  {
   "cell_type": "code",
   "execution_count": 27,
   "metadata": {},
   "outputs": [
    {
     "name": "stdout",
     "output_type": "stream",
     "text": [
      "\u001b[32m 1.8872740269\u001b[0m: 위임전결규정 - sample-khu-policy2.docx, 1\n",
      "\u001b[32m 0.9194239378\u001b[0m: 위임전결규정 - sample-khu-policy2.docx, 2\n",
      "\u001b[32m 0.3572303355\u001b[0m: 경희대학교학칙 - sample-khu-policy1.docx, 10\n"
     ]
    }
   ],
   "source": [
    "results = azsch_semantic_query('자비 해외 출장 전결권자')"
   ]
  },
  {
   "cell_type": "code",
   "execution_count": 28,
   "metadata": {},
   "outputs": [],
   "source": [
    "def azsch_text_query(query):\n",
    "    # Text Search\n",
    "    results = search_client.search(  \n",
    "        search_text=query,  \n",
    "        vector_queries=None,\n",
    "        select=[\"parent_id\", \"chunk_id\", \"chunk\", \"title\"],\n",
    "        top=3\n",
    "    )  \n",
    "    \n",
    "    for result in results:  \n",
    "        print(f\"{Fore.GREEN} {result['@search.score']}\"\n",
    "            + Style.RESET_ALL + f\": {result['title']} - {result['parent_id']}, {result['chunk_id']}\") \n",
    "        #print(f\"Content: {result['chunk']}\")\n",
    "\n",
    "    return results"
   ]
  },
  {
   "cell_type": "code",
   "execution_count": 29,
   "metadata": {},
   "outputs": [
    {
     "name": "stdout",
     "output_type": "stream",
     "text": [
      "\u001b[32m 2.4520986\u001b[0m: 위임전결규정 - sample-khu-policy2.docx, 2\n",
      "\u001b[32m 2.0628278\u001b[0m: 경희대학교학칙 - sample-khu-policy1.docx, 13\n",
      "\u001b[32m 1.4823178\u001b[0m: 경희대학교학칙 - sample-khu-policy1.docx, 24\n"
     ]
    }
   ],
   "source": [
    "results = azsch_text_query('업무 규정 중 자비 해외 출장의 전결권자는?')"
   ]
  },
  {
   "cell_type": "code",
   "execution_count": 30,
   "metadata": {},
   "outputs": [
    {
     "name": "stdout",
     "output_type": "stream",
     "text": [
      "\u001b[32m 2.162065\u001b[0m: 위임전결규정 - sample-khu-policy2.docx, 2\n",
      "\u001b[32m 0.8095889\u001b[0m: 위임전결규정 - sample-khu-policy2.docx, 1\n"
     ]
    }
   ],
   "source": [
    "results = azsch_text_query('자비 해외 출장 전결권자')"
   ]
  }
 ],
 "metadata": {
  "kernelspec": {
   "display_name": "pf",
   "language": "python",
   "name": "python3"
  },
  "language_info": {
   "codemirror_mode": {
    "name": "ipython",
    "version": 3
   },
   "file_extension": ".py",
   "mimetype": "text/x-python",
   "name": "python",
   "nbconvert_exporter": "python",
   "pygments_lexer": "ipython3",
   "version": "3.9.18"
  }
 },
 "nbformat": 4,
 "nbformat_minor": 2
}
