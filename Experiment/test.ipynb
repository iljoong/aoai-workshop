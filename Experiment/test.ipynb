{
 "cells": [
  {
   "cell_type": "code",
   "execution_count": null,
   "metadata": {},
   "outputs": [],
   "source": [
    "from utils import load_module, read_files_from_directory"
   ]
  },
  {
   "cell_type": "code",
   "execution_count": 100,
   "metadata": {},
   "outputs": [],
   "source": [
    "tool, manifest = load_module(\"./tools/finance.py\", \"get_current_stock_price\")"
   ]
  },
  {
   "cell_type": "code",
   "execution_count": 101,
   "metadata": {},
   "outputs": [
    {
     "data": {
      "text/plain": [
       "{'name': 'get_current_stock_price',\n",
       " 'description': 'get the current stock price of ticker symbol',\n",
       " 'parameters': {'type': 'object',\n",
       "  'properties': {'stock_symbol': {'type': 'string',\n",
       "    'description': 'The symbol of the finance ticker, e.g., MSFT, AAPL, GOOGL'}},\n",
       "  'required': ['stock_symbol']}}"
      ]
     },
     "execution_count": 101,
     "metadata": {},
     "output_type": "execute_result"
    }
   ],
   "source": [
    "manifest"
   ]
  },
  {
   "cell_type": "code",
   "execution_count": 102,
   "metadata": {},
   "outputs": [],
   "source": [
    "# read all tools from the `tools`` directory\n",
    "tools_files = read_files_from_directory('./tools')\n",
    "tools = {}\n",
    "for f in tools_files:\n",
    "    tool, manifest = load_module(f)\n",
    "    tools[manifest['name']] = {\"tool\": tool, \"manifest\": manifest}"
   ]
  },
  {
   "cell_type": "code",
   "execution_count": 103,
   "metadata": {},
   "outputs": [
    {
     "data": {
      "text/plain": [
       "{'get_current_stock_price': {'tool': <function gensym_eCWNZNa0g8ICx81ZqyyOs0T3ukPbTeAt.get_current_stock_price(stock_symbol)>,\n",
       "  'manifest': {'name': 'get_current_stock_price',\n",
       "   'description': 'get the current stock price of ticker symbol',\n",
       "   'parameters': {'type': 'object',\n",
       "    'properties': {'stock_symbol': {'type': 'string',\n",
       "      'description': 'The symbol of the finance ticker, e.g., MSFT, AAPL, GOOGL'}},\n",
       "    'required': ['stock_symbol']}}},\n",
       " 'get_current_weather': {'tool': <function gensym_Tq6kbDAnQScByNEWnWhczRnDrdOXMWaF.get_current_weather(location)>,\n",
       "  'manifest': {'name': 'get_current_weather',\n",
       "   'description': 'get the current weather in a given location',\n",
       "   'parameters': {'type': 'object',\n",
       "    'properties': {'location': {'type': 'string',\n",
       "      'description': 'The city and state or city and country, e.g., `Seoul`, `Sydney` or `Tokyo``'}},\n",
       "    'required': ['location']}}}}"
      ]
     },
     "execution_count": 103,
     "metadata": {},
     "output_type": "execute_result"
    }
   ],
   "source": [
    "tools"
   ]
  },
  {
   "cell_type": "code",
   "execution_count": 104,
   "metadata": {},
   "outputs": [
    {
     "data": {
      "text/plain": [
       "{'tool': <function gensym_eCWNZNa0g8ICx81ZqyyOs0T3ukPbTeAt.get_current_stock_price(stock_symbol)>,\n",
       " 'manifest': {'name': 'get_current_stock_price',\n",
       "  'description': 'get the current stock price of ticker symbol',\n",
       "  'parameters': {'type': 'object',\n",
       "   'properties': {'stock_symbol': {'type': 'string',\n",
       "     'description': 'The symbol of the finance ticker, e.g., MSFT, AAPL, GOOGL'}},\n",
       "   'required': ['stock_symbol']}}}"
      ]
     },
     "execution_count": 104,
     "metadata": {},
     "output_type": "execute_result"
    }
   ],
   "source": [
    "tools['get_current_stock_price']"
   ]
  },
  {
   "cell_type": "code",
   "execution_count": null,
   "metadata": {},
   "outputs": [],
   "source": []
  }
 ],
 "metadata": {
  "kernelspec": {
   "display_name": "pf",
   "language": "python",
   "name": "python3"
  },
  "language_info": {
   "codemirror_mode": {
    "name": "ipython",
    "version": 3
   },
   "file_extension": ".py",
   "mimetype": "text/x-python",
   "name": "python",
   "nbconvert_exporter": "python",
   "pygments_lexer": "ipython3",
   "version": "3.9.18"
  }
 },
 "nbformat": 4,
 "nbformat_minor": 2
}
